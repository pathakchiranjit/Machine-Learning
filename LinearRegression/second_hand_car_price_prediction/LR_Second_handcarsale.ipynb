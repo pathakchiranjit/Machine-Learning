{
  "nbformat": 4,
  "nbformat_minor": 0,
  "metadata": {
    "kernelspec": {
      "display_name": "Python 3",
      "language": "python",
      "name": "python3"
    },
    "language_info": {
      "codemirror_mode": {
        "name": "ipython",
        "version": 3
      },
      "file_extension": ".py",
      "mimetype": "text/x-python",
      "name": "python",
      "nbconvert_exporter": "python",
      "pygments_lexer": "ipython3",
      "version": "3.7.6"
    },
    "colab": {
      "name": "LR_Second_handcarsale.ipynb",
      "provenance": [],
      "collapsed_sections": []
    }
  },
  "cells": [
    {
      "cell_type": "markdown",
      "metadata": {
        "id": "Go78mgBS7nkE"
      },
      "source": [
        "\n",
        "# LINEAR REGRESSION"
      ]
    },
    {
      "cell_type": "markdown",
      "metadata": {
        "id": "D_t46Vaz7nkF"
      },
      "source": [
        "## Table of Content\n",
        "\n",
        "1. [Problem Statement](#section1)<br>\n",
        "2. [Data Loading and Description](#section2)<br>\n",
        "3. [Exploratory Data Analysis](#section3)<br>\n",
        "4. [Training and testing the Model](#section4)<br>\n",
        "    - 4.1 [Splitting data into training and test datasets](#section401)<br>\n",
        "    - 4.2 [Linear regression in scikit-learn](#section402)<br>\n",
        "    - 4.3 [Interpreting Model Coefficients](#section403)<br>\n",
        "    - 4.4 [Using the Model for Prediction](#section404)<br>\n",
        "    \n",
        "5. [Model evaluation](#section5)<br>\n",
        "    - 5.1 [Model evaluation using metrics](#section501)<br>\n",
        "    - 5.2 [Model Evaluation using Rsquared value.](#section502)<br>\n",
        "6. [Standardisation of data](#section6)<br>\n",
        "7. [Feature Selection](#section7)<br>\n",
        "8. [Handling Categorical Features](#section8)<br>"
      ]
    },
    {
      "cell_type": "markdown",
      "metadata": {
        "id": "xPYyCy1y7nkG"
      },
      "source": [
        "<a id=section1></a>"
      ]
    },
    {
      "cell_type": "markdown",
      "metadata": {
        "id": "1dmB2M3L7nkH"
      },
      "source": [
        "## 1. Problem Statement\n",
        "\n",
        "__Current Price__ for second hand car as a __function__ of __some operating parameters__ . In our role as __Data Scientist__ we are asked to suggest.\n",
        "\n",
        "- We want to find a function that given input as parameters and will __predicts the output sales__.\n",
        "\n",
        "- Which parameters __contribute__ more to current price?\n",
        "\n",
        "- Visualize the __relationship__ between the _features_ and the _response_ using scatter plots."
      ]
    },
    {
      "cell_type": "markdown",
      "metadata": {
        "id": "BfOOw9fi7nkJ"
      },
      "source": [
        "<a id=section2></a>"
      ]
    },
    {
      "cell_type": "markdown",
      "metadata": {
        "id": "Sfcru-7f7nkK"
      },
      "source": [
        "## 2. Data Loading and Description\n",
        "\n",
        "The dataset captures current price of the second hand car from Github.\n"
      ]
    },
    {
      "cell_type": "markdown",
      "metadata": {
        "id": "4E7cu34n7nkL"
      },
      "source": [
        "__Importing Packages__"
      ]
    },
    {
      "cell_type": "code",
      "metadata": {
        "id": "qCXAI6co7nkL"
      },
      "source": [
        "import pandas as pd\n",
        "import seaborn as sns\n",
        "import matplotlib.pyplot as plt\n",
        "import warnings\n",
        "warnings.filterwarnings('ignore')\n",
        "import numpy as np\n",
        "\n",
        "# allow plots to appear directly in the notebook\n",
        "%matplotlib inline"
      ],
      "execution_count": null,
      "outputs": []
    },
    {
      "cell_type": "markdown",
      "metadata": {
        "id": "MyBDZxqD7nkR"
      },
      "source": [
        "#### Importing the Dataset"
      ]
    },
    {
      "cell_type": "code",
      "metadata": {
        "id": "bgYR5hXL7nkR",
        "colab": {
          "base_uri": "https://localhost:8080/",
          "height": 359
        },
        "outputId": "8abb814e-9d48-4603-9d52-93527667e3cd"
      },
      "source": [
        "data = pd.read_csv('https://raw.githubusercontent.com/pathakchiranjit/Machine-Learning/main/LinearRegression/Data/train.csv')\n",
        "data.head(10)"
      ],
      "execution_count": null,
      "outputs": [
        {
          "output_type": "execute_result",
          "data": {
            "text/html": [
              "<div>\n",
              "<style scoped>\n",
              "    .dataframe tbody tr th:only-of-type {\n",
              "        vertical-align: middle;\n",
              "    }\n",
              "\n",
              "    .dataframe tbody tr th {\n",
              "        vertical-align: top;\n",
              "    }\n",
              "\n",
              "    .dataframe thead th {\n",
              "        text-align: right;\n",
              "    }\n",
              "</style>\n",
              "<table border=\"1\" class=\"dataframe\">\n",
              "  <thead>\n",
              "    <tr style=\"text-align: right;\">\n",
              "      <th></th>\n",
              "      <th>v.id</th>\n",
              "      <th>on road old</th>\n",
              "      <th>on road now</th>\n",
              "      <th>years</th>\n",
              "      <th>km</th>\n",
              "      <th>rating</th>\n",
              "      <th>condition</th>\n",
              "      <th>economy</th>\n",
              "      <th>top speed</th>\n",
              "      <th>hp</th>\n",
              "      <th>torque</th>\n",
              "      <th>current price</th>\n",
              "    </tr>\n",
              "  </thead>\n",
              "  <tbody>\n",
              "    <tr>\n",
              "      <th>0</th>\n",
              "      <td>1</td>\n",
              "      <td>535651</td>\n",
              "      <td>798186</td>\n",
              "      <td>3</td>\n",
              "      <td>78945</td>\n",
              "      <td>1</td>\n",
              "      <td>2</td>\n",
              "      <td>14</td>\n",
              "      <td>177</td>\n",
              "      <td>73</td>\n",
              "      <td>123</td>\n",
              "      <td>351318.0</td>\n",
              "    </tr>\n",
              "    <tr>\n",
              "      <th>1</th>\n",
              "      <td>2</td>\n",
              "      <td>591911</td>\n",
              "      <td>861056</td>\n",
              "      <td>6</td>\n",
              "      <td>117220</td>\n",
              "      <td>5</td>\n",
              "      <td>9</td>\n",
              "      <td>9</td>\n",
              "      <td>148</td>\n",
              "      <td>74</td>\n",
              "      <td>95</td>\n",
              "      <td>285001.5</td>\n",
              "    </tr>\n",
              "    <tr>\n",
              "      <th>2</th>\n",
              "      <td>3</td>\n",
              "      <td>686990</td>\n",
              "      <td>770762</td>\n",
              "      <td>2</td>\n",
              "      <td>132538</td>\n",
              "      <td>2</td>\n",
              "      <td>8</td>\n",
              "      <td>15</td>\n",
              "      <td>181</td>\n",
              "      <td>53</td>\n",
              "      <td>97</td>\n",
              "      <td>215386.0</td>\n",
              "    </tr>\n",
              "    <tr>\n",
              "      <th>3</th>\n",
              "      <td>4</td>\n",
              "      <td>573999</td>\n",
              "      <td>722381</td>\n",
              "      <td>4</td>\n",
              "      <td>101065</td>\n",
              "      <td>4</td>\n",
              "      <td>3</td>\n",
              "      <td>11</td>\n",
              "      <td>197</td>\n",
              "      <td>54</td>\n",
              "      <td>116</td>\n",
              "      <td>244295.5</td>\n",
              "    </tr>\n",
              "    <tr>\n",
              "      <th>4</th>\n",
              "      <td>5</td>\n",
              "      <td>691388</td>\n",
              "      <td>811335</td>\n",
              "      <td>6</td>\n",
              "      <td>61559</td>\n",
              "      <td>3</td>\n",
              "      <td>9</td>\n",
              "      <td>12</td>\n",
              "      <td>160</td>\n",
              "      <td>53</td>\n",
              "      <td>105</td>\n",
              "      <td>531114.5</td>\n",
              "    </tr>\n",
              "    <tr>\n",
              "      <th>5</th>\n",
              "      <td>6</td>\n",
              "      <td>650007</td>\n",
              "      <td>844846</td>\n",
              "      <td>6</td>\n",
              "      <td>148846</td>\n",
              "      <td>2</td>\n",
              "      <td>9</td>\n",
              "      <td>13</td>\n",
              "      <td>138</td>\n",
              "      <td>61</td>\n",
              "      <td>109</td>\n",
              "      <td>177933.5</td>\n",
              "    </tr>\n",
              "    <tr>\n",
              "      <th>6</th>\n",
              "      <td>7</td>\n",
              "      <td>633344</td>\n",
              "      <td>756063</td>\n",
              "      <td>5</td>\n",
              "      <td>78025</td>\n",
              "      <td>1</td>\n",
              "      <td>9</td>\n",
              "      <td>15</td>\n",
              "      <td>171</td>\n",
              "      <td>94</td>\n",
              "      <td>132</td>\n",
              "      <td>410877.0</td>\n",
              "    </tr>\n",
              "    <tr>\n",
              "      <th>7</th>\n",
              "      <td>8</td>\n",
              "      <td>662990</td>\n",
              "      <td>891569</td>\n",
              "      <td>6</td>\n",
              "      <td>76546</td>\n",
              "      <td>1</td>\n",
              "      <td>2</td>\n",
              "      <td>12</td>\n",
              "      <td>146</td>\n",
              "      <td>109</td>\n",
              "      <td>96</td>\n",
              "      <td>467471.5</td>\n",
              "    </tr>\n",
              "    <tr>\n",
              "      <th>8</th>\n",
              "      <td>9</td>\n",
              "      <td>543184</td>\n",
              "      <td>841354</td>\n",
              "      <td>7</td>\n",
              "      <td>57662</td>\n",
              "      <td>4</td>\n",
              "      <td>7</td>\n",
              "      <td>14</td>\n",
              "      <td>151</td>\n",
              "      <td>50</td>\n",
              "      <td>132</td>\n",
              "      <td>462397.5</td>\n",
              "    </tr>\n",
              "    <tr>\n",
              "      <th>9</th>\n",
              "      <td>10</td>\n",
              "      <td>573043</td>\n",
              "      <td>879481</td>\n",
              "      <td>2</td>\n",
              "      <td>132347</td>\n",
              "      <td>2</td>\n",
              "      <td>3</td>\n",
              "      <td>12</td>\n",
              "      <td>200</td>\n",
              "      <td>115</td>\n",
              "      <td>82</td>\n",
              "      <td>197266.0</td>\n",
              "    </tr>\n",
              "  </tbody>\n",
              "</table>\n",
              "</div>"
            ],
            "text/plain": [
              "   v.id  on road old  on road now  years  ...  top speed   hp  torque  current price\n",
              "0     1       535651       798186      3  ...        177   73     123       351318.0\n",
              "1     2       591911       861056      6  ...        148   74      95       285001.5\n",
              "2     3       686990       770762      2  ...        181   53      97       215386.0\n",
              "3     4       573999       722381      4  ...        197   54     116       244295.5\n",
              "4     5       691388       811335      6  ...        160   53     105       531114.5\n",
              "5     6       650007       844846      6  ...        138   61     109       177933.5\n",
              "6     7       633344       756063      5  ...        171   94     132       410877.0\n",
              "7     8       662990       891569      6  ...        146  109      96       467471.5\n",
              "8     9       543184       841354      7  ...        151   50     132       462397.5\n",
              "9    10       573043       879481      2  ...        200  115      82       197266.0\n",
              "\n",
              "[10 rows x 12 columns]"
            ]
          },
          "metadata": {
            "tags": []
          },
          "execution_count": 2
        }
      ]
    },
    {
      "cell_type": "code",
      "metadata": {
        "id": "u7z9XvtM7nkb",
        "colab": {
          "base_uri": "https://localhost:8080/",
          "height": 34
        },
        "outputId": "1e3d89db-1dcc-4e38-aa8f-6c9d6f4b2029"
      },
      "source": [
        "data.shape"
      ],
      "execution_count": null,
      "outputs": [
        {
          "output_type": "execute_result",
          "data": {
            "text/plain": [
              "(1000, 12)"
            ]
          },
          "metadata": {
            "tags": []
          },
          "execution_count": 3
        }
      ]
    },
    {
      "cell_type": "markdown",
      "metadata": {
        "id": "O6JIrQBP7nkf"
      },
      "source": [
        "What are the **features**?\n",
        "- on road old\t\n",
        "- on road now\t\n",
        "- years\t\n",
        "- km\t\n",
        "- rating\n",
        "- condition\t\n",
        "- economy\t\n",
        "- top speed\t\n",
        "- hp\t\n",
        "- torque\n",
        "\n",
        "What is the **response**?\n",
        "- \tcurrent price"
      ]
    },
    {
      "cell_type": "markdown",
      "metadata": {
        "id": "eu9GFnAk7nkf"
      },
      "source": [
        "<a id=section3></a>"
      ]
    },
    {
      "cell_type": "markdown",
      "metadata": {
        "id": "z1WZ61j67nkg"
      },
      "source": [
        "## 3. Exploratory Data Analysis"
      ]
    },
    {
      "cell_type": "code",
      "metadata": {
        "id": "1TZBsk637nkh",
        "colab": {
          "base_uri": "https://localhost:8080/",
          "height": 340
        },
        "outputId": "b32e445e-69f9-4300-bfcd-a840186f4296"
      },
      "source": [
        "data.info()"
      ],
      "execution_count": null,
      "outputs": [
        {
          "output_type": "stream",
          "text": [
            "<class 'pandas.core.frame.DataFrame'>\n",
            "RangeIndex: 1000 entries, 0 to 999\n",
            "Data columns (total 12 columns):\n",
            " #   Column         Non-Null Count  Dtype  \n",
            "---  ------         --------------  -----  \n",
            " 0   v.id           1000 non-null   int64  \n",
            " 1   on road old    1000 non-null   int64  \n",
            " 2   on road now    1000 non-null   int64  \n",
            " 3   years          1000 non-null   int64  \n",
            " 4   km             1000 non-null   int64  \n",
            " 5   rating         1000 non-null   int64  \n",
            " 6   condition      1000 non-null   int64  \n",
            " 7   economy        1000 non-null   int64  \n",
            " 8   top speed      1000 non-null   int64  \n",
            " 9   hp             1000 non-null   int64  \n",
            " 10  torque         1000 non-null   int64  \n",
            " 11  current price  1000 non-null   float64\n",
            "dtypes: float64(1), int64(11)\n",
            "memory usage: 93.9 KB\n"
          ],
          "name": "stdout"
        }
      ]
    },
    {
      "cell_type": "code",
      "metadata": {
        "scrolled": true,
        "id": "dFFoKfcF7nkk",
        "colab": {
          "base_uri": "https://localhost:8080/",
          "height": 297
        },
        "outputId": "01f4ee51-f2bc-4a32-ef9a-a0f38d8f3536"
      },
      "source": [
        "data.describe()"
      ],
      "execution_count": null,
      "outputs": [
        {
          "output_type": "execute_result",
          "data": {
            "text/html": [
              "<div>\n",
              "<style scoped>\n",
              "    .dataframe tbody tr th:only-of-type {\n",
              "        vertical-align: middle;\n",
              "    }\n",
              "\n",
              "    .dataframe tbody tr th {\n",
              "        vertical-align: top;\n",
              "    }\n",
              "\n",
              "    .dataframe thead th {\n",
              "        text-align: right;\n",
              "    }\n",
              "</style>\n",
              "<table border=\"1\" class=\"dataframe\">\n",
              "  <thead>\n",
              "    <tr style=\"text-align: right;\">\n",
              "      <th></th>\n",
              "      <th>v.id</th>\n",
              "      <th>on road old</th>\n",
              "      <th>on road now</th>\n",
              "      <th>years</th>\n",
              "      <th>km</th>\n",
              "      <th>rating</th>\n",
              "      <th>condition</th>\n",
              "      <th>economy</th>\n",
              "      <th>top speed</th>\n",
              "      <th>hp</th>\n",
              "      <th>torque</th>\n",
              "      <th>current price</th>\n",
              "    </tr>\n",
              "  </thead>\n",
              "  <tbody>\n",
              "    <tr>\n",
              "      <th>count</th>\n",
              "      <td>1000.000000</td>\n",
              "      <td>1000.000000</td>\n",
              "      <td>1000.0000</td>\n",
              "      <td>1000.000000</td>\n",
              "      <td>1000.000000</td>\n",
              "      <td>1000.000000</td>\n",
              "      <td>1000.000000</td>\n",
              "      <td>1000.000000</td>\n",
              "      <td>1000.00000</td>\n",
              "      <td>1000.00000</td>\n",
              "      <td>1000.000000</td>\n",
              "      <td>1000.00000</td>\n",
              "    </tr>\n",
              "    <tr>\n",
              "      <th>mean</th>\n",
              "      <td>500.500000</td>\n",
              "      <td>601648.286000</td>\n",
              "      <td>799131.3970</td>\n",
              "      <td>4.561000</td>\n",
              "      <td>100274.430000</td>\n",
              "      <td>2.988000</td>\n",
              "      <td>5.592000</td>\n",
              "      <td>11.625000</td>\n",
              "      <td>166.89300</td>\n",
              "      <td>84.54600</td>\n",
              "      <td>103.423000</td>\n",
              "      <td>308520.24250</td>\n",
              "    </tr>\n",
              "    <tr>\n",
              "      <th>std</th>\n",
              "      <td>288.819436</td>\n",
              "      <td>58407.246204</td>\n",
              "      <td>57028.9502</td>\n",
              "      <td>1.719079</td>\n",
              "      <td>29150.463233</td>\n",
              "      <td>1.402791</td>\n",
              "      <td>2.824449</td>\n",
              "      <td>2.230549</td>\n",
              "      <td>19.28838</td>\n",
              "      <td>20.51694</td>\n",
              "      <td>21.058716</td>\n",
              "      <td>126073.25915</td>\n",
              "    </tr>\n",
              "    <tr>\n",
              "      <th>min</th>\n",
              "      <td>1.000000</td>\n",
              "      <td>500265.000000</td>\n",
              "      <td>700018.0000</td>\n",
              "      <td>2.000000</td>\n",
              "      <td>50324.000000</td>\n",
              "      <td>1.000000</td>\n",
              "      <td>1.000000</td>\n",
              "      <td>8.000000</td>\n",
              "      <td>135.00000</td>\n",
              "      <td>50.00000</td>\n",
              "      <td>68.000000</td>\n",
              "      <td>28226.50000</td>\n",
              "    </tr>\n",
              "    <tr>\n",
              "      <th>25%</th>\n",
              "      <td>250.750000</td>\n",
              "      <td>548860.500000</td>\n",
              "      <td>750997.7500</td>\n",
              "      <td>3.000000</td>\n",
              "      <td>74367.500000</td>\n",
              "      <td>2.000000</td>\n",
              "      <td>3.000000</td>\n",
              "      <td>10.000000</td>\n",
              "      <td>150.00000</td>\n",
              "      <td>67.00000</td>\n",
              "      <td>85.000000</td>\n",
              "      <td>206871.75000</td>\n",
              "    </tr>\n",
              "    <tr>\n",
              "      <th>50%</th>\n",
              "      <td>500.500000</td>\n",
              "      <td>601568.000000</td>\n",
              "      <td>798168.0000</td>\n",
              "      <td>5.000000</td>\n",
              "      <td>100139.500000</td>\n",
              "      <td>3.000000</td>\n",
              "      <td>6.000000</td>\n",
              "      <td>12.000000</td>\n",
              "      <td>166.00000</td>\n",
              "      <td>84.00000</td>\n",
              "      <td>104.000000</td>\n",
              "      <td>306717.75000</td>\n",
              "    </tr>\n",
              "    <tr>\n",
              "      <th>75%</th>\n",
              "      <td>750.250000</td>\n",
              "      <td>652267.250000</td>\n",
              "      <td>847563.2500</td>\n",
              "      <td>6.000000</td>\n",
              "      <td>125048.000000</td>\n",
              "      <td>4.000000</td>\n",
              "      <td>8.000000</td>\n",
              "      <td>13.000000</td>\n",
              "      <td>184.00000</td>\n",
              "      <td>102.00000</td>\n",
              "      <td>121.000000</td>\n",
              "      <td>414260.87500</td>\n",
              "    </tr>\n",
              "    <tr>\n",
              "      <th>max</th>\n",
              "      <td>1000.000000</td>\n",
              "      <td>699859.000000</td>\n",
              "      <td>899797.0000</td>\n",
              "      <td>7.000000</td>\n",
              "      <td>149902.000000</td>\n",
              "      <td>5.000000</td>\n",
              "      <td>10.000000</td>\n",
              "      <td>15.000000</td>\n",
              "      <td>200.00000</td>\n",
              "      <td>120.00000</td>\n",
              "      <td>140.000000</td>\n",
              "      <td>584267.50000</td>\n",
              "    </tr>\n",
              "  </tbody>\n",
              "</table>\n",
              "</div>"
            ],
            "text/plain": [
              "              v.id    on road old  ...       torque  current price\n",
              "count  1000.000000    1000.000000  ...  1000.000000     1000.00000\n",
              "mean    500.500000  601648.286000  ...   103.423000   308520.24250\n",
              "std     288.819436   58407.246204  ...    21.058716   126073.25915\n",
              "min       1.000000  500265.000000  ...    68.000000    28226.50000\n",
              "25%     250.750000  548860.500000  ...    85.000000   206871.75000\n",
              "50%     500.500000  601568.000000  ...   104.000000   306717.75000\n",
              "75%     750.250000  652267.250000  ...   121.000000   414260.87500\n",
              "max    1000.000000  699859.000000  ...   140.000000   584267.50000\n",
              "\n",
              "[8 rows x 12 columns]"
            ]
          },
          "metadata": {
            "tags": []
          },
          "execution_count": 5
        }
      ]
    },
    {
      "cell_type": "code",
      "metadata": {
        "id": "IbqBGyMV7nko"
      },
      "source": [
        "#import dtale"
      ],
      "execution_count": null,
      "outputs": []
    },
    {
      "cell_type": "code",
      "metadata": {
        "id": "QitsUskT7nkw"
      },
      "source": [
        "#df = data.copy()"
      ],
      "execution_count": null,
      "outputs": []
    },
    {
      "cell_type": "code",
      "metadata": {
        "id": "gfb0E0Zq7nkz"
      },
      "source": [
        "#dtale.show(df, ignore_duplicate=True)"
      ],
      "execution_count": null,
      "outputs": []
    },
    {
      "cell_type": "code",
      "metadata": {
        "id": "RAA320N_7nk3",
        "colab": {
          "base_uri": "https://localhost:8080/",
          "height": 68
        },
        "outputId": "a3741f11-4489-4acb-bda7-003bc1dbc8e0"
      },
      "source": [
        "data.columns"
      ],
      "execution_count": null,
      "outputs": [
        {
          "output_type": "execute_result",
          "data": {
            "text/plain": [
              "Index(['v.id', 'on road old', 'on road now', 'years', 'km', 'rating',\n",
              "       'condition', 'economy', 'top speed', 'hp', 'torque', 'current price'],\n",
              "      dtype='object')"
            ]
          },
          "metadata": {
            "tags": []
          },
          "execution_count": 9
        }
      ]
    },
    {
      "cell_type": "markdown",
      "metadata": {
        "id": "oqOxDtKr7nk8"
      },
      "source": [
        "There are 1000 **observations**, and thus 1000 markets in the dataset."
      ]
    },
    {
      "cell_type": "markdown",
      "metadata": {
        "id": "xVtc-TE87nk9"
      },
      "source": [
        "__Distribution of Features__"
      ]
    },
    {
      "cell_type": "code",
      "metadata": {
        "id": "JUtIR6cL7nk-",
        "colab": {
          "base_uri": "https://localhost:8080/",
          "height": 470
        },
        "outputId": "c9e9a2dd-4137-42ce-d3db-8935c166fa53"
      },
      "source": [
        "f, axes = plt.subplots(2, 2, figsize=(15, 7), sharex=False)            # Set up the matplotlib figure\n",
        "sns.despine(left=True)\n",
        "\n",
        "sns.distplot(data['current price'], color=\"b\", ax=axes[0, 0])\n",
        "\n",
        "sns.distplot(data['on road old'], color=\"r\", ax=axes[0, 1])\n",
        "\n",
        "sns.distplot(data['on road now'], color=\"g\", ax=axes[1, 0])\n",
        "\n",
        "sns.distplot(data['km'], color=\"m\", ax=axes[1, 1])"
      ],
      "execution_count": null,
      "outputs": [
        {
          "output_type": "execute_result",
          "data": {
            "text/plain": [
              "<matplotlib.axes._subplots.AxesSubplot at 0x7f16fc5678d0>"
            ]
          },
          "metadata": {
            "tags": []
          },
          "execution_count": 10
        },
        {
          "output_type": "display_data",
          "data": {
            "image/png": "[encoded data removed]",
            "text/plain": [
              "<Figure size 1080x504 with 4 Axes>"
            ]
          },
          "metadata": {
            "tags": [],
            "needs_background": "light"
          }
        }
      ]
    },
    {
      "cell_type": "markdown",
      "metadata": {
        "id": "qOg0y2gn7nlC"
      },
      "source": [
        "### Is there a relationship between target and features?"
      ]
    },
    {
      "cell_type": "code",
      "metadata": {
        "id": "C095_7K37nlC",
        "colab": {
          "base_uri": "https://localhost:8080/",
          "height": 441
        },
        "outputId": "cf318094-f211-4e6b-ebd9-b61d5a25b0b6"
      },
      "source": [
        "JG1 = sns.jointplot(\"km\", \"current price\", data=data, kind='reg')"
      ],
      "execution_count": null,
      "outputs": [
        {
          "output_type": "display_data",
          "data": {
            "image/png": "[encoded data removed]",
            "text/plain": [
              "<Figure size 432x432 with 3 Axes>"
            ]
          },
          "metadata": {
            "tags": [],
            "needs_background": "light"
          }
        }
      ]
    },
    {
      "cell_type": "code",
      "metadata": {
        "id": "76iPbmzu7nlG",
        "colab": {
          "base_uri": "https://localhost:8080/",
          "height": 441
        },
        "outputId": "f691d1fe-a961-43fb-ed2e-5e29af00243a"
      },
      "source": [
        "JG2 = sns.jointplot(\"on road now\", \"current price\", data=data, kind='reg')"
      ],
      "execution_count": null,
      "outputs": [
        {
          "output_type": "display_data",
          "data": {
            "image/png": "[encoded data removed]",
            "text/plain": [
              "<Figure size 432x432 with 3 Axes>"
            ]
          },
          "metadata": {
            "tags": [],
            "needs_background": "light"
          }
        }
      ]
    },
    {
      "cell_type": "code",
      "metadata": {
        "id": "Z6yOjXYj7nlK",
        "colab": {
          "base_uri": "https://localhost:8080/",
          "height": 441
        },
        "outputId": "b0722bca-f229-4d3f-feac-7a5e8292a325"
      },
      "source": [
        "JG3 = sns.jointplot(\"on road old\", \"current price\", data=data, kind='reg')"
      ],
      "execution_count": null,
      "outputs": [
        {
          "output_type": "display_data",
          "data": {
            "image/png": "[encoded data removed]",
            "text/plain": [
              "<Figure size 432x432 with 3 Axes>"
            ]
          },
          "metadata": {
            "tags": [],
            "needs_background": "light"
          }
        }
      ]
    },
    {
      "cell_type": "code",
      "metadata": {
        "id": "XqjZQPYw7nlP"
      },
      "source": [
        "#JG4 = sns.jointplot(\"rating\", \"current price\", data=data, kind='reg')"
      ],
      "execution_count": null,
      "outputs": []
    },
    {
      "cell_type": "markdown",
      "metadata": {
        "id": "6jDUJjjQ7nlT"
      },
      "source": [
        "__Observation__<br/>\n",
        "_km_ is __highly and negetively__ correlaed where are _others features_ __mildly correlated__."
      ]
    },
    {
      "cell_type": "markdown",
      "metadata": {
        "id": "3hR_uHF97nlT"
      },
      "source": [
        "### Visualising Pairwise correlation"
      ]
    },
    {
      "cell_type": "code",
      "metadata": {
        "scrolled": false,
        "id": "8E8oTp2E7nlU",
        "colab": {
          "base_uri": "https://localhost:8080/",
          "height": 421
        },
        "outputId": "f884411b-32ff-41bb-a2c7-2c1300e150e8"
      },
      "source": [
        "#sns.pairplot(data, height = 2, aspect = 1.5)\n",
        "data.corr()"
      ],
      "execution_count": null,
      "outputs": [
        {
          "output_type": "execute_result",
          "data": {
            "text/html": [
              "<div>\n",
              "<style scoped>\n",
              "    .dataframe tbody tr th:only-of-type {\n",
              "        vertical-align: middle;\n",
              "    }\n",
              "\n",
              "    .dataframe tbody tr th {\n",
              "        vertical-align: top;\n",
              "    }\n",
              "\n",
              "    .dataframe thead th {\n",
              "        text-align: right;\n",
              "    }\n",
              "</style>\n",
              "<table border=\"1\" class=\"dataframe\">\n",
              "  <thead>\n",
              "    <tr style=\"text-align: right;\">\n",
              "      <th></th>\n",
              "      <th>v.id</th>\n",
              "      <th>on road old</th>\n",
              "      <th>on road now</th>\n",
              "      <th>years</th>\n",
              "      <th>km</th>\n",
              "      <th>rating</th>\n",
              "      <th>condition</th>\n",
              "      <th>economy</th>\n",
              "      <th>top speed</th>\n",
              "      <th>hp</th>\n",
              "      <th>torque</th>\n",
              "      <th>current price</th>\n",
              "    </tr>\n",
              "  </thead>\n",
              "  <tbody>\n",
              "    <tr>\n",
              "      <th>v.id</th>\n",
              "      <td>1.000000</td>\n",
              "      <td>-0.029926</td>\n",
              "      <td>-0.030787</td>\n",
              "      <td>-0.034255</td>\n",
              "      <td>0.047400</td>\n",
              "      <td>-0.018263</td>\n",
              "      <td>-0.038548</td>\n",
              "      <td>0.047137</td>\n",
              "      <td>0.001613</td>\n",
              "      <td>-0.006997</td>\n",
              "      <td>-0.000632</td>\n",
              "      <td>-0.059460</td>\n",
              "    </tr>\n",
              "    <tr>\n",
              "      <th>on road old</th>\n",
              "      <td>-0.029926</td>\n",
              "      <td>1.000000</td>\n",
              "      <td>0.034113</td>\n",
              "      <td>0.007207</td>\n",
              "      <td>0.007488</td>\n",
              "      <td>-0.050717</td>\n",
              "      <td>-0.015682</td>\n",
              "      <td>-0.030097</td>\n",
              "      <td>-0.023816</td>\n",
              "      <td>-0.049266</td>\n",
              "      <td>0.008950</td>\n",
              "      <td>0.233035</td>\n",
              "    </tr>\n",
              "    <tr>\n",
              "      <th>on road now</th>\n",
              "      <td>-0.030787</td>\n",
              "      <td>0.034113</td>\n",
              "      <td>1.000000</td>\n",
              "      <td>0.004609</td>\n",
              "      <td>-0.053202</td>\n",
              "      <td>0.028280</td>\n",
              "      <td>-0.005043</td>\n",
              "      <td>-0.015880</td>\n",
              "      <td>0.012699</td>\n",
              "      <td>-0.012719</td>\n",
              "      <td>0.017955</td>\n",
              "      <td>0.282793</td>\n",
              "    </tr>\n",
              "    <tr>\n",
              "      <th>years</th>\n",
              "      <td>-0.034255</td>\n",
              "      <td>0.007207</td>\n",
              "      <td>0.004609</td>\n",
              "      <td>1.000000</td>\n",
              "      <td>-0.002089</td>\n",
              "      <td>0.027285</td>\n",
              "      <td>0.053579</td>\n",
              "      <td>0.050220</td>\n",
              "      <td>0.025148</td>\n",
              "      <td>-0.003272</td>\n",
              "      <td>0.028859</td>\n",
              "      <td>-0.011854</td>\n",
              "    </tr>\n",
              "    <tr>\n",
              "      <th>km</th>\n",
              "      <td>0.047400</td>\n",
              "      <td>0.007488</td>\n",
              "      <td>-0.053202</td>\n",
              "      <td>-0.002089</td>\n",
              "      <td>1.000000</td>\n",
              "      <td>-0.039930</td>\n",
              "      <td>-0.013640</td>\n",
              "      <td>0.032680</td>\n",
              "      <td>0.026450</td>\n",
              "      <td>-0.052918</td>\n",
              "      <td>0.013566</td>\n",
              "      <td>-0.935924</td>\n",
              "    </tr>\n",
              "    <tr>\n",
              "      <th>rating</th>\n",
              "      <td>-0.018263</td>\n",
              "      <td>-0.050717</td>\n",
              "      <td>0.028280</td>\n",
              "      <td>0.027285</td>\n",
              "      <td>-0.039930</td>\n",
              "      <td>1.000000</td>\n",
              "      <td>0.015943</td>\n",
              "      <td>-0.009757</td>\n",
              "      <td>-0.042222</td>\n",
              "      <td>-0.022623</td>\n",
              "      <td>0.004408</td>\n",
              "      <td>0.035038</td>\n",
              "    </tr>\n",
              "    <tr>\n",
              "      <th>condition</th>\n",
              "      <td>-0.038548</td>\n",
              "      <td>-0.015682</td>\n",
              "      <td>-0.005043</td>\n",
              "      <td>0.053579</td>\n",
              "      <td>-0.013640</td>\n",
              "      <td>0.015943</td>\n",
              "      <td>1.000000</td>\n",
              "      <td>0.058788</td>\n",
              "      <td>0.018472</td>\n",
              "      <td>-0.071552</td>\n",
              "      <td>0.047805</td>\n",
              "      <td>0.110108</td>\n",
              "    </tr>\n",
              "    <tr>\n",
              "      <th>economy</th>\n",
              "      <td>0.047137</td>\n",
              "      <td>-0.030097</td>\n",
              "      <td>-0.015880</td>\n",
              "      <td>0.050220</td>\n",
              "      <td>0.032680</td>\n",
              "      <td>-0.009757</td>\n",
              "      <td>0.058788</td>\n",
              "      <td>1.000000</td>\n",
              "      <td>-0.059402</td>\n",
              "      <td>-0.016782</td>\n",
              "      <td>0.041632</td>\n",
              "      <td>-0.034711</td>\n",
              "    </tr>\n",
              "    <tr>\n",
              "      <th>top speed</th>\n",
              "      <td>0.001613</td>\n",
              "      <td>-0.023816</td>\n",
              "      <td>0.012699</td>\n",
              "      <td>0.025148</td>\n",
              "      <td>0.026450</td>\n",
              "      <td>-0.042222</td>\n",
              "      <td>0.018472</td>\n",
              "      <td>-0.059402</td>\n",
              "      <td>1.000000</td>\n",
              "      <td>0.057827</td>\n",
              "      <td>-0.019697</td>\n",
              "      <td>-0.027993</td>\n",
              "    </tr>\n",
              "    <tr>\n",
              "      <th>hp</th>\n",
              "      <td>-0.006997</td>\n",
              "      <td>-0.049266</td>\n",
              "      <td>-0.012719</td>\n",
              "      <td>-0.003272</td>\n",
              "      <td>-0.052918</td>\n",
              "      <td>-0.022623</td>\n",
              "      <td>-0.071552</td>\n",
              "      <td>-0.016782</td>\n",
              "      <td>0.057827</td>\n",
              "      <td>1.000000</td>\n",
              "      <td>-0.013817</td>\n",
              "      <td>0.030238</td>\n",
              "    </tr>\n",
              "    <tr>\n",
              "      <th>torque</th>\n",
              "      <td>-0.000632</td>\n",
              "      <td>0.008950</td>\n",
              "      <td>0.017955</td>\n",
              "      <td>0.028859</td>\n",
              "      <td>0.013566</td>\n",
              "      <td>0.004408</td>\n",
              "      <td>0.047805</td>\n",
              "      <td>0.041632</td>\n",
              "      <td>-0.019697</td>\n",
              "      <td>-0.013817</td>\n",
              "      <td>1.000000</td>\n",
              "      <td>-0.002290</td>\n",
              "    </tr>\n",
              "    <tr>\n",
              "      <th>current price</th>\n",
              "      <td>-0.059460</td>\n",
              "      <td>0.233035</td>\n",
              "      <td>0.282793</td>\n",
              "      <td>-0.011854</td>\n",
              "      <td>-0.935924</td>\n",
              "      <td>0.035038</td>\n",
              "      <td>0.110108</td>\n",
              "      <td>-0.034711</td>\n",
              "      <td>-0.027993</td>\n",
              "      <td>0.030238</td>\n",
              "      <td>-0.002290</td>\n",
              "      <td>1.000000</td>\n",
              "    </tr>\n",
              "  </tbody>\n",
              "</table>\n",
              "</div>"
            ],
            "text/plain": [
              "                   v.id  on road old  ...    torque  current price\n",
              "v.id           1.000000    -0.029926  ... -0.000632      -0.059460\n",
              "on road old   -0.029926     1.000000  ...  0.008950       0.233035\n",
              "on road now   -0.030787     0.034113  ...  0.017955       0.282793\n",
              "years         -0.034255     0.007207  ...  0.028859      -0.011854\n",
              "km             0.047400     0.007488  ...  0.013566      -0.935924\n",
              "rating        -0.018263    -0.050717  ...  0.004408       0.035038\n",
              "condition     -0.038548    -0.015682  ...  0.047805       0.110108\n",
              "economy        0.047137    -0.030097  ...  0.041632      -0.034711\n",
              "top speed      0.001613    -0.023816  ... -0.019697      -0.027993\n",
              "hp            -0.006997    -0.049266  ... -0.013817       0.030238\n",
              "torque        -0.000632     0.008950  ...  1.000000      -0.002290\n",
              "current price -0.059460     0.233035  ... -0.002290       1.000000\n",
              "\n",
              "[12 rows x 12 columns]"
            ]
          },
          "metadata": {
            "tags": []
          },
          "execution_count": 15
        }
      ]
    },
    {
      "cell_type": "markdown",
      "metadata": {
        "id": "ZXWxWMq07nlY"
      },
      "source": [
        "__Observation__\n",
        "\n",
        "- Strong and negetive relationship between km and target\n",
        "- Positive and less relationship between on road old & on road now and target\n",
        "- Very weak to no relationship between others and target\n",
        "\n"
      ]
    },
    {
      "cell_type": "markdown",
      "metadata": {
        "id": "hp5hrbwC7nlZ"
      },
      "source": [
        "### Calculating and plotting heatmap correlation"
      ]
    },
    {
      "cell_type": "code",
      "metadata": {
        "id": "uxfSYieZ7nla",
        "colab": {
          "base_uri": "https://localhost:8080/",
          "height": 378
        },
        "outputId": "6e20f710-ccc6-4e35-fcf9-60257a71efb5"
      },
      "source": [
        "plt.figure(figsize=(7,5))\n",
        "sns.heatmap(round(data.corr(),2),annot=True)\n",
        "plt.show()"
      ],
      "execution_count": null,
      "outputs": [
        {
          "output_type": "display_data",
          "data": {
            "image/png": "[encoded data removed]",
            "text/plain": [
              "<Figure size 504x360 with 2 Axes>"
            ]
          },
          "metadata": {
            "tags": [],
            "needs_background": "light"
          }
        }
      ]
    },
    {
      "cell_type": "markdown",
      "metadata": {
        "id": "RY3zSewR7nlg"
      },
      "source": [
        "__Observation__\n",
        "\n",
        "- The diagonal of the above matirx shows the auto-correlation of the variables. It is always 1. You can observe that the correlation between __km and target is strongest i.e. -0.94__ and then between __on road old & now with target i.e. 0.23 & 0.28 respectively__.\n",
        "\n",
        "- correlations can vary from -1 to +1. Closer to +1 means strong positive correlation and close -1 means strong negative correlation. Closer to 0 means not very strongly correlated. variables with __strong correlations__ are mostly probably candidates for __model builing__.\n"
      ]
    },
    {
      "cell_type": "markdown",
      "metadata": {
        "id": "ILybveUq7nlj"
      },
      "source": [
        "<a id=section4></a>"
      ]
    },
    {
      "cell_type": "markdown",
      "metadata": {
        "id": "hqxvDwXe7nlk"
      },
      "source": [
        "## 4. Training and Testing the Model"
      ]
    },
    {
      "cell_type": "markdown",
      "metadata": {
        "id": "AwS46N9O7nll"
      },
      "source": [
        "### 4.1 Splitting data into training and test datasets."
      ]
    },
    {
      "cell_type": "code",
      "metadata": {
        "id": "uvjoyo-07nlm",
        "colab": {
          "base_uri": "https://localhost:8080/",
          "height": 68
        },
        "outputId": "2b37de48-b9fa-4719-8ec0-78fa22489e02"
      },
      "source": [
        "data.columns"
      ],
      "execution_count": null,
      "outputs": [
        {
          "output_type": "execute_result",
          "data": {
            "text/plain": [
              "Index(['v.id', 'on road old', 'on road now', 'years', 'km', 'rating',\n",
              "       'condition', 'economy', 'top speed', 'hp', 'torque', 'current price'],\n",
              "      dtype='object')"
            ]
          },
          "metadata": {
            "tags": []
          },
          "execution_count": 17
        }
      ]
    },
    {
      "cell_type": "code",
      "metadata": {
        "id": "ffxGSUKT7nlq"
      },
      "source": [
        "features = ['km']                # create a Python list of feature names\n",
        "target = ['current price']                                     # Define the target variable"
      ],
      "execution_count": null,
      "outputs": []
    },
    {
      "cell_type": "code",
      "metadata": {
        "id": "8efI1l-g7nlu",
        "colab": {
          "base_uri": "https://localhost:8080/",
          "height": 419
        },
        "outputId": "aa001aae-a2fd-4c81-9014-92129adfc410"
      },
      "source": [
        "data[features]"
      ],
      "execution_count": null,
      "outputs": [
        {
          "output_type": "execute_result",
          "data": {
            "text/html": [
              "<div>\n",
              "<style scoped>\n",
              "    .dataframe tbody tr th:only-of-type {\n",
              "        vertical-align: middle;\n",
              "    }\n",
              "\n",
              "    .dataframe tbody tr th {\n",
              "        vertical-align: top;\n",
              "    }\n",
              "\n",
              "    .dataframe thead th {\n",
              "        text-align: right;\n",
              "    }\n",
              "</style>\n",
              "<table border=\"1\" class=\"dataframe\">\n",
              "  <thead>\n",
              "    <tr style=\"text-align: right;\">\n",
              "      <th></th>\n",
              "      <th>km</th>\n",
              "    </tr>\n",
              "  </thead>\n",
              "  <tbody>\n",
              "    <tr>\n",
              "      <th>0</th>\n",
              "      <td>78945</td>\n",
              "    </tr>\n",
              "    <tr>\n",
              "      <th>1</th>\n",
              "      <td>117220</td>\n",
              "    </tr>\n",
              "    <tr>\n",
              "      <th>2</th>\n",
              "      <td>132538</td>\n",
              "    </tr>\n",
              "    <tr>\n",
              "      <th>3</th>\n",
              "      <td>101065</td>\n",
              "    </tr>\n",
              "    <tr>\n",
              "      <th>4</th>\n",
              "      <td>61559</td>\n",
              "    </tr>\n",
              "    <tr>\n",
              "      <th>...</th>\n",
              "      <td>...</td>\n",
              "    </tr>\n",
              "    <tr>\n",
              "      <th>995</th>\n",
              "      <td>125092</td>\n",
              "    </tr>\n",
              "    <tr>\n",
              "      <th>996</th>\n",
              "      <td>83370</td>\n",
              "    </tr>\n",
              "    <tr>\n",
              "      <th>997</th>\n",
              "      <td>86722</td>\n",
              "    </tr>\n",
              "    <tr>\n",
              "      <th>998</th>\n",
              "      <td>140478</td>\n",
              "    </tr>\n",
              "    <tr>\n",
              "      <th>999</th>\n",
              "      <td>67295</td>\n",
              "    </tr>\n",
              "  </tbody>\n",
              "</table>\n",
              "<p>1000 rows × 1 columns</p>\n",
              "</div>"
            ],
            "text/plain": [
              "         km\n",
              "0     78945\n",
              "1    117220\n",
              "2    132538\n",
              "3    101065\n",
              "4     61559\n",
              "..      ...\n",
              "995  125092\n",
              "996   83370\n",
              "997   86722\n",
              "998  140478\n",
              "999   67295\n",
              "\n",
              "[1000 rows x 1 columns]"
            ]
          },
          "metadata": {
            "tags": []
          },
          "execution_count": 19
        }
      ]
    },
    {
      "cell_type": "code",
      "metadata": {
        "id": "0DGjsTky7nl1",
        "colab": {
          "base_uri": "https://localhost:8080/",
          "height": 419
        },
        "outputId": "804032c6-1435-4b05-8f3f-448451a4404f"
      },
      "source": [
        "data[target]"
      ],
      "execution_count": null,
      "outputs": [
        {
          "output_type": "execute_result",
          "data": {
            "text/html": [
              "<div>\n",
              "<style scoped>\n",
              "    .dataframe tbody tr th:only-of-type {\n",
              "        vertical-align: middle;\n",
              "    }\n",
              "\n",
              "    .dataframe tbody tr th {\n",
              "        vertical-align: top;\n",
              "    }\n",
              "\n",
              "    .dataframe thead th {\n",
              "        text-align: right;\n",
              "    }\n",
              "</style>\n",
              "<table border=\"1\" class=\"dataframe\">\n",
              "  <thead>\n",
              "    <tr style=\"text-align: right;\">\n",
              "      <th></th>\n",
              "      <th>current price</th>\n",
              "    </tr>\n",
              "  </thead>\n",
              "  <tbody>\n",
              "    <tr>\n",
              "      <th>0</th>\n",
              "      <td>351318.0</td>\n",
              "    </tr>\n",
              "    <tr>\n",
              "      <th>1</th>\n",
              "      <td>285001.5</td>\n",
              "    </tr>\n",
              "    <tr>\n",
              "      <th>2</th>\n",
              "      <td>215386.0</td>\n",
              "    </tr>\n",
              "    <tr>\n",
              "      <th>3</th>\n",
              "      <td>244295.5</td>\n",
              "    </tr>\n",
              "    <tr>\n",
              "      <th>4</th>\n",
              "      <td>531114.5</td>\n",
              "    </tr>\n",
              "    <tr>\n",
              "      <th>...</th>\n",
              "      <td>...</td>\n",
              "    </tr>\n",
              "    <tr>\n",
              "      <th>995</th>\n",
              "      <td>190744.0</td>\n",
              "    </tr>\n",
              "    <tr>\n",
              "      <th>996</th>\n",
              "      <td>419748.0</td>\n",
              "    </tr>\n",
              "    <tr>\n",
              "      <th>997</th>\n",
              "      <td>405871.0</td>\n",
              "    </tr>\n",
              "    <tr>\n",
              "      <th>998</th>\n",
              "      <td>74398.0</td>\n",
              "    </tr>\n",
              "    <tr>\n",
              "      <th>999</th>\n",
              "      <td>414938.5</td>\n",
              "    </tr>\n",
              "  </tbody>\n",
              "</table>\n",
              "<p>1000 rows × 1 columns</p>\n",
              "</div>"
            ],
            "text/plain": [
              "     current price\n",
              "0         351318.0\n",
              "1         285001.5\n",
              "2         215386.0\n",
              "3         244295.5\n",
              "4         531114.5\n",
              "..             ...\n",
              "995       190744.0\n",
              "996       419748.0\n",
              "997       405871.0\n",
              "998        74398.0\n",
              "999       414938.5\n",
              "\n",
              "[1000 rows x 1 columns]"
            ]
          },
          "metadata": {
            "tags": []
          },
          "execution_count": 20
        }
      ]
    },
    {
      "cell_type": "code",
      "metadata": {
        "id": "0-N9zRZg7nl4"
      },
      "source": [
        "from sklearn.model_selection import train_test_split\n",
        "X_train, X_test, y_train, y_test = train_test_split(data[features], data[target], test_size=0.25, random_state=0)"
      ],
      "execution_count": null,
      "outputs": []
    },
    {
      "cell_type": "code",
      "metadata": {
        "id": "uzUt958z7nmA",
        "colab": {
          "base_uri": "https://localhost:8080/",
          "height": 136
        },
        "outputId": "e348f539-7ba6-4180-dac9-600f172b3c75"
      },
      "source": [
        "print('Train cases as below')\n",
        "print('X_train shape: ',X_train.shape)\n",
        "print('y_train shape: ',y_train.shape)\n",
        "print('\\nTest cases as below')\n",
        "print('X_test shape: ',X_test.shape)\n",
        "print('y_test shape: ',y_test.shape)"
      ],
      "execution_count": null,
      "outputs": [
        {
          "output_type": "stream",
          "text": [
            "Train cases as below\n",
            "X_train shape:  (750, 1)\n",
            "y_train shape:  (750, 1)\n",
            "\n",
            "Test cases as below\n",
            "X_test shape:  (250, 1)\n",
            "y_test shape:  (250, 1)\n"
          ],
          "name": "stdout"
        }
      ]
    },
    {
      "cell_type": "code",
      "metadata": {
        "scrolled": true,
        "id": "7IndfxoX7nmD",
        "colab": {
          "base_uri": "https://localhost:8080/",
          "height": 204
        },
        "outputId": "0c4f0ca8-38f5-4201-9300-c14187d3d331"
      },
      "source": [
        "X_train.head()"
      ],
      "execution_count": null,
      "outputs": [
        {
          "output_type": "execute_result",
          "data": {
            "text/html": [
              "<div>\n",
              "<style scoped>\n",
              "    .dataframe tbody tr th:only-of-type {\n",
              "        vertical-align: middle;\n",
              "    }\n",
              "\n",
              "    .dataframe tbody tr th {\n",
              "        vertical-align: top;\n",
              "    }\n",
              "\n",
              "    .dataframe thead th {\n",
              "        text-align: right;\n",
              "    }\n",
              "</style>\n",
              "<table border=\"1\" class=\"dataframe\">\n",
              "  <thead>\n",
              "    <tr style=\"text-align: right;\">\n",
              "      <th></th>\n",
              "      <th>km</th>\n",
              "    </tr>\n",
              "  </thead>\n",
              "  <tbody>\n",
              "    <tr>\n",
              "      <th>253</th>\n",
              "      <td>114405</td>\n",
              "    </tr>\n",
              "    <tr>\n",
              "      <th>667</th>\n",
              "      <td>89225</td>\n",
              "    </tr>\n",
              "    <tr>\n",
              "      <th>85</th>\n",
              "      <td>78783</td>\n",
              "    </tr>\n",
              "    <tr>\n",
              "      <th>969</th>\n",
              "      <td>84252</td>\n",
              "    </tr>\n",
              "    <tr>\n",
              "      <th>75</th>\n",
              "      <td>104924</td>\n",
              "    </tr>\n",
              "  </tbody>\n",
              "</table>\n",
              "</div>"
            ],
            "text/plain": [
              "         km\n",
              "253  114405\n",
              "667   89225\n",
              "85    78783\n",
              "969   84252\n",
              "75   104924"
            ]
          },
          "metadata": {
            "tags": []
          },
          "execution_count": 23
        }
      ]
    },
    {
      "cell_type": "code",
      "metadata": {
        "id": "0gBgI_Za7nmG",
        "colab": {
          "base_uri": "https://localhost:8080/",
          "height": 204
        },
        "outputId": "0ec6bb0c-ce1e-4fc0-d938-8187dd503e1e"
      },
      "source": [
        "y_train.head()"
      ],
      "execution_count": null,
      "outputs": [
        {
          "output_type": "execute_result",
          "data": {
            "text/html": [
              "<div>\n",
              "<style scoped>\n",
              "    .dataframe tbody tr th:only-of-type {\n",
              "        vertical-align: middle;\n",
              "    }\n",
              "\n",
              "    .dataframe tbody tr th {\n",
              "        vertical-align: top;\n",
              "    }\n",
              "\n",
              "    .dataframe thead th {\n",
              "        text-align: right;\n",
              "    }\n",
              "</style>\n",
              "<table border=\"1\" class=\"dataframe\">\n",
              "  <thead>\n",
              "    <tr style=\"text-align: right;\">\n",
              "      <th></th>\n",
              "      <th>current price</th>\n",
              "    </tr>\n",
              "  </thead>\n",
              "  <tbody>\n",
              "    <tr>\n",
              "      <th>253</th>\n",
              "      <td>167281.5</td>\n",
              "    </tr>\n",
              "    <tr>\n",
              "      <th>667</th>\n",
              "      <td>315866.5</td>\n",
              "    </tr>\n",
              "    <tr>\n",
              "      <th>85</th>\n",
              "      <td>350647.5</td>\n",
              "    </tr>\n",
              "    <tr>\n",
              "      <th>969</th>\n",
              "      <td>313619.5</td>\n",
              "    </tr>\n",
              "    <tr>\n",
              "      <th>75</th>\n",
              "      <td>295002.0</td>\n",
              "    </tr>\n",
              "  </tbody>\n",
              "</table>\n",
              "</div>"
            ],
            "text/plain": [
              "     current price\n",
              "253       167281.5\n",
              "667       315866.5\n",
              "85        350647.5\n",
              "969       313619.5\n",
              "75        295002.0"
            ]
          },
          "metadata": {
            "tags": []
          },
          "execution_count": 24
        }
      ]
    },
    {
      "cell_type": "code",
      "metadata": {
        "id": "GXpHvVMm7nmJ",
        "colab": {
          "base_uri": "https://localhost:8080/",
          "height": 204
        },
        "outputId": "d530cf16-cc33-430d-b8d3-c2596119d389"
      },
      "source": [
        "X_test.head()"
      ],
      "execution_count": null,
      "outputs": [
        {
          "output_type": "execute_result",
          "data": {
            "text/html": [
              "<div>\n",
              "<style scoped>\n",
              "    .dataframe tbody tr th:only-of-type {\n",
              "        vertical-align: middle;\n",
              "    }\n",
              "\n",
              "    .dataframe tbody tr th {\n",
              "        vertical-align: top;\n",
              "    }\n",
              "\n",
              "    .dataframe thead th {\n",
              "        text-align: right;\n",
              "    }\n",
              "</style>\n",
              "<table border=\"1\" class=\"dataframe\">\n",
              "  <thead>\n",
              "    <tr style=\"text-align: right;\">\n",
              "      <th></th>\n",
              "      <th>km</th>\n",
              "    </tr>\n",
              "  </thead>\n",
              "  <tbody>\n",
              "    <tr>\n",
              "      <th>993</th>\n",
              "      <td>92988</td>\n",
              "    </tr>\n",
              "    <tr>\n",
              "      <th>859</th>\n",
              "      <td>73033</td>\n",
              "    </tr>\n",
              "    <tr>\n",
              "      <th>298</th>\n",
              "      <td>126379</td>\n",
              "    </tr>\n",
              "    <tr>\n",
              "      <th>553</th>\n",
              "      <td>147282</td>\n",
              "    </tr>\n",
              "    <tr>\n",
              "      <th>672</th>\n",
              "      <td>118682</td>\n",
              "    </tr>\n",
              "  </tbody>\n",
              "</table>\n",
              "</div>"
            ],
            "text/plain": [
              "         km\n",
              "993   92988\n",
              "859   73033\n",
              "298  126379\n",
              "553  147282\n",
              "672  118682"
            ]
          },
          "metadata": {
            "tags": []
          },
          "execution_count": 25
        }
      ]
    },
    {
      "cell_type": "code",
      "metadata": {
        "scrolled": true,
        "id": "HylYjZqx7nmM",
        "colab": {
          "base_uri": "https://localhost:8080/",
          "height": 204
        },
        "outputId": "01196165-1a10-4630-b3c9-cfb505c32d7e"
      },
      "source": [
        "y_test.head()"
      ],
      "execution_count": null,
      "outputs": [
        {
          "output_type": "execute_result",
          "data": {
            "text/html": [
              "<div>\n",
              "<style scoped>\n",
              "    .dataframe tbody tr th:only-of-type {\n",
              "        vertical-align: middle;\n",
              "    }\n",
              "\n",
              "    .dataframe tbody tr th {\n",
              "        vertical-align: top;\n",
              "    }\n",
              "\n",
              "    .dataframe thead th {\n",
              "        text-align: right;\n",
              "    }\n",
              "</style>\n",
              "<table border=\"1\" class=\"dataframe\">\n",
              "  <thead>\n",
              "    <tr style=\"text-align: right;\">\n",
              "      <th></th>\n",
              "      <th>current price</th>\n",
              "    </tr>\n",
              "  </thead>\n",
              "  <tbody>\n",
              "    <tr>\n",
              "      <th>993</th>\n",
              "      <td>307255.0</td>\n",
              "    </tr>\n",
              "    <tr>\n",
              "      <th>859</th>\n",
              "      <td>380928.5</td>\n",
              "    </tr>\n",
              "    <tr>\n",
              "      <th>298</th>\n",
              "      <td>121022.0</td>\n",
              "    </tr>\n",
              "    <tr>\n",
              "      <th>553</th>\n",
              "      <td>174352.5</td>\n",
              "    </tr>\n",
              "    <tr>\n",
              "      <th>672</th>\n",
              "      <td>190949.0</td>\n",
              "    </tr>\n",
              "  </tbody>\n",
              "</table>\n",
              "</div>"
            ],
            "text/plain": [
              "     current price\n",
              "993       307255.0\n",
              "859       380928.5\n",
              "298       121022.0\n",
              "553       174352.5\n",
              "672       190949.0"
            ]
          },
          "metadata": {
            "tags": []
          },
          "execution_count": 26
        }
      ]
    },
    {
      "cell_type": "markdown",
      "metadata": {
        "id": "mEuNq1FX7nmR"
      },
      "source": [
        "<a id=section402></a>"
      ]
    },
    {
      "cell_type": "markdown",
      "metadata": {
        "id": "0WcpeB-O7nmR"
      },
      "source": [
        "### 4.2 Linear regression in scikit-learn"
      ]
    },
    {
      "cell_type": "markdown",
      "metadata": {
        "id": "RMepw4PU7nmS"
      },
      "source": [
        "To apply any machine learning algorithm on your dataset, basically there are 4 steps:\n",
        "1. Load the algorithm\n",
        "2. Instantiate and Fit the model to the training dataset\n",
        "3. Prediction on the test set\n",
        "4. Evaluate - Calculate RMSE and R square\n",
        "\n",
        "The code block given below shows how these steps are carried out:<br/>\n",
        "\n",
        "``` from sklearn.linear_model import LinearRegression\n",
        "    lr_model = LinearRegression()\n",
        "    ll_model.fit(X_train, y_train) \n",
        "    RMSE_test = np.sqrt(metrics.mean_squared_error(y_test, y_pred_test))\n",
        "    r2_test = metrics.r2_score(y_test, y_pred_test)```"
      ]
    },
    {
      "cell_type": "code",
      "metadata": {
        "id": "T92HHm137nmS"
      },
      "source": [
        "#Instantiating the model\n",
        "from sklearn.linear_model import LinearRegression\n",
        "lr_model = LinearRegression(fit_intercept=True)"
      ],
      "execution_count": null,
      "outputs": []
    },
    {
      "cell_type": "code",
      "metadata": {
        "id": "oxer39KB7nmV",
        "colab": {
          "base_uri": "https://localhost:8080/",
          "height": 34
        },
        "outputId": "5a715cfc-e514-4407-8dc7-65b292f55e25"
      },
      "source": [
        "lr_model.fit(X_train, y_train)"
      ],
      "execution_count": null,
      "outputs": [
        {
          "output_type": "execute_result",
          "data": {
            "text/plain": [
              "LinearRegression(copy_X=True, fit_intercept=True, n_jobs=None, normalize=False)"
            ]
          },
          "metadata": {
            "tags": []
          },
          "execution_count": 28
        }
      ]
    },
    {
      "cell_type": "markdown",
      "metadata": {
        "id": "WBwGRZCq7nmd"
      },
      "source": [
        "### 4.3 Interpreting Model Coefficients"
      ]
    },
    {
      "cell_type": "code",
      "metadata": {
        "scrolled": true,
        "id": "Qq_KTXfz7nme",
        "colab": {
          "base_uri": "https://localhost:8080/",
          "height": 51
        },
        "outputId": "91134a03-bb5c-43d9-a54f-5a41b0a2dbea"
      },
      "source": [
        "print('Intercept:',lr_model.intercept_)          # print the intercept \n",
        "print('Coefficients:',lr_model.coef_)  "
      ],
      "execution_count": null,
      "outputs": [
        {
          "output_type": "stream",
          "text": [
            "Intercept: [719400.70780149]\n",
            "Coefficients: [[-4.0983257]]\n"
          ],
          "name": "stdout"
        }
      ]
    },
    {
      "cell_type": "code",
      "metadata": {
        "id": "9JF3rATD7nmi",
        "colab": {
          "base_uri": "https://localhost:8080/",
          "height": 34
        },
        "outputId": "3b3954d2-744e-4e98-b573-e73776c86730"
      },
      "source": [
        "X_train.columns"
      ],
      "execution_count": null,
      "outputs": [
        {
          "output_type": "execute_result",
          "data": {
            "text/plain": [
              "Index(['km'], dtype='object')"
            ]
          },
          "metadata": {
            "tags": []
          },
          "execution_count": 31
        }
      ]
    },
    {
      "cell_type": "code",
      "metadata": {
        "id": "5W_pwp6N7nmm",
        "colab": {
          "base_uri": "https://localhost:8080/",
          "height": 34
        },
        "outputId": "abd536e3-0e12-46bc-8b2b-09ada2844e1b"
      },
      "source": [
        "(lr_model.coef_).T"
      ],
      "execution_count": null,
      "outputs": [
        {
          "output_type": "execute_result",
          "data": {
            "text/plain": [
              "array([[-4.0983257]])"
            ]
          },
          "metadata": {
            "tags": []
          },
          "execution_count": 32
        }
      ]
    },
    {
      "cell_type": "code",
      "metadata": {
        "id": "7RYZEOEr7nmp",
        "colab": {
          "base_uri": "https://localhost:8080/",
          "height": 80
        },
        "outputId": "24acec29-10fd-4aed-b698-5e626b252a96"
      },
      "source": [
        "coef1=pd.DataFrame((lr_model.coef_).T,index=X_train.columns,\\\n",
        "             columns=['Co-efficients']).sort_values('Co-efficients',ascending=False)\n",
        "coef1"
      ],
      "execution_count": null,
      "outputs": [
        {
          "output_type": "execute_result",
          "data": {
            "text/html": [
              "<div>\n",
              "<style scoped>\n",
              "    .dataframe tbody tr th:only-of-type {\n",
              "        vertical-align: middle;\n",
              "    }\n",
              "\n",
              "    .dataframe tbody tr th {\n",
              "        vertical-align: top;\n",
              "    }\n",
              "\n",
              "    .dataframe thead th {\n",
              "        text-align: right;\n",
              "    }\n",
              "</style>\n",
              "<table border=\"1\" class=\"dataframe\">\n",
              "  <thead>\n",
              "    <tr style=\"text-align: right;\">\n",
              "      <th></th>\n",
              "      <th>Co-efficients</th>\n",
              "    </tr>\n",
              "  </thead>\n",
              "  <tbody>\n",
              "    <tr>\n",
              "      <th>km</th>\n",
              "      <td>-4.098326</td>\n",
              "    </tr>\n",
              "  </tbody>\n",
              "</table>\n",
              "</div>"
            ],
            "text/plain": [
              "    Co-efficients\n",
              "km      -4.098326"
            ]
          },
          "metadata": {
            "tags": []
          },
          "execution_count": 33
        }
      ]
    },
    {
      "cell_type": "code",
      "metadata": {
        "id": "CUOrdHTu7nms",
        "colab": {
          "base_uri": "https://localhost:8080/",
          "height": 80
        },
        "outputId": "1a4c0b2f-d480-49e4-e802-4d67a54e0e65"
      },
      "source": [
        "coef1['converted'] = 100* coef1['Co-efficients'].abs()/(coef1['Co-efficients'].abs().sum())\n",
        "coef1"
      ],
      "execution_count": null,
      "outputs": [
        {
          "output_type": "execute_result",
          "data": {
            "text/html": [
              "<div>\n",
              "<style scoped>\n",
              "    .dataframe tbody tr th:only-of-type {\n",
              "        vertical-align: middle;\n",
              "    }\n",
              "\n",
              "    .dataframe tbody tr th {\n",
              "        vertical-align: top;\n",
              "    }\n",
              "\n",
              "    .dataframe thead th {\n",
              "        text-align: right;\n",
              "    }\n",
              "</style>\n",
              "<table border=\"1\" class=\"dataframe\">\n",
              "  <thead>\n",
              "    <tr style=\"text-align: right;\">\n",
              "      <th></th>\n",
              "      <th>Co-efficients</th>\n",
              "      <th>converted</th>\n",
              "    </tr>\n",
              "  </thead>\n",
              "  <tbody>\n",
              "    <tr>\n",
              "      <th>km</th>\n",
              "      <td>-4.098326</td>\n",
              "      <td>100.0</td>\n",
              "    </tr>\n",
              "  </tbody>\n",
              "</table>\n",
              "</div>"
            ],
            "text/plain": [
              "    Co-efficients  converted\n",
              "km      -4.098326      100.0"
            ]
          },
          "metadata": {
            "tags": []
          },
          "execution_count": 34
        }
      ]
    },
    {
      "cell_type": "markdown",
      "metadata": {
        "id": "XkoEHnzt7nmw"
      },
      "source": [
        "__y = 719400.71 - 4.098 `*` km__"
      ]
    },
    {
      "cell_type": "markdown",
      "metadata": {
        "id": "qn-MMY5v7nmx"
      },
      "source": [
        "How do we interpret the km coefficient (-4.098)\n",
        "- A \"unit\" increase in km is **associated with** a _\"4.098_ unit\" decrease in target."
      ]
    },
    {
      "cell_type": "markdown",
      "metadata": {
        "id": "m69y77vQ7nmy"
      },
      "source": [
        "### 4.4 Using the Model for Prediction"
      ]
    },
    {
      "cell_type": "code",
      "metadata": {
        "id": "eRVsPcPm7nm0"
      },
      "source": [
        "y_pred_train = lr_model.predict(X_train)  "
      ],
      "execution_count": null,
      "outputs": []
    },
    {
      "cell_type": "code",
      "metadata": {
        "id": "5Q1NkjaM7nm5",
        "colab": {
          "base_uri": "https://localhost:8080/",
          "height": 1000
        },
        "outputId": "1c229d92-a974-49af-ad44-37e3a1045dce"
      },
      "source": [
        "y_pred_train"
      ],
      "execution_count": null,
      "outputs": [
        {
          "output_type": "execute_result",
          "data": {
            "text/plain": [
              "array([[250531.75655228],\n",
              "       [353727.59757719],\n",
              "       [396522.31449467],\n",
              "       [374108.57126333],\n",
              "       [289387.98247592],\n",
              "       [213978.78966979],\n",
              "       [253744.84389793],\n",
              "       [361768.51259271],\n",
              "       [212077.16654685],\n",
              "       [333100.7243493 ],\n",
              "       [476992.93953534],\n",
              "       [430423.66465186],\n",
              "       [446648.93608227],\n",
              "       [372497.9292648 ],\n",
              "       [319658.21606646],\n",
              "       [467443.8406637 ],\n",
              "       [298826.42655377],\n",
              "       [119303.36776683],\n",
              "       [332567.94200882],\n",
              "       [404628.80272133],\n",
              "       [293289.58853849],\n",
              "       [238913.00320416],\n",
              "       [255056.30812065],\n",
              "       [123057.43410435],\n",
              "       [365026.68152102],\n",
              "       [191970.78068234],\n",
              "       [132364.73175993],\n",
              "       [147962.95935885],\n",
              "       [255339.09259367],\n",
              "       [261900.51203294],\n",
              "       [125655.7725956 ],\n",
              "       [313199.25476959],\n",
              "       [182970.85745396],\n",
              "       [156507.96843498],\n",
              "       [114491.93339974],\n",
              "       [210650.94920464],\n",
              "       [426657.30333725],\n",
              "       [224380.3402862 ],\n",
              "       [265425.07213149],\n",
              "       [439702.27402757],\n",
              "       [121840.23137264],\n",
              "       [153995.69478334],\n",
              "       [199523.99494004],\n",
              "       [321682.78896028],\n",
              "       [239974.46955942],\n",
              "       [223806.57468876],\n",
              "       [143676.11068085],\n",
              "       [199159.2439531 ],\n",
              "       [498783.7372609 ],\n",
              "       [281621.65528202],\n",
              "       [440845.70689675],\n",
              "       [253675.1723611 ],\n",
              "       [206925.57114699],\n",
              "       [501439.4523119 ],\n",
              "       [426575.33682333],\n",
              "       [139266.31223197],\n",
              "       [412788.56918204],\n",
              "       [174302.89860695],\n",
              "       [293244.50695584],\n",
              "       [327227.82362695],\n",
              "       [501242.73267849],\n",
              "       [501476.33724316],\n",
              "       [194790.42876118],\n",
              "       [184474.94298439],\n",
              "       [301543.61649021],\n",
              "       [281511.00048823],\n",
              "       [187065.08482425],\n",
              "       [241429.3751815 ],\n",
              "       [497398.50317566],\n",
              "       [326899.95757127],\n",
              "       [370756.14084401],\n",
              "       [204495.26400927],\n",
              "       [255093.19305191],\n",
              "       [415464.77586152],\n",
              "       [214732.88159785],\n",
              "       [210093.57690999],\n",
              "       [391895.3047839 ],\n",
              "       [466894.66502044],\n",
              "       [177798.77042563],\n",
              "       [131659.81974022],\n",
              "       [425772.06498692],\n",
              "       [154426.01898142],\n",
              "       [331338.44430002],\n",
              "       [115729.62775993],\n",
              "       [487033.83749051],\n",
              "       [457378.35275436],\n",
              "       [337149.87013693],\n",
              "       [254003.03841678],\n",
              "       [447161.22679427],\n",
              "       [332014.66803986],\n",
              "       [485833.02806158],\n",
              "       [352465.31326283],\n",
              "       [285023.26560969],\n",
              "       [500087.00483222],\n",
              "       [289158.47623694],\n",
              "       [430058.91366492],\n",
              "       [107057.57058722],\n",
              "       [320518.86446262],\n",
              "       [216073.03410043],\n",
              "       [201528.07620538],\n",
              "       [425546.65707364],\n",
              "       [505357.45167726],\n",
              "       [340666.23358409],\n",
              "       [246847.36175159],\n",
              "       [492697.72360236],\n",
              "       [505414.828237  ],\n",
              "       [122004.16440048],\n",
              "       [223626.24835813],\n",
              "       [133442.59141798],\n",
              "       [316875.45291889],\n",
              "       [499841.10529046],\n",
              "       [245732.61716228],\n",
              "       [361776.70924411],\n",
              "       [209573.0895466 ],\n",
              "       [469734.80472775],\n",
              "       [159634.99094102],\n",
              "       [461542.25166148],\n",
              "       [191946.19072817],\n",
              "       [357993.95462671],\n",
              "       [287015.05189794],\n",
              "       [167073.45207923],\n",
              "       [472685.59922886],\n",
              "       [227036.05533719],\n",
              "       [109414.10786241],\n",
              "       [410751.70131113],\n",
              "       [478427.35352894],\n",
              "       [149487.53651776],\n",
              "       [180069.2428612 ],\n",
              "       [318035.27909085],\n",
              "       [343207.1955156 ],\n",
              "       [382555.22052275],\n",
              "       [124872.99238767],\n",
              "       [111889.49658279],\n",
              "       [246769.49356336],\n",
              "       [293510.89812608],\n",
              "       [312801.71717708],\n",
              "       [163958.72455028],\n",
              "       [255687.45027783],\n",
              "       [386641.25124165],\n",
              "       [322137.70311254],\n",
              "       [301904.26915146],\n",
              "       [463202.07356835],\n",
              "       [112532.93371706],\n",
              "       [209864.07067102],\n",
              "       [204339.52763283],\n",
              "       [402805.04778662],\n",
              "       [472529.86285242],\n",
              "       [447497.28950134],\n",
              "       [359989.83924066],\n",
              "       [442681.75680855],\n",
              "       [452857.89951169],\n",
              "       [503414.84529736],\n",
              "       [234490.90977819],\n",
              "       [439112.11512735],\n",
              "       [450148.90622664],\n",
              "       [182565.12321006],\n",
              "       [455234.92841536],\n",
              "       [253326.81467694],\n",
              "       [317695.11805809],\n",
              "       [391247.76932394],\n",
              "       [108926.40710459],\n",
              "       [465796.31373391],\n",
              "       [216630.40639509],\n",
              "       [317055.77924951],\n",
              "       [371317.61146436],\n",
              "       [479222.42871396],\n",
              "       [287933.07685384],\n",
              "       [363510.30101351],\n",
              "       [472087.24367725],\n",
              "       [120004.18146084],\n",
              "       [400948.50624633],\n",
              "       [138532.71193239],\n",
              "       [384215.04242963],\n",
              "       [493160.83440601],\n",
              "       [116102.57539826],\n",
              "       [249302.25884348],\n",
              "       [381534.73742445],\n",
              "       [294543.67620147],\n",
              "       [421395.05314361],\n",
              "       [233322.88695484],\n",
              "       [451280.04411873],\n",
              "       [377243.79042076],\n",
              "       [312818.11047986],\n",
              "       [437390.81833504],\n",
              "       [326592.58314407],\n",
              "       [362825.88062228],\n",
              "       [215413.20366338],\n",
              "       [465829.10033948],\n",
              "       [419341.79196992],\n",
              "       [174229.12874442],\n",
              "       [136639.28546084],\n",
              "       [346063.7285257 ],\n",
              "       [360313.60697064],\n",
              "       [129979.50620487],\n",
              "       [398444.42924609],\n",
              "       [298326.43081886],\n",
              "       [158770.24421917],\n",
              "       [347153.88316083],\n",
              "       [383522.42538701],\n",
              "       [304728.01555599],\n",
              "       [381219.16634586],\n",
              "       [462689.78285636],\n",
              "       [459370.13904261],\n",
              "       [319580.34787824],\n",
              "       [490759.21554816],\n",
              "       [425485.1821882 ],\n",
              "       [291424.85034682],\n",
              "       [228167.19322929],\n",
              "       [491164.94979206],\n",
              "       [172454.55371806],\n",
              "       [375395.44553187],\n",
              "       [430206.45338997],\n",
              "       [220474.63589792],\n",
              "       [205003.45639558],\n",
              "       [402723.0812727 ],\n",
              "       [399628.84537223],\n",
              "       [505935.31560039],\n",
              "       [377092.15237   ],\n",
              "       [339903.94500463],\n",
              "       [459554.56369893],\n",
              "       [267572.59479619],\n",
              "       [201835.45063258],\n",
              "       [503414.84529736],\n",
              "       [480066.68380733],\n",
              "       [439944.07524364],\n",
              "       [488308.41678196],\n",
              "       [453976.74242669],\n",
              "       [456616.0641749 ],\n",
              "       [149163.76878778],\n",
              "       [320551.65106819],\n",
              "       [296363.33281048],\n",
              "       [407673.85871345],\n",
              "       [351875.15436261],\n",
              "       [332367.12404972],\n",
              "       [327067.98892481],\n",
              "       [245486.71762052],\n",
              "       [424415.51918155],\n",
              "       [218601.70105486],\n",
              "       [483570.7522774 ],\n",
              "       [453669.36799949],\n",
              "       [216343.52359637],\n",
              "       [111315.73098535],\n",
              "       [309195.19056461],\n",
              "       [167024.27217088],\n",
              "       [389473.19429758],\n",
              "       [336883.47896669],\n",
              "       [170868.50167371],\n",
              "       [146212.97428667],\n",
              "       [327957.32560084],\n",
              "       [472628.22266912],\n",
              "       [486496.95682433],\n",
              "       [165458.71175501],\n",
              "       [447038.27702339],\n",
              "       [346330.11969594],\n",
              "       [159479.25456457],\n",
              "       [314211.5412165 ],\n",
              "       [142520.38283458],\n",
              "       [329977.80016896],\n",
              "       [252666.98423989],\n",
              "       [386272.40192901],\n",
              "       [147614.60167469],\n",
              "       [391313.34253507],\n",
              "       [302047.71055082],\n",
              "       [155003.88290456],\n",
              "       [237802.35694055],\n",
              "       [282465.9103754 ],\n",
              "       [255429.25575898],\n",
              "       [477271.62568267],\n",
              "       [512599.19318207],\n",
              "       [184163.47023149],\n",
              "       [341412.12886076],\n",
              "       [186708.5304887 ],\n",
              "       [444628.46151415],\n",
              "       [347112.89990387],\n",
              "       [395858.38573192],\n",
              "       [292219.92553184],\n",
              "       [131463.10010682],\n",
              "       [322748.35364124],\n",
              "       [206839.50630738],\n",
              "       [185642.96580774],\n",
              "       [382501.9422887 ],\n",
              "       [145540.84887252],\n",
              "       [197974.82782696],\n",
              "       [489070.70536141],\n",
              "       [234683.5310859 ],\n",
              "       [357493.9588918 ],\n",
              "       [282904.43122487],\n",
              "       [478005.22598225],\n",
              "       [204265.7577703 ],\n",
              "       [472464.28964128],\n",
              "       [222913.13968703],\n",
              "       [118475.50597624],\n",
              "       [291912.55110464],\n",
              "       [188007.69973433],\n",
              "       [162884.96321794],\n",
              "       [369276.64526776],\n",
              "       [367309.44893369],\n",
              "       [401063.25936582],\n",
              "       [301826.40096323],\n",
              "       [316986.10771268],\n",
              "       [428878.59586448],\n",
              "       [305203.42133672],\n",
              "       [469632.34658535],\n",
              "       [178102.04652713],\n",
              "       [326957.33413101],\n",
              "       [422448.32284747],\n",
              "       [413001.68211823],\n",
              "       [109881.31699176],\n",
              "       [255986.62805364],\n",
              "       [176204.52172989],\n",
              "       [171118.49954117],\n",
              "       [485857.61801576],\n",
              "       [159196.47009155],\n",
              "       [236917.11859022],\n",
              "       [427038.44762698],\n",
              "       [458866.044982  ],\n",
              "       [292851.06768902],\n",
              "       [468861.86135451],\n",
              "       [441989.13976593],\n",
              "       [486230.5656541 ],\n",
              "       [411981.19901993],\n",
              "       [434329.36904014],\n",
              "       [230011.43979248],\n",
              "       [474058.53833702],\n",
              "       [472779.86071987],\n",
              "       [436649.02138406],\n",
              "       [399038.68647201],\n",
              "       [413157.41849468],\n",
              "       [258839.06273804],\n",
              "       [448796.45874696],\n",
              "       [405690.26907659],\n",
              "       [160380.88621769],\n",
              "       [357125.10957916],\n",
              "       [414554.94755701],\n",
              "       [359985.74091496],\n",
              "       [115061.60067148],\n",
              "       [504726.30952008],\n",
              "       [225646.72292626],\n",
              "       [208118.18392453],\n",
              "       [213027.97810832],\n",
              "       [495787.86117713],\n",
              "       [107967.39889173],\n",
              "       [167446.39971757],\n",
              "       [363985.70679424],\n",
              "       [116418.14647685],\n",
              "       [430472.84456021],\n",
              "       [285830.6357718 ],\n",
              "       [409477.12201968],\n",
              "       [177540.57590678],\n",
              "       [312273.0331623 ],\n",
              "       [125368.88979688],\n",
              "       [314158.26298245],\n",
              "       [129266.39753377],\n",
              "       [158807.12915043],\n",
              "       [307031.27459713],\n",
              "       [147311.32557319],\n",
              "       [434464.6137881 ],\n",
              "       [472624.12434342],\n",
              "       [184405.27144755],\n",
              "       [477894.57118846],\n",
              "       [365829.95335744],\n",
              "       [439308.83476076],\n",
              "       [358178.37928303],\n",
              "       [124725.45266262],\n",
              "       [112873.09474983],\n",
              "       [270634.04409109],\n",
              "       [113127.19094298],\n",
              "       [174913.54913565],\n",
              "       [242822.80591813],\n",
              "       [177991.39173334],\n",
              "       [256761.21161018],\n",
              "       [244527.70940766],\n",
              "       [431448.24607586],\n",
              "       [304293.59303222],\n",
              "       [275953.67084448],\n",
              "       [194524.03759094],\n",
              "       [328031.09546336],\n",
              "       [193360.11309328],\n",
              "       [107791.1708868 ],\n",
              "       [467111.87628232],\n",
              "       [206732.94983928],\n",
              "       [231933.5545439 ],\n",
              "       [401493.5835639 ],\n",
              "       [502410.75550185],\n",
              "       [296002.68014924],\n",
              "       [106069.87409449],\n",
              "       [323518.83887208],\n",
              "       [448366.13454889],\n",
              "       [372428.25772797],\n",
              "       [346694.87068288],\n",
              "       [122229.57231376],\n",
              "       [505197.61697512],\n",
              "       [475738.85187237],\n",
              "       [423407.33106033],\n",
              "       [384587.99006796],\n",
              "       [309555.84322586],\n",
              "       [361096.38717857],\n",
              "       [430071.20864201],\n",
              "       [305187.02803394],\n",
              "       [364059.47665677],\n",
              "       [504472.21332693],\n",
              "       [455136.56859865],\n",
              "       [482976.49505148],\n",
              "       [373977.42484106],\n",
              "       [495628.02647499],\n",
              "       [468988.90945108],\n",
              "       [428567.12311158],\n",
              "       [332104.83120517],\n",
              "       [496312.44686622],\n",
              "       [481435.52458979],\n",
              "       [392366.61223894],\n",
              "       [210286.1982177 ],\n",
              "       [354813.65388663],\n",
              "       [432722.82536731],\n",
              "       [164188.23078926],\n",
              "       [446804.67245872],\n",
              "       [184511.82791565],\n",
              "       [449911.20333627],\n",
              "       [339416.24424681],\n",
              "       [421329.47993247],\n",
              "       [322998.35150869],\n",
              "       [504246.80541365],\n",
              "       [503959.92261493],\n",
              "       [139221.23064932],\n",
              "       [432161.35474696],\n",
              "       [226011.4739132 ],\n",
              "       [265191.46756682],\n",
              "       [139876.96276067],\n",
              "       [207794.41619454],\n",
              "       [383579.80194675],\n",
              "       [353198.91356241],\n",
              "       [426419.60044688],\n",
              "       [112164.08440442],\n",
              "       [155225.19249214],\n",
              "       [350608.77172255],\n",
              "       [406768.12873463],\n",
              "       [413391.02305935],\n",
              "       [238831.03669024],\n",
              "       [253679.2706868 ],\n",
              "       [149651.4695456 ],\n",
              "       [148557.21658477],\n",
              "       [488537.92302093],\n",
              "       [112295.23082669],\n",
              "       [262597.22740126],\n",
              "       [302924.75224976],\n",
              "       [327781.09759591],\n",
              "       [291019.11610292],\n",
              "       [243121.98369394],\n",
              "       [389633.02899972],\n",
              "       [491599.37231584],\n",
              "       [303146.06183734],\n",
              "       [303764.90901743],\n",
              "       [183618.39291393],\n",
              "       [337485.932844  ],\n",
              "       [204097.72641676],\n",
              "       [201454.30634285],\n",
              "       [148524.4299792 ],\n",
              "       [406440.26267896],\n",
              "       [306592.75374766],\n",
              "       [508115.62487066],\n",
              "       [329916.32528352],\n",
              "       [358121.00272329],\n",
              "       [155344.04393732],\n",
              "       [256765.30993587],\n",
              "       [430661.36754223],\n",
              "       [211073.07675133],\n",
              "       [270826.6653988 ],\n",
              "       [305609.15558063],\n",
              "       [139872.86443498],\n",
              "       [318281.17863261],\n",
              "       [163454.63048968],\n",
              "       [107582.15627631],\n",
              "       [285367.52496815],\n",
              "       [129250.00423098],\n",
              "       [343129.32732737],\n",
              "       [120975.48465079],\n",
              "       [437472.78484896],\n",
              "       [188917.52803883],\n",
              "       [350436.64204331],\n",
              "       [142008.09212259],\n",
              "       [449685.79542299],\n",
              "       [314600.88215762],\n",
              "       [246539.98732439],\n",
              "       [348076.00644243],\n",
              "       [387284.68837592],\n",
              "       [361276.7135092 ],\n",
              "       [329928.6202606 ],\n",
              "       [511558.21845528],\n",
              "       [387083.87041682],\n",
              "       [397538.69926728],\n",
              "       [317809.87117758],\n",
              "       [321613.11742345],\n",
              "       [491033.80336979],\n",
              "       [205265.74924012],\n",
              "       [186601.9740206 ],\n",
              "       [459488.99048779],\n",
              "       [207019.832638  ],\n",
              "       [208708.34282475],\n",
              "       [174372.57014378],\n",
              "       [357608.71201129],\n",
              "       [357026.74976246],\n",
              "       [356989.8648312 ],\n",
              "       [338981.82172304],\n",
              "       [457866.05351218],\n",
              "       [170880.7966508 ],\n",
              "       [296687.10054047],\n",
              "       [431509.7209613 ],\n",
              "       [224761.48457592],\n",
              "       [362452.93298394],\n",
              "       [233097.47904156],\n",
              "       [113455.05699866],\n",
              "       [230240.94603146],\n",
              "       [396956.73701845],\n",
              "       [138258.12411076],\n",
              "       [403641.1062286 ],\n",
              "       [182208.56887451],\n",
              "       [352317.77353777],\n",
              "       [332662.20349983],\n",
              "       [501627.97529391],\n",
              "       [148380.98857984],\n",
              "       [196175.66284642],\n",
              "       [218359.89983879],\n",
              "       [335674.47288638],\n",
              "       [441075.21313573],\n",
              "       [414809.04375016],\n",
              "       [226982.77710315],\n",
              "       [490005.1236201 ],\n",
              "       [307379.63228129],\n",
              "       [235744.99744116],\n",
              "       [313748.43041285],\n",
              "       [201536.27285677],\n",
              "       [510845.10978418],\n",
              "       [145053.1481147 ],\n",
              "       [362030.80543726],\n",
              "       [351305.48709086],\n",
              "       [460804.5530362 ],\n",
              "       [213736.98845372],\n",
              "       [216991.05905633],\n",
              "       [471804.45920423],\n",
              "       [105762.49966729],\n",
              "       [465673.36396303],\n",
              "       [511144.28755999],\n",
              "       [457136.55153829],\n",
              "       [147540.83181217],\n",
              "       [144704.79043054],\n",
              "       [244511.31610488],\n",
              "       [174167.65385898],\n",
              "       [414120.52503323],\n",
              "       [468747.10823502],\n",
              "       [206339.51057247],\n",
              "       [434071.17452129],\n",
              "       [113377.18881043],\n",
              "       [222458.22553478],\n",
              "       [459792.26658929],\n",
              "       [160110.39672175],\n",
              "       [320949.1886607 ],\n",
              "       [110217.37969883],\n",
              "       [447407.12633603],\n",
              "       [301924.76077994],\n",
              "       [502296.00238236],\n",
              "       [315596.77530174],\n",
              "       [150901.45888287],\n",
              "       [416735.25682727],\n",
              "       [143770.37217186],\n",
              "       [210884.55376932],\n",
              "       [293883.84576441],\n",
              "       [142876.93717013],\n",
              "       [255970.23475085],\n",
              "       [227011.46538302],\n",
              "       [503369.76371471],\n",
              "       [459165.22275781],\n",
              "       [288506.84245128],\n",
              "       [464534.02941955],\n",
              "       [105053.48932189],\n",
              "       [397948.53183687],\n",
              "       [441976.84478884],\n",
              "       [263691.48036209],\n",
              "       [335912.17577674],\n",
              "       [233826.98101544],\n",
              "       [194089.61506717],\n",
              "       [125020.53211273],\n",
              "       [339522.80071491],\n",
              "       [133508.16462911],\n",
              "       [120168.11448868],\n",
              "       [233076.98741308],\n",
              "       [457620.15397042],\n",
              "       [426140.91429956],\n",
              "       [270310.2763611 ],\n",
              "       [187212.6245493 ],\n",
              "       [462997.15728355],\n",
              "       [147118.70426548],\n",
              "       [361034.91229313],\n",
              "       [238990.87139238],\n",
              "       [422718.81234341],\n",
              "       [163774.29989396],\n",
              "       [332953.18462424],\n",
              "       [221113.9747065 ],\n",
              "       [123524.64323369],\n",
              "       [450099.72631829],\n",
              "       [413362.33477947],\n",
              "       [132971.28396294],\n",
              "       [511828.70795122],\n",
              "       [152762.09874885],\n",
              "       [136311.41940517],\n",
              "       [118832.06031179],\n",
              "       [225048.36737464],\n",
              "       [472546.2561552 ],\n",
              "       [229089.31651088],\n",
              "       [180987.2678171 ],\n",
              "       [327076.1855762 ],\n",
              "       [313949.24837196],\n",
              "       [510254.95088396],\n",
              "       [245568.68413444],\n",
              "       [312354.99967622],\n",
              "       [146926.08295777],\n",
              "       [163782.49654536],\n",
              "       [385284.70543628],\n",
              "       [345920.28712634],\n",
              "       [185007.72532486],\n",
              "       [340465.41562498],\n",
              "       [360772.61944859],\n",
              "       [439509.65271986],\n",
              "       [132348.33845715],\n",
              "       [383952.74958508],\n",
              "       [477234.74075141],\n",
              "       [186655.25225465],\n",
              "       [349432.5522478 ],\n",
              "       [131184.41395949],\n",
              "       [244978.52523422],\n",
              "       [256437.44388019],\n",
              "       [491410.84933382],\n",
              "       [197233.03087599],\n",
              "       [218536.12784372],\n",
              "       [364944.7150071 ],\n",
              "       [368584.02822514],\n",
              "       [352051.38236753],\n",
              "       [445956.31903965],\n",
              "       [461124.22244049],\n",
              "       [324498.33871342],\n",
              "       [486550.23505838],\n",
              "       [144422.00595752],\n",
              "       [492599.36378566],\n",
              "       [239601.52192109],\n",
              "       [374604.46867254],\n",
              "       [241589.20988364],\n",
              "       [244195.74502629],\n",
              "       [112438.67222605],\n",
              "       [255142.37296026],\n",
              "       [126409.86452367],\n",
              "       [414501.66932296],\n",
              "       [298129.71118545],\n",
              "       [359075.91261045],\n",
              "       [454234.93694554],\n",
              "       [492710.01857945],\n",
              "       [110877.21013588],\n",
              "       [360137.37896571],\n",
              "       [402382.92023993],\n",
              "       [446378.44658633],\n",
              "       [513156.56547672],\n",
              "       [222421.34060352],\n",
              "       [353506.28798961],\n",
              "       [256384.16564615],\n",
              "       [245564.58580874],\n",
              "       [167286.56501542],\n",
              "       [340235.90938601],\n",
              "       [257531.69684102],\n",
              "       [223036.08945791],\n",
              "       [186601.9740206 ],\n",
              "       [392301.03902781],\n",
              "       [187524.0973022 ],\n",
              "       [486054.33764917],\n",
              "       [292445.33344512],\n",
              "       [472845.43393101],\n",
              "       [439845.71542693],\n",
              "       [260707.89925541],\n",
              "       [495173.11232274],\n",
              "       [462157.00051588],\n",
              "       [242810.51094104],\n",
              "       [149917.86071584],\n",
              "       [454394.77164768],\n",
              "       [178179.91471535],\n",
              "       [432661.35048187],\n",
              "       [447025.9820463 ],\n",
              "       [166401.32666509],\n",
              "       [276265.14359737],\n",
              "       [219847.59206644],\n",
              "       [414813.14207585],\n",
              "       [479451.93495294],\n",
              "       [131340.15033594],\n",
              "       [197593.68353724],\n",
              "       [282490.50032957],\n",
              "       [267625.87303023],\n",
              "       [355366.92785559],\n",
              "       [433993.30633307],\n",
              "       [211036.19182007],\n",
              "       [418005.73779303],\n",
              "       [138737.62821719],\n",
              "       [402022.26757868],\n",
              "       [352924.32574078],\n",
              "       [248232.59583683],\n",
              "       [282047.88115441],\n",
              "       [321207.38317955],\n",
              "       [380960.97182701],\n",
              "       [479947.83236215],\n",
              "       [479058.49568612],\n",
              "       [249900.6143951 ],\n",
              "       [283908.52102038],\n",
              "       [391292.85090659],\n",
              "       [324027.03125839],\n",
              "       [473148.71003251],\n",
              "       [144462.98921448],\n",
              "       [272597.14209946],\n",
              "       [491566.58571027],\n",
              "       [412415.6215437 ],\n",
              "       [438177.69686867],\n",
              "       [293793.6825991 ],\n",
              "       [349518.61708741],\n",
              "       [179224.98776783],\n",
              "       [284121.63395658],\n",
              "       [152135.05491737],\n",
              "       [505648.43280167],\n",
              "       [242511.33316524],\n",
              "       [252646.49261141],\n",
              "       [176208.62005558],\n",
              "       [413641.0209268 ],\n",
              "       [340030.99310121],\n",
              "       [244724.42904107],\n",
              "       [392358.41558755],\n",
              "       [209163.256977  ],\n",
              "       [405960.75857253],\n",
              "       [342055.56599502],\n",
              "       [485689.58666223],\n",
              "       [280642.15544068],\n",
              "       [464238.94996944],\n",
              "       [482185.51819216],\n",
              "       [187761.80019257],\n",
              "       [255347.28924506],\n",
              "       [435673.61986842],\n",
              "       [220441.84929235],\n",
              "       [159991.54527657],\n",
              "       [477853.5879315 ],\n",
              "       [176999.59691491],\n",
              "       [193478.96453847],\n",
              "       [282301.97734756],\n",
              "       [485287.95074402],\n",
              "       [241662.97974617],\n",
              "       [454374.2800192 ],\n",
              "       [344612.92122932],\n",
              "       [117332.07310706],\n",
              "       [242212.15538943]])"
            ]
          },
          "metadata": {
            "tags": []
          },
          "execution_count": 36
        }
      ]
    },
    {
      "cell_type": "code",
      "metadata": {
        "id": "DV_MS_Ca7nm_"
      },
      "source": [
        "y_pred_test = lr_model.predict(X_test)                                  # make predictions on the testing set"
      ],
      "execution_count": null,
      "outputs": []
    },
    {
      "cell_type": "code",
      "metadata": {
        "scrolled": true,
        "id": "ShmoPA227nnH",
        "colab": {
          "base_uri": "https://localhost:8080/",
          "height": 1000
        },
        "outputId": "a8c9795b-e47d-4313-fda7-c9bfbadcb898"
      },
      "source": [
        "y_pred_test"
      ],
      "execution_count": null,
      "outputs": [
        {
          "output_type": "execute_result",
          "data": {
            "text/plain": [
              "array([[338305.5979832 ],\n",
              "       [420087.68724659],\n",
              "       [201458.40466855],\n",
              "       [115791.10264537],\n",
              "       [233003.21755055],\n",
              "       [274142.21088685],\n",
              "       [307223.89590484],\n",
              "       [256482.52546285],\n",
              "       [152315.38124799],\n",
              "       [327408.14995757],\n",
              "       [393874.79609506],\n",
              "       [142602.3493485 ],\n",
              "       [321322.13629903],\n",
              "       [453120.19235623],\n",
              "       [199896.94257838],\n",
              "       [345707.17419015],\n",
              "       [209261.61679371],\n",
              "       [454866.07910272],\n",
              "       [508144.31315053],\n",
              "       [249314.55382057],\n",
              "       [444505.51174327],\n",
              "       [136614.69550667],\n",
              "       [339990.00984425],\n",
              "       [450116.11962107],\n",
              "       [242564.61139928],\n",
              "       [278453.64951903],\n",
              "       [294154.33526035],\n",
              "       [325117.18589352],\n",
              "       [183298.72350964],\n",
              "       [238994.96971808],\n",
              "       [147729.35479418],\n",
              "       [307928.80792455],\n",
              "       [208474.73826008],\n",
              "       [266961.94426748],\n",
              "       [312871.38871391],\n",
              "       [242691.65949586],\n",
              "       [227077.03859415],\n",
              "       [441386.68588862],\n",
              "       [337108.88687997],\n",
              "       [411550.87482185],\n",
              "       [394731.34616553],\n",
              "       [377723.29452719],\n",
              "       [348153.87463065],\n",
              "       [161044.81498044],\n",
              "       [206011.64451679],\n",
              "       [188028.19136281],\n",
              "       [442579.29866615],\n",
              "       [164876.74950618],\n",
              "       [195737.14199695],\n",
              "       [468927.43456564],\n",
              "       [204982.9647671 ],\n",
              "       [427608.11489872],\n",
              "       [125352.4964941 ],\n",
              "       [261937.39696421],\n",
              "       [278629.87752395],\n",
              "       [399485.40397287],\n",
              "       [506722.19413402],\n",
              "       [399100.16135745],\n",
              "       [351625.15649515],\n",
              "       [206876.39123864],\n",
              "       [433423.63906132],\n",
              "       [177540.57590678],\n",
              "       [256658.75346778],\n",
              "       [277318.41330124],\n",
              "       [214007.47794966],\n",
              "       [407534.51563978],\n",
              "       [440661.28224043],\n",
              "       [406673.86724363],\n",
              "       [251552.23965058],\n",
              "       [403026.3573742 ],\n",
              "       [314932.84653899],\n",
              "       [471997.08051194],\n",
              "       [215191.8940758 ],\n",
              "       [441960.45148606],\n",
              "       [351834.17110565],\n",
              "       [115860.7741822 ],\n",
              "       [153114.55475871],\n",
              "       [352776.78601572],\n",
              "       [418940.15605171],\n",
              "       [454030.02066074],\n",
              "       [304391.95284892],\n",
              "       [474296.24122739],\n",
              "       [121077.94279319],\n",
              "       [500923.0632742 ],\n",
              "       [404403.39480805],\n",
              "       [113909.97115091],\n",
              "       [345617.01102484],\n",
              "       [211167.33824234],\n",
              "       [254794.0152761 ],\n",
              "       [230154.88119184],\n",
              "       [218974.64869319],\n",
              "       [489800.2073353 ],\n",
              "       [173294.71048574],\n",
              "       [210954.22530615],\n",
              "       [190876.52772152],\n",
              "       [176380.74973482],\n",
              "       [420747.51768364],\n",
              "       [466288.11281743],\n",
              "       [245167.04821623],\n",
              "       [135815.52199595],\n",
              "       [142946.60870697],\n",
              "       [220982.82828422],\n",
              "       [220642.66725146],\n",
              "       [252597.31270306],\n",
              "       [283035.57764714],\n",
              "       [319920.50891101],\n",
              "       [170405.39087007],\n",
              "       [187167.54296665],\n",
              "       [269416.84135938],\n",
              "       [504283.69034491],\n",
              "       [131237.69219354],\n",
              "       [214626.32512975],\n",
              "       [172413.5704611 ],\n",
              "       [213601.74370575],\n",
              "       [345785.04237837],\n",
              "       [308797.6529721 ],\n",
              "       [237843.34019751],\n",
              "       [270269.29310414],\n",
              "       [425968.78462033],\n",
              "       [346580.11756339],\n",
              "       [107442.81320264],\n",
              "       [218548.42282081],\n",
              "       [116299.29503167],\n",
              "       [469743.00137915],\n",
              "       [216216.47549979],\n",
              "       [181806.9329563 ],\n",
              "       [451808.72813351],\n",
              "       [197257.62083016],\n",
              "       [344633.4128578 ],\n",
              "       [358235.75584278],\n",
              "       [499492.7476063 ],\n",
              "       [268084.88550818],\n",
              "       [289437.16238427],\n",
              "       [114569.80158796],\n",
              "       [500709.95033801],\n",
              "       [492087.07307366],\n",
              "       [426079.43941412],\n",
              "       [483083.05151958],\n",
              "       [314584.48885483],\n",
              "       [249716.18973878],\n",
              "       [266334.900436  ],\n",
              "       [263298.04109527],\n",
              "       [444665.34644541],\n",
              "       [215405.00701199],\n",
              "       [189688.01326968],\n",
              "       [106582.16480649],\n",
              "       [177298.77469072],\n",
              "       [450071.03803842],\n",
              "       [231163.06931305],\n",
              "       [325035.2193796 ],\n",
              "       [299588.71513322],\n",
              "       [348793.21343922],\n",
              "       [156421.90359537],\n",
              "       [323162.28453653],\n",
              "       [340842.46158901],\n",
              "       [477201.95414584],\n",
              "       [508283.65622419],\n",
              "       [228679.48394128],\n",
              "       [160188.26490998],\n",
              "       [304900.14523522],\n",
              "       [273982.37618471],\n",
              "       [202704.29568013],\n",
              "       [487751.04448731],\n",
              "       [126602.48583138],\n",
              "       [275490.56004083],\n",
              "       [345625.20767623],\n",
              "       [503476.3201828 ],\n",
              "       [158483.36142045],\n",
              "       [308141.92086075],\n",
              "       [512386.08024587],\n",
              "       [302777.2125247 ],\n",
              "       [182602.00814132],\n",
              "       [494058.36773343],\n",
              "       [148409.67685971],\n",
              "       [188638.84189151],\n",
              "       [479415.05002167],\n",
              "       [338653.95566736],\n",
              "       [285650.30944118],\n",
              "       [299088.71939831],\n",
              "       [348465.34738355],\n",
              "       [418862.28786349],\n",
              "       [443603.88009015],\n",
              "       [106434.62508143],\n",
              "       [486824.82288001],\n",
              "       [412456.60480066],\n",
              "       [136241.74786833],\n",
              "       [261027.5686597 ],\n",
              "       [466587.29059324],\n",
              "       [412882.83067304],\n",
              "       [198741.21473211],\n",
              "       [440435.87432715],\n",
              "       [360682.45628328],\n",
              "       [323149.98955944],\n",
              "       [109381.32125685],\n",
              "       [366362.73569791],\n",
              "       [278162.66839461],\n",
              "       [323645.88696866],\n",
              "       [321809.83705686],\n",
              "       [239511.35875577],\n",
              "       [414304.94968955],\n",
              "       [229257.34786442],\n",
              "       [229490.95242909],\n",
              "       [225945.90070206],\n",
              "       [247371.94744067],\n",
              "       [225732.78776587],\n",
              "       [345543.24116231],\n",
              "       [153405.53588312],\n",
              "       [129200.82432263],\n",
              "       [379149.51186939],\n",
              "       [464579.1110022 ],\n",
              "       [292273.20376589],\n",
              "       [249765.36964713],\n",
              "       [498078.82524119],\n",
              "       [247105.55627044],\n",
              "       [464644.68421334],\n",
              "       [112282.9358496 ],\n",
              "       [287105.21506325],\n",
              "       [277961.85043551],\n",
              "       [369911.88575064],\n",
              "       [501882.07148706],\n",
              "       [109717.38396392],\n",
              "       [405272.2398556 ],\n",
              "       [133028.66052268],\n",
              "       [263302.13942097],\n",
              "       [369411.89001573],\n",
              "       [143635.12742389],\n",
              "       [507545.95759892],\n",
              "       [212929.61829161],\n",
              "       [393755.94464988],\n",
              "       [475062.62813253],\n",
              "       [329051.57856166],\n",
              "       [396973.13032123],\n",
              "       [306986.19301448],\n",
              "       [464542.22607094],\n",
              "       [119504.18572593],\n",
              "       [250273.56203343],\n",
              "       [173458.64351358],\n",
              "       [467349.57917269],\n",
              "       [396805.09896769],\n",
              "       [204368.2159127 ],\n",
              "       [326285.20871687],\n",
              "       [177893.03191663],\n",
              "       [121881.2146296 ],\n",
              "       [444411.25025226],\n",
              "       [127922.14670548],\n",
              "       [325432.75697211],\n",
              "       [175593.87120119],\n",
              "       [176216.81670698],\n",
              "       [171348.00578014],\n",
              "       [470771.68112884]])"
            ]
          },
          "metadata": {
            "tags": []
          },
          "execution_count": 38
        }
      ]
    },
    {
      "cell_type": "markdown",
      "metadata": {
        "id": "wb5VhZmh7nnM"
      },
      "source": [
        "- We need an evaluation metric in order to compare our predictions with the actual values."
      ]
    },
    {
      "cell_type": "markdown",
      "metadata": {
        "id": "RweYBBOi7nnN"
      },
      "source": [
        "<a id=section5></a>"
      ]
    },
    {
      "cell_type": "markdown",
      "metadata": {
        "id": "fO6Ugx_97nnN"
      },
      "source": [
        "## 5. Model evaluation "
      ]
    },
    {
      "cell_type": "markdown",
      "metadata": {
        "id": "_g1vlEkP7nnP"
      },
      "source": [
        "__Error__ is the _deviation_ of the values _predicted_ by the model with the _true_ values.<br/>\n",
        "For example, if a model predicts that the price of apple is Rs75/kg, but the actual price of apple is Rs100/kg, then the error in prediction will be Rs25/kg.<br/>\n",
        "Below are the types of error we will be calculating for our _linear regression model_:\n",
        "- Mean Absolute Error\n",
        "- Mean Squared Error\n",
        "- Root Mean Squared Error"
      ]
    },
    {
      "cell_type": "markdown",
      "metadata": {
        "id": "2lO3l5h27nnS"
      },
      "source": [
        "### 5.1 Model Evaluation using __metrics.__"
      ]
    },
    {
      "cell_type": "markdown",
      "metadata": {
        "id": "XAvc0OOK7nnT"
      },
      "source": [
        "__Mean Absolute Error__ (MAE) is the mean of the absolute value of the errors:\n",
        "$$\\frac 1n\\sum_{i=1}^n|y_i-\\hat{y}_i|$$\n",
        "Computing the MAE for our target predictions"
      ]
    },
    {
      "cell_type": "code",
      "metadata": {
        "id": "VSMJNDKH7nnT"
      },
      "source": [
        "from sklearn import metrics\n",
        "MAE_train = metrics.mean_absolute_error(y_train, y_pred_train)\n",
        "MAE_test = metrics.mean_absolute_error(y_test, y_pred_test)"
      ],
      "execution_count": null,
      "outputs": []
    },
    {
      "cell_type": "code",
      "metadata": {
        "scrolled": false,
        "id": "TNrJa4zv7nnW",
        "colab": {
          "base_uri": "https://localhost:8080/",
          "height": 51
        },
        "outputId": "4c5aac85-1af2-447f-f350-d1e08372c314"
      },
      "source": [
        "print('MAE for training set is {}'.format(MAE_train))\n",
        "print('MAE for test set is {}'.format(MAE_test))"
      ],
      "execution_count": null,
      "outputs": [
        {
          "output_type": "stream",
          "text": [
            "MAE for training set is 36281.40865026533\n",
            "MAE for test set is 35453.7954088463\n"
          ],
          "name": "stdout"
        }
      ]
    },
    {
      "cell_type": "markdown",
      "metadata": {
        "id": "VhHulMMy7nnc"
      },
      "source": [
        "__Mean Squared Error__ (MSE) is the mean of the squared errors:\n",
        "$$\\frac 1n\\sum_{i=1}^n(y_i-\\hat{y}_i)^2$$\n",
        "\n",
        "Computing the MSE for our target predictions"
      ]
    },
    {
      "cell_type": "code",
      "metadata": {
        "id": "FFT4ZFsd7nnc"
      },
      "source": [
        "MSE_train = metrics.mean_squared_error(y_train, y_pred_train)\n",
        "MSE_test = metrics.mean_squared_error(y_test, y_pred_test)"
      ],
      "execution_count": null,
      "outputs": []
    },
    {
      "cell_type": "code",
      "metadata": {
        "id": "hSPJu4SA7nnf",
        "colab": {
          "base_uri": "https://localhost:8080/",
          "height": 51
        },
        "outputId": "2fc3b22a-6a34-48e9-c714-b1ade54b517a"
      },
      "source": [
        "print('MSE for training set is {}'.format(MSE_train))\n",
        "print('MSE for test set is {}'.format(MSE_test))"
      ],
      "execution_count": null,
      "outputs": [
        {
          "output_type": "stream",
          "text": [
            "MSE for training set is 2001568036.8982077\n",
            "MSE for test set is 1882676753.2199771\n"
          ],
          "name": "stdout"
        }
      ]
    },
    {
      "cell_type": "markdown",
      "metadata": {
        "id": "I1N0f1eZ7nnm"
      },
      "source": [
        "__Root Mean Squared Error__ (RMSE) is the square root of the mean of the squared errors:\n",
        "\n",
        "$$\\sqrt{\\frac 1n\\sum_{i=1}^n(y_i-\\hat{y}_i)^2}$$\n",
        "\n",
        "Computing the RMSE for our target predictions"
      ]
    },
    {
      "cell_type": "code",
      "metadata": {
        "id": "okIhabkM7nnm"
      },
      "source": [
        "RMSE_train = np.sqrt( metrics.mean_squared_error(y_train, y_pred_train))\n",
        "RMSE_test = np.sqrt(metrics.mean_squared_error(y_test, y_pred_test))"
      ],
      "execution_count": null,
      "outputs": []
    },
    {
      "cell_type": "code",
      "metadata": {
        "id": "8_sbx1L-7nnp",
        "colab": {
          "base_uri": "https://localhost:8080/",
          "height": 51
        },
        "outputId": "540f0400-e788-4709-f3be-e84ed0fca0cc"
      },
      "source": [
        "print('RMSE for training set is {}'.format(RMSE_train))\n",
        "print('RMSE for test set is {}'.format(RMSE_test))"
      ],
      "execution_count": null,
      "outputs": [
        {
          "output_type": "stream",
          "text": [
            "RMSE for training set is 44738.887300627044\n",
            "RMSE for test set is 43389.82315267\n"
          ],
          "name": "stdout"
        }
      ]
    },
    {
      "cell_type": "code",
      "metadata": {
        "id": "RSlXGmTX7nnr",
        "colab": {
          "base_uri": "https://localhost:8080/",
          "height": 34
        },
        "outputId": "f27fe146-94f3-4e5e-8882-4b2382db6926"
      },
      "source": [
        "data['current price'].mean()"
      ],
      "execution_count": null,
      "outputs": [
        {
          "output_type": "execute_result",
          "data": {
            "text/plain": [
              "308520.2425"
            ]
          },
          "metadata": {
            "tags": []
          },
          "execution_count": 45
        }
      ]
    },
    {
      "cell_type": "code",
      "metadata": {
        "id": "7RGkvBj07nnv",
        "colab": {
          "base_uri": "https://localhost:8080/",
          "height": 34
        },
        "outputId": "9e61028d-7345-4d62-9ace-48c6f7a2fb11"
      },
      "source": [
        "RMSE_test/data['current price'].mean()"
      ],
      "execution_count": null,
      "outputs": [
        {
          "output_type": "execute_result",
          "data": {
            "text/plain": [
              "0.1406384968489385"
            ]
          },
          "metadata": {
            "tags": []
          },
          "execution_count": 46
        }
      ]
    },
    {
      "cell_type": "markdown",
      "metadata": {
        "id": "OGjwr1D_7nn6"
      },
      "source": [
        "Comparing these metrics:\n",
        "- __RMSE__ is more popular than MSE, because RMSE is _interpretable_ in the \"y\" units.\n",
        "    - Easier to put in context as it's the same units as our response variable."
      ]
    },
    {
      "cell_type": "code",
      "metadata": {
        "id": "GkjNNXyL9H6T"
      },
      "source": [
        "import statsmodels.api as sm\n",
        "from scipy import stats"
      ],
      "execution_count": null,
      "outputs": []
    },
    {
      "cell_type": "code",
      "metadata": {
        "id": "a6w_aPOQ-VU_",
        "colab": {
          "base_uri": "https://localhost:8080/",
          "height": 238
        },
        "outputId": "affb1eeb-f5bc-4792-a1f1-267cd66e0d9d"
      },
      "source": [
        "X=X_train\n",
        "y=y_train\n",
        "X2 = sm.add_constant(X) \n",
        "est = sm.OLS(y, X2)\n",
        "est2 = est.fit()\n",
        "X2=sm.add_constant(X_test)\n",
        "y=y_test\n",
        "predictions = est2.predict(X2)\n",
        "print(predictions)\n",
        "print(\"r2_score\",metrics.r2_score(y,predictions))"
      ],
      "execution_count": null,
      "outputs": [
        {
          "output_type": "stream",
          "text": [
            "993    338305.597983\n",
            "859    420087.687247\n",
            "298    201458.404669\n",
            "553    115791.102645\n",
            "672    233003.217551\n",
            "           ...      \n",
            "462    325432.756972\n",
            "356    175593.871201\n",
            "2      176216.816707\n",
            "478    171348.005780\n",
            "695    470771.681129\n",
            "Length: 250, dtype: float64\n",
            "r2_score 0.8675214801384525\n"
          ],
          "name": "stdout"
        }
      ]
    },
    {
      "cell_type": "code",
      "metadata": {
        "id": "e9hkaaLx-VeG",
        "colab": {
          "base_uri": "https://localhost:8080/",
          "height": 697
        },
        "outputId": "d1f9a7e6-bba0-47f1-91d3-cdcef83b6fcd"
      },
      "source": [
        "print(\"summary()\\n\",est2.summary())\n",
        "print(\"pvalues\\n\",est2.pvalues)\n",
        "print(\"tvalues\\n\",est2.tvalues)\n",
        "print(\"rsquared\\n\",est2.rsquared)\n",
        "print(\"rsquared_adj\\n\",est2.rsquared_adj)"
      ],
      "execution_count": null,
      "outputs": [
        {
          "output_type": "stream",
          "text": [
            "summary()\n",
            "                             OLS Regression Results                            \n",
            "==============================================================================\n",
            "Dep. Variable:          current price   R-squared:                       0.878\n",
            "Model:                            OLS   Adj. R-squared:                  0.878\n",
            "Method:                 Least Squares   F-statistic:                     5380.\n",
            "Date:                Thu, 15 Oct 2020   Prob (F-statistic):               0.00\n",
            "Time:                        05:18:06   Log-Likelihood:                -9095.7\n",
            "No. Observations:                 750   AIC:                         1.820e+04\n",
            "Df Residuals:                     748   BIC:                         1.820e+04\n",
            "Df Model:                           1                                         \n",
            "Covariance Type:            nonrobust                                         \n",
            "==============================================================================\n",
            "                 coef    std err          t      P>|t|      [0.025      0.975]\n",
            "------------------------------------------------------------------------------\n",
            "const       7.194e+05   5796.465    124.110      0.000    7.08e+05    7.31e+05\n",
            "km            -4.0983      0.056    -73.350      0.000      -4.208      -3.989\n",
            "==============================================================================\n",
            "Omnibus:                        9.684   Durbin-Watson:                   1.971\n",
            "Prob(Omnibus):                  0.008   Jarque-Bera (JB):                6.390\n",
            "Skew:                          -0.059   Prob(JB):                       0.0410\n",
            "Kurtosis:                       2.564   Cond. No.                     3.68e+05\n",
            "==============================================================================\n",
            "\n",
            "Warnings:\n",
            "[1] Standard Errors assume that the covariance matrix of the errors is correctly specified.\n",
            "[2] The condition number is large, 3.68e+05. This might indicate that there are\n",
            "strong multicollinearity or other numerical problems.\n",
            "pvalues\n",
            " const    0.0\n",
            "km       0.0\n",
            "dtype: float64\n",
            "tvalues\n",
            " const    124.110253\n",
            "km       -73.350376\n",
            "dtype: float64\n",
            "rsquared\n",
            " 0.8779428684601269\n",
            "rsquared_adj\n",
            " 0.8777796904767848\n"
          ],
          "name": "stdout"
        }
      ]
    },
    {
      "cell_type": "markdown",
      "metadata": {
        "id": "ZccEoVgo-5ra"
      },
      "source": [
        "R-squared and R-squared adjusted same as we have one predictor here."
      ]
    },
    {
      "cell_type": "markdown",
      "metadata": {
        "id": "9MwlyJ0l7nn7"
      },
      "source": [
        "### 5.2 Model Evaluation using Rsquared value."
      ]
    },
    {
      "cell_type": "code",
      "metadata": {
        "id": "BpccSDaD7nn7",
        "colab": {
          "base_uri": "https://localhost:8080/",
          "height": 51
        },
        "outputId": "83452520-eaaf-429f-8d2c-8f8851447895"
      },
      "source": [
        "# r2_score is a standard metric in the sklearn library\n",
        "r2_train = metrics.r2_score(y_train, y_pred_train)\n",
        "r2_test = metrics.r2_score(y_test, y_pred_test)\n",
        "print('R-Squared of train data:',r2_train)\n",
        "print('R-Squared of test data:',r2_test)"
      ],
      "execution_count": null,
      "outputs": [
        {
          "output_type": "stream",
          "text": [
            "R-Squared of train data: 0.8779428684601269\n",
            "R-Squared of test data: 0.8675214801384524\n"
          ],
          "name": "stdout"
        }
      ]
    },
    {
      "cell_type": "markdown",
      "metadata": {
        "id": "k1iFlDOl7noB"
      },
      "source": [
        "### 6. Standardisation of data"
      ]
    },
    {
      "cell_type": "markdown",
      "metadata": {
        "id": "DRhukm187noF"
      },
      "source": [
        "- __Standardization__. <br/>\n",
        "Standardize features by removing the _mean_ and scaling to _unit standard deviation_.\n",
        "\n"
      ]
    },
    {
      "cell_type": "markdown",
      "metadata": {
        "id": "cZ01a8KV7noG"
      },
      "source": [
        "**z = (x-x_mean)/stdev**"
      ]
    },
    {
      "cell_type": "markdown",
      "metadata": {
        "id": "Fwwv5l2M7noH"
      },
      "source": [
        "- __Standardization__. <br/>\n",
        "Standardize features by removing the _mean_ and scaling to _unit standard deviation_.\n",
        "\n",
        "**\"Standardization with out Y(target) variables\"**"
      ]
    },
    {
      "cell_type": "markdown",
      "metadata": {
        "id": "nc2dHSk8_cHK"
      },
      "source": [
        "###First Standardized then Train_Test split:"
      ]
    },
    {
      "cell_type": "code",
      "metadata": {
        "id": "hJ2ETDgL7noI",
        "colab": {
          "base_uri": "https://localhost:8080/",
          "height": 142
        },
        "outputId": "8a5665d4-bb76-4390-9f04-358c0318e8d9"
      },
      "source": [
        "data2=data.copy()\n",
        "data2.head(3)"
      ],
      "execution_count": null,
      "outputs": [
        {
          "output_type": "execute_result",
          "data": {
            "text/html": [
              "<div>\n",
              "<style scoped>\n",
              "    .dataframe tbody tr th:only-of-type {\n",
              "        vertical-align: middle;\n",
              "    }\n",
              "\n",
              "    .dataframe tbody tr th {\n",
              "        vertical-align: top;\n",
              "    }\n",
              "\n",
              "    .dataframe thead th {\n",
              "        text-align: right;\n",
              "    }\n",
              "</style>\n",
              "<table border=\"1\" class=\"dataframe\">\n",
              "  <thead>\n",
              "    <tr style=\"text-align: right;\">\n",
              "      <th></th>\n",
              "      <th>v.id</th>\n",
              "      <th>on road old</th>\n",
              "      <th>on road now</th>\n",
              "      <th>years</th>\n",
              "      <th>km</th>\n",
              "      <th>rating</th>\n",
              "      <th>condition</th>\n",
              "      <th>economy</th>\n",
              "      <th>top speed</th>\n",
              "      <th>hp</th>\n",
              "      <th>torque</th>\n",
              "      <th>current price</th>\n",
              "    </tr>\n",
              "  </thead>\n",
              "  <tbody>\n",
              "    <tr>\n",
              "      <th>0</th>\n",
              "      <td>1</td>\n",
              "      <td>535651</td>\n",
              "      <td>798186</td>\n",
              "      <td>3</td>\n",
              "      <td>78945</td>\n",
              "      <td>1</td>\n",
              "      <td>2</td>\n",
              "      <td>14</td>\n",
              "      <td>177</td>\n",
              "      <td>73</td>\n",
              "      <td>123</td>\n",
              "      <td>351318.0</td>\n",
              "    </tr>\n",
              "    <tr>\n",
              "      <th>1</th>\n",
              "      <td>2</td>\n",
              "      <td>591911</td>\n",
              "      <td>861056</td>\n",
              "      <td>6</td>\n",
              "      <td>117220</td>\n",
              "      <td>5</td>\n",
              "      <td>9</td>\n",
              "      <td>9</td>\n",
              "      <td>148</td>\n",
              "      <td>74</td>\n",
              "      <td>95</td>\n",
              "      <td>285001.5</td>\n",
              "    </tr>\n",
              "    <tr>\n",
              "      <th>2</th>\n",
              "      <td>3</td>\n",
              "      <td>686990</td>\n",
              "      <td>770762</td>\n",
              "      <td>2</td>\n",
              "      <td>132538</td>\n",
              "      <td>2</td>\n",
              "      <td>8</td>\n",
              "      <td>15</td>\n",
              "      <td>181</td>\n",
              "      <td>53</td>\n",
              "      <td>97</td>\n",
              "      <td>215386.0</td>\n",
              "    </tr>\n",
              "  </tbody>\n",
              "</table>\n",
              "</div>"
            ],
            "text/plain": [
              "   v.id  on road old  on road now  years  ...  top speed  hp  torque  current price\n",
              "0     1       535651       798186      3  ...        177  73     123       351318.0\n",
              "1     2       591911       861056      6  ...        148  74      95       285001.5\n",
              "2     3       686990       770762      2  ...        181  53      97       215386.0\n",
              "\n",
              "[3 rows x 12 columns]"
            ]
          },
          "metadata": {
            "tags": []
          },
          "execution_count": 51
        }
      ]
    },
    {
      "cell_type": "code",
      "metadata": {
        "id": "AyRIUQic7noL",
        "colab": {
          "base_uri": "https://localhost:8080/",
          "height": 221
        },
        "outputId": "6a07ac28-7887-4be4-c906-f21553ce8a3d"
      },
      "source": [
        "data2_y = data2['current price']\n",
        "data2_y"
      ],
      "execution_count": null,
      "outputs": [
        {
          "output_type": "execute_result",
          "data": {
            "text/plain": [
              "0      351318.0\n",
              "1      285001.5\n",
              "2      215386.0\n",
              "3      244295.5\n",
              "4      531114.5\n",
              "         ...   \n",
              "995    190744.0\n",
              "996    419748.0\n",
              "997    405871.0\n",
              "998     74398.0\n",
              "999    414938.5\n",
              "Name: current price, Length: 1000, dtype: float64"
            ]
          },
          "metadata": {
            "tags": []
          },
          "execution_count": 52
        }
      ]
    },
    {
      "cell_type": "code",
      "metadata": {
        "id": "WKB0rkpi7noO",
        "colab": {
          "base_uri": "https://localhost:8080/",
          "height": 419
        },
        "outputId": "7423466e-52e2-49cf-f624-9c5970369a4e"
      },
      "source": [
        "data2_x = data2.drop(['current price','v.id'],axis=1)\n",
        "data2_x"
      ],
      "execution_count": null,
      "outputs": [
        {
          "output_type": "execute_result",
          "data": {
            "text/html": [
              "<div>\n",
              "<style scoped>\n",
              "    .dataframe tbody tr th:only-of-type {\n",
              "        vertical-align: middle;\n",
              "    }\n",
              "\n",
              "    .dataframe tbody tr th {\n",
              "        vertical-align: top;\n",
              "    }\n",
              "\n",
              "    .dataframe thead th {\n",
              "        text-align: right;\n",
              "    }\n",
              "</style>\n",
              "<table border=\"1\" class=\"dataframe\">\n",
              "  <thead>\n",
              "    <tr style=\"text-align: right;\">\n",
              "      <th></th>\n",
              "      <th>on road old</th>\n",
              "      <th>on road now</th>\n",
              "      <th>years</th>\n",
              "      <th>km</th>\n",
              "      <th>rating</th>\n",
              "      <th>condition</th>\n",
              "      <th>economy</th>\n",
              "      <th>top speed</th>\n",
              "      <th>hp</th>\n",
              "      <th>torque</th>\n",
              "    </tr>\n",
              "  </thead>\n",
              "  <tbody>\n",
              "    <tr>\n",
              "      <th>0</th>\n",
              "      <td>535651</td>\n",
              "      <td>798186</td>\n",
              "      <td>3</td>\n",
              "      <td>78945</td>\n",
              "      <td>1</td>\n",
              "      <td>2</td>\n",
              "      <td>14</td>\n",
              "      <td>177</td>\n",
              "      <td>73</td>\n",
              "      <td>123</td>\n",
              "    </tr>\n",
              "    <tr>\n",
              "      <th>1</th>\n",
              "      <td>591911</td>\n",
              "      <td>861056</td>\n",
              "      <td>6</td>\n",
              "      <td>117220</td>\n",
              "      <td>5</td>\n",
              "      <td>9</td>\n",
              "      <td>9</td>\n",
              "      <td>148</td>\n",
              "      <td>74</td>\n",
              "      <td>95</td>\n",
              "    </tr>\n",
              "    <tr>\n",
              "      <th>2</th>\n",
              "      <td>686990</td>\n",
              "      <td>770762</td>\n",
              "      <td>2</td>\n",
              "      <td>132538</td>\n",
              "      <td>2</td>\n",
              "      <td>8</td>\n",
              "      <td>15</td>\n",
              "      <td>181</td>\n",
              "      <td>53</td>\n",
              "      <td>97</td>\n",
              "    </tr>\n",
              "    <tr>\n",
              "      <th>3</th>\n",
              "      <td>573999</td>\n",
              "      <td>722381</td>\n",
              "      <td>4</td>\n",
              "      <td>101065</td>\n",
              "      <td>4</td>\n",
              "      <td>3</td>\n",
              "      <td>11</td>\n",
              "      <td>197</td>\n",
              "      <td>54</td>\n",
              "      <td>116</td>\n",
              "    </tr>\n",
              "    <tr>\n",
              "      <th>4</th>\n",
              "      <td>691388</td>\n",
              "      <td>811335</td>\n",
              "      <td>6</td>\n",
              "      <td>61559</td>\n",
              "      <td>3</td>\n",
              "      <td>9</td>\n",
              "      <td>12</td>\n",
              "      <td>160</td>\n",
              "      <td>53</td>\n",
              "      <td>105</td>\n",
              "    </tr>\n",
              "    <tr>\n",
              "      <th>...</th>\n",
              "      <td>...</td>\n",
              "      <td>...</td>\n",
              "      <td>...</td>\n",
              "      <td>...</td>\n",
              "      <td>...</td>\n",
              "      <td>...</td>\n",
              "      <td>...</td>\n",
              "      <td>...</td>\n",
              "      <td>...</td>\n",
              "      <td>...</td>\n",
              "    </tr>\n",
              "    <tr>\n",
              "      <th>995</th>\n",
              "      <td>633238</td>\n",
              "      <td>743850</td>\n",
              "      <td>5</td>\n",
              "      <td>125092</td>\n",
              "      <td>1</td>\n",
              "      <td>6</td>\n",
              "      <td>11</td>\n",
              "      <td>171</td>\n",
              "      <td>95</td>\n",
              "      <td>97</td>\n",
              "    </tr>\n",
              "    <tr>\n",
              "      <th>996</th>\n",
              "      <td>599626</td>\n",
              "      <td>848195</td>\n",
              "      <td>4</td>\n",
              "      <td>83370</td>\n",
              "      <td>2</td>\n",
              "      <td>9</td>\n",
              "      <td>14</td>\n",
              "      <td>161</td>\n",
              "      <td>101</td>\n",
              "      <td>120</td>\n",
              "    </tr>\n",
              "    <tr>\n",
              "      <th>997</th>\n",
              "      <td>646344</td>\n",
              "      <td>842733</td>\n",
              "      <td>7</td>\n",
              "      <td>86722</td>\n",
              "      <td>1</td>\n",
              "      <td>8</td>\n",
              "      <td>9</td>\n",
              "      <td>196</td>\n",
              "      <td>113</td>\n",
              "      <td>89</td>\n",
              "    </tr>\n",
              "    <tr>\n",
              "      <th>998</th>\n",
              "      <td>535559</td>\n",
              "      <td>732439</td>\n",
              "      <td>2</td>\n",
              "      <td>140478</td>\n",
              "      <td>4</td>\n",
              "      <td>5</td>\n",
              "      <td>9</td>\n",
              "      <td>184</td>\n",
              "      <td>112</td>\n",
              "      <td>128</td>\n",
              "    </tr>\n",
              "    <tr>\n",
              "      <th>999</th>\n",
              "      <td>590105</td>\n",
              "      <td>779743</td>\n",
              "      <td>5</td>\n",
              "      <td>67295</td>\n",
              "      <td>4</td>\n",
              "      <td>2</td>\n",
              "      <td>8</td>\n",
              "      <td>199</td>\n",
              "      <td>99</td>\n",
              "      <td>96</td>\n",
              "    </tr>\n",
              "  </tbody>\n",
              "</table>\n",
              "<p>1000 rows × 10 columns</p>\n",
              "</div>"
            ],
            "text/plain": [
              "     on road old  on road now  years      km  ...  economy  top speed   hp  torque\n",
              "0         535651       798186      3   78945  ...       14        177   73     123\n",
              "1         591911       861056      6  117220  ...        9        148   74      95\n",
              "2         686990       770762      2  132538  ...       15        181   53      97\n",
              "3         573999       722381      4  101065  ...       11        197   54     116\n",
              "4         691388       811335      6   61559  ...       12        160   53     105\n",
              "..           ...          ...    ...     ...  ...      ...        ...  ...     ...\n",
              "995       633238       743850      5  125092  ...       11        171   95      97\n",
              "996       599626       848195      4   83370  ...       14        161  101     120\n",
              "997       646344       842733      7   86722  ...        9        196  113      89\n",
              "998       535559       732439      2  140478  ...        9        184  112     128\n",
              "999       590105       779743      5   67295  ...        8        199   99      96\n",
              "\n",
              "[1000 rows x 10 columns]"
            ]
          },
          "metadata": {
            "tags": []
          },
          "execution_count": 53
        }
      ]
    },
    {
      "cell_type": "code",
      "metadata": {
        "id": "Xgv0XRyn7noQ",
        "colab": {
          "base_uri": "https://localhost:8080/",
          "height": 238
        },
        "outputId": "bd3d96d0-2ce8-4a95-9d41-21043906b4d6"
      },
      "source": [
        "from sklearn.preprocessing import StandardScaler\n",
        "scaler = StandardScaler().fit(data2_x)\n",
        "data3 = scaler.transform(data2_x) \n",
        "data3"
      ],
      "execution_count": null,
      "outputs": [
        {
          "output_type": "execute_result",
          "data": {
            "text/plain": [
              "array([[-1.13051571, -0.01658579, -0.90849848, ...,  0.52425644,\n",
              "        -0.56303607,  0.93010397],\n",
              "       [-0.16679708,  1.08638838,  0.83749475, ..., -0.97999178,\n",
              "        -0.51427147, -0.40017703],\n",
              "       [ 1.46188054, -0.49770498, -1.49049622, ...,  0.73173895,\n",
              "        -1.53832807, -0.30515696],\n",
              "       ...,\n",
              "       [ 0.76562553,  0.76493465,  1.4194925 , ...,  1.50979838,\n",
              "         1.38754793, -0.68523725],\n",
              "       [-1.13209165, -1.17003325, -1.49049622, ...,  0.88735084,\n",
              "         1.33878333,  1.16765415],\n",
              "       [-0.19773338, -0.34014476,  0.25549701, ...,  1.66541026,\n",
              "         0.70484353, -0.352667  ]])"
            ]
          },
          "metadata": {
            "tags": []
          },
          "execution_count": 54
        }
      ]
    },
    {
      "cell_type": "code",
      "metadata": {
        "id": "y0pJXxjy7noT",
        "colab": {
          "base_uri": "https://localhost:8080/",
          "height": 204
        },
        "outputId": "8884e52b-c4cf-496f-89d9-ee156fd4738a"
      },
      "source": [
        "data2_x_st = pd.DataFrame(data3)\n",
        "data2_x_st.head()"
      ],
      "execution_count": null,
      "outputs": [
        {
          "output_type": "execute_result",
          "data": {
            "text/html": [
              "<div>\n",
              "<style scoped>\n",
              "    .dataframe tbody tr th:only-of-type {\n",
              "        vertical-align: middle;\n",
              "    }\n",
              "\n",
              "    .dataframe tbody tr th {\n",
              "        vertical-align: top;\n",
              "    }\n",
              "\n",
              "    .dataframe thead th {\n",
              "        text-align: right;\n",
              "    }\n",
              "</style>\n",
              "<table border=\"1\" class=\"dataframe\">\n",
              "  <thead>\n",
              "    <tr style=\"text-align: right;\">\n",
              "      <th></th>\n",
              "      <th>0</th>\n",
              "      <th>1</th>\n",
              "      <th>2</th>\n",
              "      <th>3</th>\n",
              "      <th>4</th>\n",
              "      <th>5</th>\n",
              "      <th>6</th>\n",
              "      <th>7</th>\n",
              "      <th>8</th>\n",
              "      <th>9</th>\n",
              "    </tr>\n",
              "  </thead>\n",
              "  <tbody>\n",
              "    <tr>\n",
              "      <th>0</th>\n",
              "      <td>-1.130516</td>\n",
              "      <td>-0.016586</td>\n",
              "      <td>-0.908498</td>\n",
              "      <td>-0.732067</td>\n",
              "      <td>-1.417883</td>\n",
              "      <td>-1.272389</td>\n",
              "      <td>1.065293</td>\n",
              "      <td>0.524256</td>\n",
              "      <td>-0.563036</td>\n",
              "      <td>0.930104</td>\n",
              "    </tr>\n",
              "    <tr>\n",
              "      <th>1</th>\n",
              "      <td>-0.166797</td>\n",
              "      <td>1.086388</td>\n",
              "      <td>0.837495</td>\n",
              "      <td>0.581605</td>\n",
              "      <td>1.435001</td>\n",
              "      <td>1.207211</td>\n",
              "      <td>-1.177429</td>\n",
              "      <td>-0.979992</td>\n",
              "      <td>-0.514271</td>\n",
              "      <td>-0.400177</td>\n",
              "    </tr>\n",
              "    <tr>\n",
              "      <th>2</th>\n",
              "      <td>1.461881</td>\n",
              "      <td>-0.497705</td>\n",
              "      <td>-1.490496</td>\n",
              "      <td>1.107348</td>\n",
              "      <td>-0.704662</td>\n",
              "      <td>0.852982</td>\n",
              "      <td>1.513837</td>\n",
              "      <td>0.731739</td>\n",
              "      <td>-1.538328</td>\n",
              "      <td>-0.305157</td>\n",
              "    </tr>\n",
              "    <tr>\n",
              "      <th>3</th>\n",
              "      <td>-0.473625</td>\n",
              "      <td>-1.346488</td>\n",
              "      <td>-0.326501</td>\n",
              "      <td>0.027134</td>\n",
              "      <td>0.721780</td>\n",
              "      <td>-0.918160</td>\n",
              "      <td>-0.280340</td>\n",
              "      <td>1.561669</td>\n",
              "      <td>-1.489563</td>\n",
              "      <td>0.597534</td>\n",
              "    </tr>\n",
              "    <tr>\n",
              "      <th>4</th>\n",
              "      <td>1.537217</td>\n",
              "      <td>0.214097</td>\n",
              "      <td>0.837495</td>\n",
              "      <td>-1.328789</td>\n",
              "      <td>0.008559</td>\n",
              "      <td>1.207211</td>\n",
              "      <td>0.168204</td>\n",
              "      <td>-0.357544</td>\n",
              "      <td>-1.538328</td>\n",
              "      <td>0.074923</td>\n",
              "    </tr>\n",
              "  </tbody>\n",
              "</table>\n",
              "</div>"
            ],
            "text/plain": [
              "          0         1         2  ...         7         8         9\n",
              "0 -1.130516 -0.016586 -0.908498  ...  0.524256 -0.563036  0.930104\n",
              "1 -0.166797  1.086388  0.837495  ... -0.979992 -0.514271 -0.400177\n",
              "2  1.461881 -0.497705 -1.490496  ...  0.731739 -1.538328 -0.305157\n",
              "3 -0.473625 -1.346488 -0.326501  ...  1.561669 -1.489563  0.597534\n",
              "4  1.537217  0.214097  0.837495  ... -0.357544 -1.538328  0.074923\n",
              "\n",
              "[5 rows x 10 columns]"
            ]
          },
          "metadata": {
            "tags": []
          },
          "execution_count": 55
        }
      ]
    },
    {
      "cell_type": "code",
      "metadata": {
        "id": "I51eT8Pu7noX"
      },
      "source": [
        "data2_x_st.columns = ['on road old', 'on road now', 'years', 'km', 'rating',\n",
        "       'condition', 'economy', 'top speed', 'hp', 'torque']"
      ],
      "execution_count": null,
      "outputs": []
    },
    {
      "cell_type": "code",
      "metadata": {
        "id": "iTvj1GWm7noa",
        "colab": {
          "base_uri": "https://localhost:8080/",
          "height": 204
        },
        "outputId": "5aa3fd49-f8ae-4cbc-fca6-b94d67d448ee"
      },
      "source": [
        "data2_x_st.head()"
      ],
      "execution_count": null,
      "outputs": [
        {
          "output_type": "execute_result",
          "data": {
            "text/html": [
              "<div>\n",
              "<style scoped>\n",
              "    .dataframe tbody tr th:only-of-type {\n",
              "        vertical-align: middle;\n",
              "    }\n",
              "\n",
              "    .dataframe tbody tr th {\n",
              "        vertical-align: top;\n",
              "    }\n",
              "\n",
              "    .dataframe thead th {\n",
              "        text-align: right;\n",
              "    }\n",
              "</style>\n",
              "<table border=\"1\" class=\"dataframe\">\n",
              "  <thead>\n",
              "    <tr style=\"text-align: right;\">\n",
              "      <th></th>\n",
              "      <th>on road old</th>\n",
              "      <th>on road now</th>\n",
              "      <th>years</th>\n",
              "      <th>km</th>\n",
              "      <th>rating</th>\n",
              "      <th>condition</th>\n",
              "      <th>economy</th>\n",
              "      <th>top speed</th>\n",
              "      <th>hp</th>\n",
              "      <th>torque</th>\n",
              "    </tr>\n",
              "  </thead>\n",
              "  <tbody>\n",
              "    <tr>\n",
              "      <th>0</th>\n",
              "      <td>-1.130516</td>\n",
              "      <td>-0.016586</td>\n",
              "      <td>-0.908498</td>\n",
              "      <td>-0.732067</td>\n",
              "      <td>-1.417883</td>\n",
              "      <td>-1.272389</td>\n",
              "      <td>1.065293</td>\n",
              "      <td>0.524256</td>\n",
              "      <td>-0.563036</td>\n",
              "      <td>0.930104</td>\n",
              "    </tr>\n",
              "    <tr>\n",
              "      <th>1</th>\n",
              "      <td>-0.166797</td>\n",
              "      <td>1.086388</td>\n",
              "      <td>0.837495</td>\n",
              "      <td>0.581605</td>\n",
              "      <td>1.435001</td>\n",
              "      <td>1.207211</td>\n",
              "      <td>-1.177429</td>\n",
              "      <td>-0.979992</td>\n",
              "      <td>-0.514271</td>\n",
              "      <td>-0.400177</td>\n",
              "    </tr>\n",
              "    <tr>\n",
              "      <th>2</th>\n",
              "      <td>1.461881</td>\n",
              "      <td>-0.497705</td>\n",
              "      <td>-1.490496</td>\n",
              "      <td>1.107348</td>\n",
              "      <td>-0.704662</td>\n",
              "      <td>0.852982</td>\n",
              "      <td>1.513837</td>\n",
              "      <td>0.731739</td>\n",
              "      <td>-1.538328</td>\n",
              "      <td>-0.305157</td>\n",
              "    </tr>\n",
              "    <tr>\n",
              "      <th>3</th>\n",
              "      <td>-0.473625</td>\n",
              "      <td>-1.346488</td>\n",
              "      <td>-0.326501</td>\n",
              "      <td>0.027134</td>\n",
              "      <td>0.721780</td>\n",
              "      <td>-0.918160</td>\n",
              "      <td>-0.280340</td>\n",
              "      <td>1.561669</td>\n",
              "      <td>-1.489563</td>\n",
              "      <td>0.597534</td>\n",
              "    </tr>\n",
              "    <tr>\n",
              "      <th>4</th>\n",
              "      <td>1.537217</td>\n",
              "      <td>0.214097</td>\n",
              "      <td>0.837495</td>\n",
              "      <td>-1.328789</td>\n",
              "      <td>0.008559</td>\n",
              "      <td>1.207211</td>\n",
              "      <td>0.168204</td>\n",
              "      <td>-0.357544</td>\n",
              "      <td>-1.538328</td>\n",
              "      <td>0.074923</td>\n",
              "    </tr>\n",
              "  </tbody>\n",
              "</table>\n",
              "</div>"
            ],
            "text/plain": [
              "   on road old  on road now     years  ...  top speed        hp    torque\n",
              "0    -1.130516    -0.016586 -0.908498  ...   0.524256 -0.563036  0.930104\n",
              "1    -0.166797     1.086388  0.837495  ...  -0.979992 -0.514271 -0.400177\n",
              "2     1.461881    -0.497705 -1.490496  ...   0.731739 -1.538328 -0.305157\n",
              "3    -0.473625    -1.346488 -0.326501  ...   1.561669 -1.489563  0.597534\n",
              "4     1.537217     0.214097  0.837495  ...  -0.357544 -1.538328  0.074923\n",
              "\n",
              "[5 rows x 10 columns]"
            ]
          },
          "metadata": {
            "tags": []
          },
          "execution_count": 57
        }
      ]
    },
    {
      "cell_type": "code",
      "metadata": {
        "id": "anV99sv_7nod"
      },
      "source": [
        "X_train_st, X_test_st, y_train_st, y_test_st = train_test_split(data2_x_st, data2_y,\\\n",
        "                                                                test_size=0.25, random_state=1)\n",
        "lr_model_st1 = LinearRegression()"
      ],
      "execution_count": null,
      "outputs": []
    },
    {
      "cell_type": "code",
      "metadata": {
        "scrolled": true,
        "id": "khrTowiQ7noh",
        "colab": {
          "base_uri": "https://localhost:8080/",
          "height": 34
        },
        "outputId": "fd40923a-e60b-42c4-ff79-fc2432905558"
      },
      "source": [
        "lr_model_st1.fit(X_train_st,y_train_st)"
      ],
      "execution_count": null,
      "outputs": [
        {
          "output_type": "execute_result",
          "data": {
            "text/plain": [
              "LinearRegression(copy_X=True, fit_intercept=True, n_jobs=None, normalize=False)"
            ]
          },
          "metadata": {
            "tags": []
          },
          "execution_count": 59
        }
      ]
    },
    {
      "cell_type": "code",
      "metadata": {
        "scrolled": true,
        "id": "PAL-mzp17noj",
        "colab": {
          "base_uri": "https://localhost:8080/",
          "height": 85
        },
        "outputId": "a004f603-eaae-4559-cfa6-c1e0cd30bfa9"
      },
      "source": [
        "print('Intercept:',lr_model_st1.intercept_)          # print the intercept \n",
        "print('Coefficients:',lr_model_st1.coef_)  "
      ],
      "execution_count": null,
      "outputs": [
        {
          "output_type": "stream",
          "text": [
            "Intercept: 308409.78348899476\n",
            "Coefficients: [  29461.2007905    28537.79957185   -2694.09115576 -116014.6016802\n",
            "     462.2704637    12825.41406256     375.84775813    -341.42900142\n",
            "     537.41251652    -135.79504164]\n"
          ],
          "name": "stdout"
        }
      ]
    },
    {
      "cell_type": "code",
      "metadata": {
        "id": "fHa3xgvV7nol",
        "colab": {
          "base_uri": "https://localhost:8080/",
          "height": 359
        },
        "outputId": "ae985368-59d0-4d2a-fed5-24c94db1fbcf"
      },
      "source": [
        "coef2_st=pd.DataFrame((lr_model_st1.coef_).T,index=X_train_st.columns,\\\n",
        "             columns=['Co-efficients']).sort_values('Co-efficients',ascending=False)\n",
        "coef2_st"
      ],
      "execution_count": null,
      "outputs": [
        {
          "output_type": "execute_result",
          "data": {
            "text/html": [
              "<div>\n",
              "<style scoped>\n",
              "    .dataframe tbody tr th:only-of-type {\n",
              "        vertical-align: middle;\n",
              "    }\n",
              "\n",
              "    .dataframe tbody tr th {\n",
              "        vertical-align: top;\n",
              "    }\n",
              "\n",
              "    .dataframe thead th {\n",
              "        text-align: right;\n",
              "    }\n",
              "</style>\n",
              "<table border=\"1\" class=\"dataframe\">\n",
              "  <thead>\n",
              "    <tr style=\"text-align: right;\">\n",
              "      <th></th>\n",
              "      <th>Co-efficients</th>\n",
              "    </tr>\n",
              "  </thead>\n",
              "  <tbody>\n",
              "    <tr>\n",
              "      <th>on road old</th>\n",
              "      <td>29461.200791</td>\n",
              "    </tr>\n",
              "    <tr>\n",
              "      <th>on road now</th>\n",
              "      <td>28537.799572</td>\n",
              "    </tr>\n",
              "    <tr>\n",
              "      <th>condition</th>\n",
              "      <td>12825.414063</td>\n",
              "    </tr>\n",
              "    <tr>\n",
              "      <th>hp</th>\n",
              "      <td>537.412517</td>\n",
              "    </tr>\n",
              "    <tr>\n",
              "      <th>rating</th>\n",
              "      <td>462.270464</td>\n",
              "    </tr>\n",
              "    <tr>\n",
              "      <th>economy</th>\n",
              "      <td>375.847758</td>\n",
              "    </tr>\n",
              "    <tr>\n",
              "      <th>torque</th>\n",
              "      <td>-135.795042</td>\n",
              "    </tr>\n",
              "    <tr>\n",
              "      <th>top speed</th>\n",
              "      <td>-341.429001</td>\n",
              "    </tr>\n",
              "    <tr>\n",
              "      <th>years</th>\n",
              "      <td>-2694.091156</td>\n",
              "    </tr>\n",
              "    <tr>\n",
              "      <th>km</th>\n",
              "      <td>-116014.601680</td>\n",
              "    </tr>\n",
              "  </tbody>\n",
              "</table>\n",
              "</div>"
            ],
            "text/plain": [
              "             Co-efficients\n",
              "on road old   29461.200791\n",
              "on road now   28537.799572\n",
              "condition     12825.414063\n",
              "hp              537.412517\n",
              "rating          462.270464\n",
              "economy         375.847758\n",
              "torque         -135.795042\n",
              "top speed      -341.429001\n",
              "years         -2694.091156\n",
              "km          -116014.601680"
            ]
          },
          "metadata": {
            "tags": []
          },
          "execution_count": 61
        }
      ]
    },
    {
      "cell_type": "code",
      "metadata": {
        "scrolled": true,
        "id": "848cqILa7non",
        "colab": {
          "base_uri": "https://localhost:8080/",
          "height": 359
        },
        "outputId": "139c7bcd-f9c4-4472-bfe8-db8b44388a47"
      },
      "source": [
        "coef2_st['converted'] = 100* coef2_st['Co-efficients'].abs()/(coef2_st['Co-efficients'].abs().sum())\n",
        "coef2_st"
      ],
      "execution_count": null,
      "outputs": [
        {
          "output_type": "execute_result",
          "data": {
            "text/html": [
              "<div>\n",
              "<style scoped>\n",
              "    .dataframe tbody tr th:only-of-type {\n",
              "        vertical-align: middle;\n",
              "    }\n",
              "\n",
              "    .dataframe tbody tr th {\n",
              "        vertical-align: top;\n",
              "    }\n",
              "\n",
              "    .dataframe thead th {\n",
              "        text-align: right;\n",
              "    }\n",
              "</style>\n",
              "<table border=\"1\" class=\"dataframe\">\n",
              "  <thead>\n",
              "    <tr style=\"text-align: right;\">\n",
              "      <th></th>\n",
              "      <th>Co-efficients</th>\n",
              "      <th>converted</th>\n",
              "    </tr>\n",
              "  </thead>\n",
              "  <tbody>\n",
              "    <tr>\n",
              "      <th>on road old</th>\n",
              "      <td>29461.200791</td>\n",
              "      <td>15.393614</td>\n",
              "    </tr>\n",
              "    <tr>\n",
              "      <th>on road now</th>\n",
              "      <td>28537.799572</td>\n",
              "      <td>14.911133</td>\n",
              "    </tr>\n",
              "    <tr>\n",
              "      <th>condition</th>\n",
              "      <td>12825.414063</td>\n",
              "      <td>6.701338</td>\n",
              "    </tr>\n",
              "    <tr>\n",
              "      <th>hp</th>\n",
              "      <td>537.412517</td>\n",
              "      <td>0.280801</td>\n",
              "    </tr>\n",
              "    <tr>\n",
              "      <th>rating</th>\n",
              "      <td>462.270464</td>\n",
              "      <td>0.241538</td>\n",
              "    </tr>\n",
              "    <tr>\n",
              "      <th>economy</th>\n",
              "      <td>375.847758</td>\n",
              "      <td>0.196382</td>\n",
              "    </tr>\n",
              "    <tr>\n",
              "      <th>torque</th>\n",
              "      <td>-135.795042</td>\n",
              "      <td>0.070954</td>\n",
              "    </tr>\n",
              "    <tr>\n",
              "      <th>top speed</th>\n",
              "      <td>-341.429001</td>\n",
              "      <td>0.178398</td>\n",
              "    </tr>\n",
              "    <tr>\n",
              "      <th>years</th>\n",
              "      <td>-2694.091156</td>\n",
              "      <td>1.407675</td>\n",
              "    </tr>\n",
              "    <tr>\n",
              "      <th>km</th>\n",
              "      <td>-116014.601680</td>\n",
              "      <td>60.618167</td>\n",
              "    </tr>\n",
              "  </tbody>\n",
              "</table>\n",
              "</div>"
            ],
            "text/plain": [
              "             Co-efficients  converted\n",
              "on road old   29461.200791  15.393614\n",
              "on road now   28537.799572  14.911133\n",
              "condition     12825.414063   6.701338\n",
              "hp              537.412517   0.280801\n",
              "rating          462.270464   0.241538\n",
              "economy         375.847758   0.196382\n",
              "torque         -135.795042   0.070954\n",
              "top speed      -341.429001   0.178398\n",
              "years         -2694.091156   1.407675\n",
              "km          -116014.601680  60.618167"
            ]
          },
          "metadata": {
            "tags": []
          },
          "execution_count": 62
        }
      ]
    },
    {
      "cell_type": "markdown",
      "metadata": {
        "id": "h53a-S9D7noq"
      },
      "source": [
        "__y = 308409.78 + 29461.2 `*` (on road old_std) + 28537.8 `*` (on road now_std) + 12825.4 `*` (condition_std)+ 537.4 `*` (hp_std) + 462.2 `*` (rating_std) + 375.8 `*` (economy_std) - 135.8 `*` (torque_std)- 341.4 `*` (top speed_std)- 2694 `*` (years_std)- 116014.6 `*` (km_std)__"
      ]
    },
    {
      "cell_type": "code",
      "metadata": {
        "id": "NatceXBs7nos",
        "colab": {
          "base_uri": "https://localhost:8080/",
          "height": 297
        },
        "outputId": "37ca1c0f-3e12-42b9-a540-78ad1c3d4441"
      },
      "source": [
        "data2_x.describe()"
      ],
      "execution_count": null,
      "outputs": [
        {
          "output_type": "execute_result",
          "data": {
            "text/html": [
              "<div>\n",
              "<style scoped>\n",
              "    .dataframe tbody tr th:only-of-type {\n",
              "        vertical-align: middle;\n",
              "    }\n",
              "\n",
              "    .dataframe tbody tr th {\n",
              "        vertical-align: top;\n",
              "    }\n",
              "\n",
              "    .dataframe thead th {\n",
              "        text-align: right;\n",
              "    }\n",
              "</style>\n",
              "<table border=\"1\" class=\"dataframe\">\n",
              "  <thead>\n",
              "    <tr style=\"text-align: right;\">\n",
              "      <th></th>\n",
              "      <th>on road old</th>\n",
              "      <th>on road now</th>\n",
              "      <th>years</th>\n",
              "      <th>km</th>\n",
              "      <th>rating</th>\n",
              "      <th>condition</th>\n",
              "      <th>economy</th>\n",
              "      <th>top speed</th>\n",
              "      <th>hp</th>\n",
              "      <th>torque</th>\n",
              "    </tr>\n",
              "  </thead>\n",
              "  <tbody>\n",
              "    <tr>\n",
              "      <th>count</th>\n",
              "      <td>1000.000000</td>\n",
              "      <td>1000.0000</td>\n",
              "      <td>1000.000000</td>\n",
              "      <td>1000.000000</td>\n",
              "      <td>1000.000000</td>\n",
              "      <td>1000.000000</td>\n",
              "      <td>1000.000000</td>\n",
              "      <td>1000.00000</td>\n",
              "      <td>1000.00000</td>\n",
              "      <td>1000.000000</td>\n",
              "    </tr>\n",
              "    <tr>\n",
              "      <th>mean</th>\n",
              "      <td>601648.286000</td>\n",
              "      <td>799131.3970</td>\n",
              "      <td>4.561000</td>\n",
              "      <td>100274.430000</td>\n",
              "      <td>2.988000</td>\n",
              "      <td>5.592000</td>\n",
              "      <td>11.625000</td>\n",
              "      <td>166.89300</td>\n",
              "      <td>84.54600</td>\n",
              "      <td>103.423000</td>\n",
              "    </tr>\n",
              "    <tr>\n",
              "      <th>std</th>\n",
              "      <td>58407.246204</td>\n",
              "      <td>57028.9502</td>\n",
              "      <td>1.719079</td>\n",
              "      <td>29150.463233</td>\n",
              "      <td>1.402791</td>\n",
              "      <td>2.824449</td>\n",
              "      <td>2.230549</td>\n",
              "      <td>19.28838</td>\n",
              "      <td>20.51694</td>\n",
              "      <td>21.058716</td>\n",
              "    </tr>\n",
              "    <tr>\n",
              "      <th>min</th>\n",
              "      <td>500265.000000</td>\n",
              "      <td>700018.0000</td>\n",
              "      <td>2.000000</td>\n",
              "      <td>50324.000000</td>\n",
              "      <td>1.000000</td>\n",
              "      <td>1.000000</td>\n",
              "      <td>8.000000</td>\n",
              "      <td>135.00000</td>\n",
              "      <td>50.00000</td>\n",
              "      <td>68.000000</td>\n",
              "    </tr>\n",
              "    <tr>\n",
              "      <th>25%</th>\n",
              "      <td>548860.500000</td>\n",
              "      <td>750997.7500</td>\n",
              "      <td>3.000000</td>\n",
              "      <td>74367.500000</td>\n",
              "      <td>2.000000</td>\n",
              "      <td>3.000000</td>\n",
              "      <td>10.000000</td>\n",
              "      <td>150.00000</td>\n",
              "      <td>67.00000</td>\n",
              "      <td>85.000000</td>\n",
              "    </tr>\n",
              "    <tr>\n",
              "      <th>50%</th>\n",
              "      <td>601568.000000</td>\n",
              "      <td>798168.0000</td>\n",
              "      <td>5.000000</td>\n",
              "      <td>100139.500000</td>\n",
              "      <td>3.000000</td>\n",
              "      <td>6.000000</td>\n",
              "      <td>12.000000</td>\n",
              "      <td>166.00000</td>\n",
              "      <td>84.00000</td>\n",
              "      <td>104.000000</td>\n",
              "    </tr>\n",
              "    <tr>\n",
              "      <th>75%</th>\n",
              "      <td>652267.250000</td>\n",
              "      <td>847563.2500</td>\n",
              "      <td>6.000000</td>\n",
              "      <td>125048.000000</td>\n",
              "      <td>4.000000</td>\n",
              "      <td>8.000000</td>\n",
              "      <td>13.000000</td>\n",
              "      <td>184.00000</td>\n",
              "      <td>102.00000</td>\n",
              "      <td>121.000000</td>\n",
              "    </tr>\n",
              "    <tr>\n",
              "      <th>max</th>\n",
              "      <td>699859.000000</td>\n",
              "      <td>899797.0000</td>\n",
              "      <td>7.000000</td>\n",
              "      <td>149902.000000</td>\n",
              "      <td>5.000000</td>\n",
              "      <td>10.000000</td>\n",
              "      <td>15.000000</td>\n",
              "      <td>200.00000</td>\n",
              "      <td>120.00000</td>\n",
              "      <td>140.000000</td>\n",
              "    </tr>\n",
              "  </tbody>\n",
              "</table>\n",
              "</div>"
            ],
            "text/plain": [
              "         on road old  on road now  ...          hp       torque\n",
              "count    1000.000000    1000.0000  ...  1000.00000  1000.000000\n",
              "mean   601648.286000  799131.3970  ...    84.54600   103.423000\n",
              "std     58407.246204   57028.9502  ...    20.51694    21.058716\n",
              "min    500265.000000  700018.0000  ...    50.00000    68.000000\n",
              "25%    548860.500000  750997.7500  ...    67.00000    85.000000\n",
              "50%    601568.000000  798168.0000  ...    84.00000   104.000000\n",
              "75%    652267.250000  847563.2500  ...   102.00000   121.000000\n",
              "max    699859.000000  899797.0000  ...   120.00000   140.000000\n",
              "\n",
              "[8 rows x 10 columns]"
            ]
          },
          "metadata": {
            "tags": []
          },
          "execution_count": 63
        }
      ]
    },
    {
      "cell_type": "code",
      "metadata": {
        "id": "nOO4nv6a7nov",
        "colab": {
          "base_uri": "https://localhost:8080/",
          "height": 80
        },
        "outputId": "3c2245d9-49a7-49d3-a3b1-edc900267cee"
      },
      "source": [
        "## The original Coefficients\n",
        "coef1"
      ],
      "execution_count": null,
      "outputs": [
        {
          "output_type": "execute_result",
          "data": {
            "text/html": [
              "<div>\n",
              "<style scoped>\n",
              "    .dataframe tbody tr th:only-of-type {\n",
              "        vertical-align: middle;\n",
              "    }\n",
              "\n",
              "    .dataframe tbody tr th {\n",
              "        vertical-align: top;\n",
              "    }\n",
              "\n",
              "    .dataframe thead th {\n",
              "        text-align: right;\n",
              "    }\n",
              "</style>\n",
              "<table border=\"1\" class=\"dataframe\">\n",
              "  <thead>\n",
              "    <tr style=\"text-align: right;\">\n",
              "      <th></th>\n",
              "      <th>Co-efficients</th>\n",
              "      <th>converted</th>\n",
              "    </tr>\n",
              "  </thead>\n",
              "  <tbody>\n",
              "    <tr>\n",
              "      <th>km</th>\n",
              "      <td>-4.098326</td>\n",
              "      <td>100.0</td>\n",
              "    </tr>\n",
              "  </tbody>\n",
              "</table>\n",
              "</div>"
            ],
            "text/plain": [
              "    Co-efficients  converted\n",
              "km      -4.098326      100.0"
            ]
          },
          "metadata": {
            "tags": []
          },
          "execution_count": 64
        }
      ]
    },
    {
      "cell_type": "code",
      "metadata": {
        "id": "Gkzec88h7nox"
      },
      "source": [
        "y_pred_train_st = lr_model_st1.predict(X_train_st)  "
      ],
      "execution_count": null,
      "outputs": []
    },
    {
      "cell_type": "code",
      "metadata": {
        "id": "NEzscCZP7no3"
      },
      "source": [
        "y_pred_test_st = lr_model_st1.predict(X_test_st)                # make predictions on the testing set"
      ],
      "execution_count": null,
      "outputs": []
    },
    {
      "cell_type": "code",
      "metadata": {
        "id": "gzPcwY7x7no4"
      },
      "source": [
        "RMSE_train_st2 = np.sqrt( metrics.mean_squared_error(y_train_st, y_pred_train_st))\n",
        "RMSE_test_st2 = np.sqrt(metrics.mean_squared_error(y_test_st, y_pred_test_st))"
      ],
      "execution_count": null,
      "outputs": []
    },
    {
      "cell_type": "code",
      "metadata": {
        "id": "m1hpgxHw7no6",
        "colab": {
          "base_uri": "https://localhost:8080/",
          "height": 51
        },
        "outputId": "c6a47732-7fdd-4f27-aca7-93d74cff90b8"
      },
      "source": [
        "print('RMSE for training set is {}'.format(RMSE_train_st2))\n",
        "print('RMSE for test set is {}'.format(RMSE_test_st2))"
      ],
      "execution_count": null,
      "outputs": [
        {
          "output_type": "stream",
          "text": [
            "RMSE for training set is 8597.874376304058\n",
            "RMSE for test set is 9019.847482190671\n"
          ],
          "name": "stdout"
        }
      ]
    },
    {
      "cell_type": "code",
      "metadata": {
        "id": "f-YbWznE7npB",
        "colab": {
          "base_uri": "https://localhost:8080/",
          "height": 34
        },
        "outputId": "a3825810-6d85-490b-f507-439a198e9f3b"
      },
      "source": [
        "## The original Coefficients\n",
        "RMSE_test"
      ],
      "execution_count": null,
      "outputs": [
        {
          "output_type": "execute_result",
          "data": {
            "text/plain": [
              "43389.82315267"
            ]
          },
          "metadata": {
            "tags": []
          },
          "execution_count": 69
        }
      ]
    },
    {
      "cell_type": "code",
      "metadata": {
        "id": "PAqAxUEO7npG",
        "colab": {
          "base_uri": "https://localhost:8080/",
          "height": 34
        },
        "outputId": "ba5e3041-807d-403a-fb8b-ba847792c4f4"
      },
      "source": [
        "100* RMSE_test/data['current price'].mean()"
      ],
      "execution_count": null,
      "outputs": [
        {
          "output_type": "execute_result",
          "data": {
            "text/plain": [
              "14.063849684893851"
            ]
          },
          "metadata": {
            "tags": []
          },
          "execution_count": 70
        }
      ]
    },
    {
      "cell_type": "code",
      "metadata": {
        "id": "bidQNf0w7npJ",
        "colab": {
          "base_uri": "https://localhost:8080/",
          "height": 34
        },
        "outputId": "c8686e28-f5c2-4a4d-ec10-851feb152f9e"
      },
      "source": [
        "100*RMSE_test_st2/data['current price'].mean()"
      ],
      "execution_count": null,
      "outputs": [
        {
          "output_type": "execute_result",
          "data": {
            "text/plain": [
              "2.923583687443352"
            ]
          },
          "metadata": {
            "tags": []
          },
          "execution_count": 71
        }
      ]
    },
    {
      "cell_type": "code",
      "metadata": {
        "id": "NVYucQ8M7npM",
        "colab": {
          "base_uri": "https://localhost:8080/",
          "height": 51
        },
        "outputId": "a1efd38c-2644-410a-f578-8597b6d9c0fd"
      },
      "source": [
        "# r2_score is a standard metric in the sklearn library\n",
        "r2_train_st2 = metrics.r2_score(y_train_st, y_pred_train_st)\n",
        "r2_test_st2 = metrics.r2_score(y_test_st, y_pred_test_st)\n",
        "print('R-Squared of train data:',r2_train_st2)\n",
        "print('R-Squared of test data:',r2_test_st2)"
      ],
      "execution_count": null,
      "outputs": [
        {
          "output_type": "stream",
          "text": [
            "R-Squared of train data: 0.9954359487550467\n",
            "R-Squared of test data: 0.9945482202347281\n"
          ],
          "name": "stdout"
        }
      ]
    },
    {
      "cell_type": "code",
      "metadata": {
        "id": "bkBpBK4y7npO",
        "colab": {
          "base_uri": "https://localhost:8080/",
          "height": 51
        },
        "outputId": "986593bc-e016-4345-c0cb-b9110c60fdea"
      },
      "source": [
        "print('R-Squared of train data:',r2_train)\n",
        "print('R-Squared of test data:',r2_test)"
      ],
      "execution_count": null,
      "outputs": [
        {
          "output_type": "stream",
          "text": [
            "R-Squared of train data: 0.8779428684601269\n",
            "R-Squared of test data: 0.8675214801384524\n"
          ],
          "name": "stdout"
        }
      ]
    },
    {
      "cell_type": "code",
      "metadata": {
        "id": "w6LZUsy5DBHH",
        "colab": {
          "base_uri": "https://localhost:8080/",
          "height": 238
        },
        "outputId": "e51b239e-712b-4758-8541-84774f18eed7"
      },
      "source": [
        "X=X_train_st\n",
        "y=y_train_st\n",
        "X2 = sm.add_constant(X) \n",
        "est = sm.OLS(y, X2)\n",
        "est2 = est.fit()\n",
        "X2=sm.add_constant(X_test_st)\n",
        "y=y_test_st\n",
        "predictions = est2.predict(X2)\n",
        "print(predictions)\n",
        "print(\"r2_score\",metrics.r2_score(y,predictions))"
      ],
      "execution_count": null,
      "outputs": [
        {
          "output_type": "stream",
          "text": [
            "507    381276.918886\n",
            "818    242373.028158\n",
            "452    302147.765215\n",
            "368    368577.754624\n",
            "242    303688.380496\n",
            "           ...      \n",
            "385    392460.826414\n",
            "890    434623.220439\n",
            "439    420113.093814\n",
            "135    215644.925472\n",
            "567    237658.895221\n",
            "Length: 250, dtype: float64\n",
            "r2_score 0.9945482202347279\n"
          ],
          "name": "stdout"
        }
      ]
    },
    {
      "cell_type": "code",
      "metadata": {
        "id": "HVVw-estDBHR",
        "colab": {
          "base_uri": "https://localhost:8080/",
          "height": 1000
        },
        "outputId": "a3ff3e53-44b2-480b-b884-f3b14ca7de5c"
      },
      "source": [
        "print(\"summary()\\n\",est2.summary())\n",
        "print(\"pvalues\\n\",est2.pvalues)\n",
        "print(\"tvalues\\n\",est2.tvalues)\n",
        "print(\"rsquared\\n\",est2.rsquared)\n",
        "print(\"rsquared_adj\\n\",est2.rsquared_adj)"
      ],
      "execution_count": null,
      "outputs": [
        {
          "output_type": "stream",
          "text": [
            "summary()\n",
            "                             OLS Regression Results                            \n",
            "==============================================================================\n",
            "Dep. Variable:          current price   R-squared:                       0.995\n",
            "Model:                            OLS   Adj. R-squared:                  0.995\n",
            "Method:                 Least Squares   F-statistic:                 1.612e+04\n",
            "Date:                Thu, 15 Oct 2020   Prob (F-statistic):               0.00\n",
            "Time:                        05:18:06   Log-Likelihood:                -7858.7\n",
            "No. Observations:                 750   AIC:                         1.574e+04\n",
            "Df Residuals:                     739   BIC:                         1.579e+04\n",
            "Df Model:                          10                                         \n",
            "Covariance Type:            nonrobust                                         \n",
            "===============================================================================\n",
            "                  coef    std err          t      P>|t|      [0.025      0.975]\n",
            "-------------------------------------------------------------------------------\n",
            "const        3.084e+05    316.665    973.930      0.000    3.08e+05    3.09e+05\n",
            "on road old  2.946e+04    314.655     93.630      0.000    2.88e+04    3.01e+04\n",
            "on road now  2.854e+04    321.082     88.880      0.000    2.79e+04    2.92e+04\n",
            "years       -2694.0912    323.233     -8.335      0.000   -3328.655   -2059.527\n",
            "km           -1.16e+05    316.279   -366.811      0.000   -1.17e+05   -1.15e+05\n",
            "rating        462.2705    323.549      1.429      0.153    -172.913    1097.454\n",
            "condition    1.283e+04    320.386     40.031      0.000    1.22e+04    1.35e+04\n",
            "economy       375.8478    317.733      1.183      0.237    -247.919     999.614\n",
            "top speed    -341.4290    317.329     -1.076      0.282    -964.402     281.544\n",
            "hp            537.4125    316.397      1.699      0.090     -83.732    1158.557\n",
            "torque       -135.7950    315.178     -0.431      0.667    -754.545     482.955\n",
            "==============================================================================\n",
            "Omnibus:                       61.479   Durbin-Watson:                   1.996\n",
            "Prob(Omnibus):                  0.000   Jarque-Bera (JB):               74.205\n",
            "Skew:                           0.759   Prob(JB):                     7.70e-17\n",
            "Kurtosis:                       2.736   Cond. No.                         1.19\n",
            "==============================================================================\n",
            "\n",
            "Warnings:\n",
            "[1] Standard Errors assume that the covariance matrix of the errors is correctly specified.\n",
            "pvalues\n",
            " const           0.000000e+00\n",
            "on road old     0.000000e+00\n",
            "on road now     0.000000e+00\n",
            "years           3.773891e-16\n",
            "km              0.000000e+00\n",
            "rating          1.534982e-01\n",
            "condition      3.063780e-187\n",
            "economy         2.372271e-01\n",
            "top speed       2.823017e-01\n",
            "hp              8.982709e-02\n",
            "torque          6.667012e-01\n",
            "dtype: float64\n",
            "tvalues\n",
            " const          973.929595\n",
            "on road old     93.630165\n",
            "on road now     88.880066\n",
            "years           -8.334835\n",
            "km            -366.810653\n",
            "rating           1.428752\n",
            "condition       40.031114\n",
            "economy          1.182905\n",
            "top speed       -1.075948\n",
            "hp               1.698539\n",
            "torque          -0.430853\n",
            "dtype: float64\n",
            "rsquared\n",
            " 0.9954359487550467\n",
            "rsquared_adj\n",
            " 0.9953741889276454\n"
          ],
          "name": "stdout"
        }
      ]
    },
    {
      "cell_type": "markdown",
      "metadata": {
        "id": "MvDRxJSW7npR"
      },
      "source": [
        "<a id=section7></a>"
      ]
    },
    {
      "cell_type": "markdown",
      "metadata": {
        "id": "9ZlXQVv1Eb43"
      },
      "source": [
        "###First Train_Test split then Standardized:"
      ]
    },
    {
      "cell_type": "code",
      "metadata": {
        "id": "xYhM46xVEhkY",
        "colab": {
          "base_uri": "https://localhost:8080/",
          "height": 142
        },
        "outputId": "4162e7d4-5bf4-4961-dbc8-3d3e01caf10e"
      },
      "source": [
        "data3=data.copy()\n",
        "data3.head(3)"
      ],
      "execution_count": null,
      "outputs": [
        {
          "output_type": "execute_result",
          "data": {
            "text/html": [
              "<div>\n",
              "<style scoped>\n",
              "    .dataframe tbody tr th:only-of-type {\n",
              "        vertical-align: middle;\n",
              "    }\n",
              "\n",
              "    .dataframe tbody tr th {\n",
              "        vertical-align: top;\n",
              "    }\n",
              "\n",
              "    .dataframe thead th {\n",
              "        text-align: right;\n",
              "    }\n",
              "</style>\n",
              "<table border=\"1\" class=\"dataframe\">\n",
              "  <thead>\n",
              "    <tr style=\"text-align: right;\">\n",
              "      <th></th>\n",
              "      <th>v.id</th>\n",
              "      <th>on road old</th>\n",
              "      <th>on road now</th>\n",
              "      <th>years</th>\n",
              "      <th>km</th>\n",
              "      <th>rating</th>\n",
              "      <th>condition</th>\n",
              "      <th>economy</th>\n",
              "      <th>top speed</th>\n",
              "      <th>hp</th>\n",
              "      <th>torque</th>\n",
              "      <th>current price</th>\n",
              "    </tr>\n",
              "  </thead>\n",
              "  <tbody>\n",
              "    <tr>\n",
              "      <th>0</th>\n",
              "      <td>1</td>\n",
              "      <td>535651</td>\n",
              "      <td>798186</td>\n",
              "      <td>3</td>\n",
              "      <td>78945</td>\n",
              "      <td>1</td>\n",
              "      <td>2</td>\n",
              "      <td>14</td>\n",
              "      <td>177</td>\n",
              "      <td>73</td>\n",
              "      <td>123</td>\n",
              "      <td>351318.0</td>\n",
              "    </tr>\n",
              "    <tr>\n",
              "      <th>1</th>\n",
              "      <td>2</td>\n",
              "      <td>591911</td>\n",
              "      <td>861056</td>\n",
              "      <td>6</td>\n",
              "      <td>117220</td>\n",
              "      <td>5</td>\n",
              "      <td>9</td>\n",
              "      <td>9</td>\n",
              "      <td>148</td>\n",
              "      <td>74</td>\n",
              "      <td>95</td>\n",
              "      <td>285001.5</td>\n",
              "    </tr>\n",
              "    <tr>\n",
              "      <th>2</th>\n",
              "      <td>3</td>\n",
              "      <td>686990</td>\n",
              "      <td>770762</td>\n",
              "      <td>2</td>\n",
              "      <td>132538</td>\n",
              "      <td>2</td>\n",
              "      <td>8</td>\n",
              "      <td>15</td>\n",
              "      <td>181</td>\n",
              "      <td>53</td>\n",
              "      <td>97</td>\n",
              "      <td>215386.0</td>\n",
              "    </tr>\n",
              "  </tbody>\n",
              "</table>\n",
              "</div>"
            ],
            "text/plain": [
              "   v.id  on road old  on road now  years  ...  top speed  hp  torque  current price\n",
              "0     1       535651       798186      3  ...        177  73     123       351318.0\n",
              "1     2       591911       861056      6  ...        148  74      95       285001.5\n",
              "2     3       686990       770762      2  ...        181  53      97       215386.0\n",
              "\n",
              "[3 rows x 12 columns]"
            ]
          },
          "metadata": {
            "tags": []
          },
          "execution_count": 76
        }
      ]
    },
    {
      "cell_type": "code",
      "metadata": {
        "id": "3JtwqyeiEhkj",
        "colab": {
          "base_uri": "https://localhost:8080/",
          "height": 221
        },
        "outputId": "22f0c0b2-3ee3-42bc-ea9e-627954907dc9"
      },
      "source": [
        "data3_y = data3['current price']\n",
        "data3_y"
      ],
      "execution_count": null,
      "outputs": [
        {
          "output_type": "execute_result",
          "data": {
            "text/plain": [
              "0      351318.0\n",
              "1      285001.5\n",
              "2      215386.0\n",
              "3      244295.5\n",
              "4      531114.5\n",
              "         ...   \n",
              "995    190744.0\n",
              "996    419748.0\n",
              "997    405871.0\n",
              "998     74398.0\n",
              "999    414938.5\n",
              "Name: current price, Length: 1000, dtype: float64"
            ]
          },
          "metadata": {
            "tags": []
          },
          "execution_count": 77
        }
      ]
    },
    {
      "cell_type": "code",
      "metadata": {
        "id": "BJ1a6f5aEhkp",
        "colab": {
          "base_uri": "https://localhost:8080/",
          "height": 419
        },
        "outputId": "155fb357-9eb2-4baa-a0f3-38643c1d3333"
      },
      "source": [
        "data3_x = data3.drop(['current price','v.id'],axis=1)\n",
        "data3_x"
      ],
      "execution_count": null,
      "outputs": [
        {
          "output_type": "execute_result",
          "data": {
            "text/html": [
              "<div>\n",
              "<style scoped>\n",
              "    .dataframe tbody tr th:only-of-type {\n",
              "        vertical-align: middle;\n",
              "    }\n",
              "\n",
              "    .dataframe tbody tr th {\n",
              "        vertical-align: top;\n",
              "    }\n",
              "\n",
              "    .dataframe thead th {\n",
              "        text-align: right;\n",
              "    }\n",
              "</style>\n",
              "<table border=\"1\" class=\"dataframe\">\n",
              "  <thead>\n",
              "    <tr style=\"text-align: right;\">\n",
              "      <th></th>\n",
              "      <th>on road old</th>\n",
              "      <th>on road now</th>\n",
              "      <th>years</th>\n",
              "      <th>km</th>\n",
              "      <th>rating</th>\n",
              "      <th>condition</th>\n",
              "      <th>economy</th>\n",
              "      <th>top speed</th>\n",
              "      <th>hp</th>\n",
              "      <th>torque</th>\n",
              "    </tr>\n",
              "  </thead>\n",
              "  <tbody>\n",
              "    <tr>\n",
              "      <th>0</th>\n",
              "      <td>535651</td>\n",
              "      <td>798186</td>\n",
              "      <td>3</td>\n",
              "      <td>78945</td>\n",
              "      <td>1</td>\n",
              "      <td>2</td>\n",
              "      <td>14</td>\n",
              "      <td>177</td>\n",
              "      <td>73</td>\n",
              "      <td>123</td>\n",
              "    </tr>\n",
              "    <tr>\n",
              "      <th>1</th>\n",
              "      <td>591911</td>\n",
              "      <td>861056</td>\n",
              "      <td>6</td>\n",
              "      <td>117220</td>\n",
              "      <td>5</td>\n",
              "      <td>9</td>\n",
              "      <td>9</td>\n",
              "      <td>148</td>\n",
              "      <td>74</td>\n",
              "      <td>95</td>\n",
              "    </tr>\n",
              "    <tr>\n",
              "      <th>2</th>\n",
              "      <td>686990</td>\n",
              "      <td>770762</td>\n",
              "      <td>2</td>\n",
              "      <td>132538</td>\n",
              "      <td>2</td>\n",
              "      <td>8</td>\n",
              "      <td>15</td>\n",
              "      <td>181</td>\n",
              "      <td>53</td>\n",
              "      <td>97</td>\n",
              "    </tr>\n",
              "    <tr>\n",
              "      <th>3</th>\n",
              "      <td>573999</td>\n",
              "      <td>722381</td>\n",
              "      <td>4</td>\n",
              "      <td>101065</td>\n",
              "      <td>4</td>\n",
              "      <td>3</td>\n",
              "      <td>11</td>\n",
              "      <td>197</td>\n",
              "      <td>54</td>\n",
              "      <td>116</td>\n",
              "    </tr>\n",
              "    <tr>\n",
              "      <th>4</th>\n",
              "      <td>691388</td>\n",
              "      <td>811335</td>\n",
              "      <td>6</td>\n",
              "      <td>61559</td>\n",
              "      <td>3</td>\n",
              "      <td>9</td>\n",
              "      <td>12</td>\n",
              "      <td>160</td>\n",
              "      <td>53</td>\n",
              "      <td>105</td>\n",
              "    </tr>\n",
              "    <tr>\n",
              "      <th>...</th>\n",
              "      <td>...</td>\n",
              "      <td>...</td>\n",
              "      <td>...</td>\n",
              "      <td>...</td>\n",
              "      <td>...</td>\n",
              "      <td>...</td>\n",
              "      <td>...</td>\n",
              "      <td>...</td>\n",
              "      <td>...</td>\n",
              "      <td>...</td>\n",
              "    </tr>\n",
              "    <tr>\n",
              "      <th>995</th>\n",
              "      <td>633238</td>\n",
              "      <td>743850</td>\n",
              "      <td>5</td>\n",
              "      <td>125092</td>\n",
              "      <td>1</td>\n",
              "      <td>6</td>\n",
              "      <td>11</td>\n",
              "      <td>171</td>\n",
              "      <td>95</td>\n",
              "      <td>97</td>\n",
              "    </tr>\n",
              "    <tr>\n",
              "      <th>996</th>\n",
              "      <td>599626</td>\n",
              "      <td>848195</td>\n",
              "      <td>4</td>\n",
              "      <td>83370</td>\n",
              "      <td>2</td>\n",
              "      <td>9</td>\n",
              "      <td>14</td>\n",
              "      <td>161</td>\n",
              "      <td>101</td>\n",
              "      <td>120</td>\n",
              "    </tr>\n",
              "    <tr>\n",
              "      <th>997</th>\n",
              "      <td>646344</td>\n",
              "      <td>842733</td>\n",
              "      <td>7</td>\n",
              "      <td>86722</td>\n",
              "      <td>1</td>\n",
              "      <td>8</td>\n",
              "      <td>9</td>\n",
              "      <td>196</td>\n",
              "      <td>113</td>\n",
              "      <td>89</td>\n",
              "    </tr>\n",
              "    <tr>\n",
              "      <th>998</th>\n",
              "      <td>535559</td>\n",
              "      <td>732439</td>\n",
              "      <td>2</td>\n",
              "      <td>140478</td>\n",
              "      <td>4</td>\n",
              "      <td>5</td>\n",
              "      <td>9</td>\n",
              "      <td>184</td>\n",
              "      <td>112</td>\n",
              "      <td>128</td>\n",
              "    </tr>\n",
              "    <tr>\n",
              "      <th>999</th>\n",
              "      <td>590105</td>\n",
              "      <td>779743</td>\n",
              "      <td>5</td>\n",
              "      <td>67295</td>\n",
              "      <td>4</td>\n",
              "      <td>2</td>\n",
              "      <td>8</td>\n",
              "      <td>199</td>\n",
              "      <td>99</td>\n",
              "      <td>96</td>\n",
              "    </tr>\n",
              "  </tbody>\n",
              "</table>\n",
              "<p>1000 rows × 10 columns</p>\n",
              "</div>"
            ],
            "text/plain": [
              "     on road old  on road now  years      km  ...  economy  top speed   hp  torque\n",
              "0         535651       798186      3   78945  ...       14        177   73     123\n",
              "1         591911       861056      6  117220  ...        9        148   74      95\n",
              "2         686990       770762      2  132538  ...       15        181   53      97\n",
              "3         573999       722381      4  101065  ...       11        197   54     116\n",
              "4         691388       811335      6   61559  ...       12        160   53     105\n",
              "..           ...          ...    ...     ...  ...      ...        ...  ...     ...\n",
              "995       633238       743850      5  125092  ...       11        171   95      97\n",
              "996       599626       848195      4   83370  ...       14        161  101     120\n",
              "997       646344       842733      7   86722  ...        9        196  113      89\n",
              "998       535559       732439      2  140478  ...        9        184  112     128\n",
              "999       590105       779743      5   67295  ...        8        199   99      96\n",
              "\n",
              "[1000 rows x 10 columns]"
            ]
          },
          "metadata": {
            "tags": []
          },
          "execution_count": 78
        }
      ]
    },
    {
      "cell_type": "code",
      "metadata": {
        "id": "esC2uJz6FCTu"
      },
      "source": [
        "X_train, X_test, y_train, y_test = train_test_split(data3_x, data3_y,\\\n",
        "                                                                test_size=0.25, random_state=1)"
      ],
      "execution_count": null,
      "outputs": []
    },
    {
      "cell_type": "code",
      "metadata": {
        "id": "nWB-zBKvFCbf"
      },
      "source": [
        "from sklearn.preprocessing import StandardScaler\n",
        "scaler = StandardScaler().fit(X_train)\n",
        "X_train_st = scaler.transform(X_train) \n",
        "X_test_st = scaler.transform(X_test) "
      ],
      "execution_count": null,
      "outputs": []
    },
    {
      "cell_type": "code",
      "metadata": {
        "id": "KEpB2zweEhkz"
      },
      "source": [
        "df_X_train_st = pd.DataFrame(X_train_st)\n",
        "df_X_test_st = pd.DataFrame(X_test_st)"
      ],
      "execution_count": null,
      "outputs": []
    },
    {
      "cell_type": "code",
      "metadata": {
        "id": "5kehE8SwEhk2"
      },
      "source": [
        "df_X_train_st.columns = ['on road old', 'on road now', 'years', 'km', 'rating',\n",
        "       'condition', 'economy', 'top speed', 'hp', 'torque']\n",
        "df_X_test_st.columns = ['on road old', 'on road now', 'years', 'km', 'rating',\n",
        "       'condition', 'economy', 'top speed', 'hp', 'torque']"
      ],
      "execution_count": null,
      "outputs": []
    },
    {
      "cell_type": "code",
      "metadata": {
        "id": "kqIvlByAGsYZ",
        "colab": {
          "base_uri": "https://localhost:8080/",
          "height": 142
        },
        "outputId": "cd61b22b-a6db-40ac-f534-f1220b4e008c"
      },
      "source": [
        "df_X_test_st.head(3)"
      ],
      "execution_count": null,
      "outputs": [
        {
          "output_type": "execute_result",
          "data": {
            "text/html": [
              "<div>\n",
              "<style scoped>\n",
              "    .dataframe tbody tr th:only-of-type {\n",
              "        vertical-align: middle;\n",
              "    }\n",
              "\n",
              "    .dataframe tbody tr th {\n",
              "        vertical-align: top;\n",
              "    }\n",
              "\n",
              "    .dataframe thead th {\n",
              "        text-align: right;\n",
              "    }\n",
              "</style>\n",
              "<table border=\"1\" class=\"dataframe\">\n",
              "  <thead>\n",
              "    <tr style=\"text-align: right;\">\n",
              "      <th></th>\n",
              "      <th>on road old</th>\n",
              "      <th>on road now</th>\n",
              "      <th>years</th>\n",
              "      <th>km</th>\n",
              "      <th>rating</th>\n",
              "      <th>condition</th>\n",
              "      <th>economy</th>\n",
              "      <th>top speed</th>\n",
              "      <th>hp</th>\n",
              "      <th>torque</th>\n",
              "    </tr>\n",
              "  </thead>\n",
              "  <tbody>\n",
              "    <tr>\n",
              "      <th>0</th>\n",
              "      <td>-1.703305</td>\n",
              "      <td>-0.713218</td>\n",
              "      <td>1.448882</td>\n",
              "      <td>-1.317943</td>\n",
              "      <td>1.481605</td>\n",
              "      <td>-0.555303</td>\n",
              "      <td>-0.730665</td>\n",
              "      <td>-0.217618</td>\n",
              "      <td>1.392829</td>\n",
              "      <td>0.122671</td>\n",
              "    </tr>\n",
              "    <tr>\n",
              "      <th>1</th>\n",
              "      <td>-1.456535</td>\n",
              "      <td>-1.506404</td>\n",
              "      <td>-0.915996</td>\n",
              "      <td>-0.100460</td>\n",
              "      <td>0.030000</td>\n",
              "      <td>0.513501</td>\n",
              "      <td>-1.177647</td>\n",
              "      <td>1.642363</td>\n",
              "      <td>0.859908</td>\n",
              "      <td>0.358457</td>\n",
              "    </tr>\n",
              "    <tr>\n",
              "      <th>2</th>\n",
              "      <td>1.586139</td>\n",
              "      <td>1.347270</td>\n",
              "      <td>-1.507215</td>\n",
              "      <td>0.739045</td>\n",
              "      <td>1.481605</td>\n",
              "      <td>-0.911571</td>\n",
              "      <td>0.610278</td>\n",
              "      <td>-0.992609</td>\n",
              "      <td>1.441277</td>\n",
              "      <td>-1.103413</td>\n",
              "    </tr>\n",
              "  </tbody>\n",
              "</table>\n",
              "</div>"
            ],
            "text/plain": [
              "   on road old  on road now     years  ...  top speed        hp    torque\n",
              "0    -1.703305    -0.713218  1.448882  ...  -0.217618  1.392829  0.122671\n",
              "1    -1.456535    -1.506404 -0.915996  ...   1.642363  0.859908  0.358457\n",
              "2     1.586139     1.347270 -1.507215  ...  -0.992609  1.441277 -1.103413\n",
              "\n",
              "[3 rows x 10 columns]"
            ]
          },
          "metadata": {
            "tags": []
          },
          "execution_count": 83
        }
      ]
    },
    {
      "cell_type": "code",
      "metadata": {
        "id": "NMjtMKIrEhk7"
      },
      "source": [
        "lr_model_st1 = LinearRegression()"
      ],
      "execution_count": null,
      "outputs": []
    },
    {
      "cell_type": "code",
      "metadata": {
        "scrolled": true,
        "id": "78oMeZZREhk9",
        "colab": {
          "base_uri": "https://localhost:8080/",
          "height": 34
        },
        "outputId": "144f8df1-1011-410b-8e4a-3fbb3c5e4a06"
      },
      "source": [
        "lr_model_st1.fit(df_X_train_st,y_train)"
      ],
      "execution_count": null,
      "outputs": [
        {
          "output_type": "execute_result",
          "data": {
            "text/plain": [
              "LinearRegression(copy_X=True, fit_intercept=True, n_jobs=None, normalize=False)"
            ]
          },
          "metadata": {
            "tags": []
          },
          "execution_count": 85
        }
      ]
    },
    {
      "cell_type": "code",
      "metadata": {
        "scrolled": true,
        "id": "cFb6XGWMEhk_",
        "colab": {
          "base_uri": "https://localhost:8080/",
          "height": 85
        },
        "outputId": "f68c6786-6d97-46a6-df30-859c9b0f128a"
      },
      "source": [
        "print('Intercept:',lr_model_st1.intercept_)          # print the intercept \n",
        "print('Coefficients:',lr_model_st1.coef_)  "
      ],
      "execution_count": null,
      "outputs": [
        {
          "output_type": "stream",
          "text": [
            "Intercept: 308320.63866666664\n",
            "Coefficients: [  29749.58702558   28360.49047838   -2652.06944907 -116523.40913799\n",
            "     454.25712952   12751.99844268     377.16208405    -342.78047486\n",
            "     540.93153871    -136.81137721]\n"
          ],
          "name": "stdout"
        }
      ]
    },
    {
      "cell_type": "code",
      "metadata": {
        "id": "6LOok5TdEhlB",
        "colab": {
          "base_uri": "https://localhost:8080/",
          "height": 359
        },
        "outputId": "711ebed8-2bb4-4bf8-df53-dffd56a510a9"
      },
      "source": [
        "coef2_st=pd.DataFrame((lr_model_st1.coef_).T,index=df_X_train_st.columns,\\\n",
        "             columns=['Co-efficients']).sort_values('Co-efficients',ascending=False)\n",
        "coef2_st"
      ],
      "execution_count": null,
      "outputs": [
        {
          "output_type": "execute_result",
          "data": {
            "text/html": [
              "<div>\n",
              "<style scoped>\n",
              "    .dataframe tbody tr th:only-of-type {\n",
              "        vertical-align: middle;\n",
              "    }\n",
              "\n",
              "    .dataframe tbody tr th {\n",
              "        vertical-align: top;\n",
              "    }\n",
              "\n",
              "    .dataframe thead th {\n",
              "        text-align: right;\n",
              "    }\n",
              "</style>\n",
              "<table border=\"1\" class=\"dataframe\">\n",
              "  <thead>\n",
              "    <tr style=\"text-align: right;\">\n",
              "      <th></th>\n",
              "      <th>Co-efficients</th>\n",
              "    </tr>\n",
              "  </thead>\n",
              "  <tbody>\n",
              "    <tr>\n",
              "      <th>on road old</th>\n",
              "      <td>29749.587026</td>\n",
              "    </tr>\n",
              "    <tr>\n",
              "      <th>on road now</th>\n",
              "      <td>28360.490478</td>\n",
              "    </tr>\n",
              "    <tr>\n",
              "      <th>condition</th>\n",
              "      <td>12751.998443</td>\n",
              "    </tr>\n",
              "    <tr>\n",
              "      <th>hp</th>\n",
              "      <td>540.931539</td>\n",
              "    </tr>\n",
              "    <tr>\n",
              "      <th>rating</th>\n",
              "      <td>454.257130</td>\n",
              "    </tr>\n",
              "    <tr>\n",
              "      <th>economy</th>\n",
              "      <td>377.162084</td>\n",
              "    </tr>\n",
              "    <tr>\n",
              "      <th>torque</th>\n",
              "      <td>-136.811377</td>\n",
              "    </tr>\n",
              "    <tr>\n",
              "      <th>top speed</th>\n",
              "      <td>-342.780475</td>\n",
              "    </tr>\n",
              "    <tr>\n",
              "      <th>years</th>\n",
              "      <td>-2652.069449</td>\n",
              "    </tr>\n",
              "    <tr>\n",
              "      <th>km</th>\n",
              "      <td>-116523.409138</td>\n",
              "    </tr>\n",
              "  </tbody>\n",
              "</table>\n",
              "</div>"
            ],
            "text/plain": [
              "             Co-efficients\n",
              "on road old   29749.587026\n",
              "on road now   28360.490478\n",
              "condition     12751.998443\n",
              "hp              540.931539\n",
              "rating          454.257130\n",
              "economy         377.162084\n",
              "torque         -136.811377\n",
              "top speed      -342.780475\n",
              "years         -2652.069449\n",
              "km          -116523.409138"
            ]
          },
          "metadata": {
            "tags": []
          },
          "execution_count": 87
        }
      ]
    },
    {
      "cell_type": "code",
      "metadata": {
        "scrolled": true,
        "id": "1bvUQhEZEhlG",
        "colab": {
          "base_uri": "https://localhost:8080/",
          "height": 359
        },
        "outputId": "66168b82-16bb-4a3a-a5b5-af5a29080577"
      },
      "source": [
        "coef2_st['converted'] = 100* coef2_st['Co-efficients'].abs()/(coef2_st['Co-efficients'].abs().sum())\n",
        "coef2_st"
      ],
      "execution_count": null,
      "outputs": [
        {
          "output_type": "execute_result",
          "data": {
            "text/html": [
              "<div>\n",
              "<style scoped>\n",
              "    .dataframe tbody tr th:only-of-type {\n",
              "        vertical-align: middle;\n",
              "    }\n",
              "\n",
              "    .dataframe tbody tr th {\n",
              "        vertical-align: top;\n",
              "    }\n",
              "\n",
              "    .dataframe thead th {\n",
              "        text-align: right;\n",
              "    }\n",
              "</style>\n",
              "<table border=\"1\" class=\"dataframe\">\n",
              "  <thead>\n",
              "    <tr style=\"text-align: right;\">\n",
              "      <th></th>\n",
              "      <th>Co-efficients</th>\n",
              "      <th>converted</th>\n",
              "    </tr>\n",
              "  </thead>\n",
              "  <tbody>\n",
              "    <tr>\n",
              "      <th>on road old</th>\n",
              "      <td>29749.587026</td>\n",
              "      <td>15.503499</td>\n",
              "    </tr>\n",
              "    <tr>\n",
              "      <th>on road now</th>\n",
              "      <td>28360.490478</td>\n",
              "      <td>14.779595</td>\n",
              "    </tr>\n",
              "    <tr>\n",
              "      <th>condition</th>\n",
              "      <td>12751.998443</td>\n",
              "      <td>6.645491</td>\n",
              "    </tr>\n",
              "    <tr>\n",
              "      <th>hp</th>\n",
              "      <td>540.931539</td>\n",
              "      <td>0.281897</td>\n",
              "    </tr>\n",
              "    <tr>\n",
              "      <th>rating</th>\n",
              "      <td>454.257130</td>\n",
              "      <td>0.236729</td>\n",
              "    </tr>\n",
              "    <tr>\n",
              "      <th>economy</th>\n",
              "      <td>377.162084</td>\n",
              "      <td>0.196552</td>\n",
              "    </tr>\n",
              "    <tr>\n",
              "      <th>torque</th>\n",
              "      <td>-136.811377</td>\n",
              "      <td>0.071297</td>\n",
              "    </tr>\n",
              "    <tr>\n",
              "      <th>top speed</th>\n",
              "      <td>-342.780475</td>\n",
              "      <td>0.178634</td>\n",
              "    </tr>\n",
              "    <tr>\n",
              "      <th>years</th>\n",
              "      <td>-2652.069449</td>\n",
              "      <td>1.382082</td>\n",
              "    </tr>\n",
              "    <tr>\n",
              "      <th>km</th>\n",
              "      <td>-116523.409138</td>\n",
              "      <td>60.724225</td>\n",
              "    </tr>\n",
              "  </tbody>\n",
              "</table>\n",
              "</div>"
            ],
            "text/plain": [
              "             Co-efficients  converted\n",
              "on road old   29749.587026  15.503499\n",
              "on road now   28360.490478  14.779595\n",
              "condition     12751.998443   6.645491\n",
              "hp              540.931539   0.281897\n",
              "rating          454.257130   0.236729\n",
              "economy         377.162084   0.196552\n",
              "torque         -136.811377   0.071297\n",
              "top speed      -342.780475   0.178634\n",
              "years         -2652.069449   1.382082\n",
              "km          -116523.409138  60.724225"
            ]
          },
          "metadata": {
            "tags": []
          },
          "execution_count": 88
        }
      ]
    },
    {
      "cell_type": "markdown",
      "metadata": {
        "id": "xcVJUN_5I10q"
      },
      "source": [
        "Standardized and then Split:\n",
        "\n",
        "__y = 308409.78 + 29461.2 `*` (on road old_std) + 28537.8 `*` (on road now_std) + 12825.4 `*` (condition_std)+ 537.4 `*` (hp_std) + 462.2 `*` (rating_std) + 375.8 `*` (economy_std) - 135.8 `*` (torque_std)- 341.4 `*` (top speed_std)- 2694 `*` (years_std)- 116014.6 `*` (km_std)__"
      ]
    },
    {
      "cell_type": "markdown",
      "metadata": {
        "id": "SPO-QcE8I9EZ"
      },
      "source": [
        "Split and then Standardized:\n",
        "\n",
        "__y = 308320.64 + 29749.6 `*` (on road old_std) + 28360.5 `*` (on road now_std) + 12752 `*` (condition_std)+ 540.93 `*` (hp_std) + 454.25 `*` (rating_std) + 377.2 `*` (economy_std) - 136.8 `*` (torque_std)- 342.8 `*` (top speed_std)- 2652 `*` (years_std)- 116523.4 `*` (km_std)__"
      ]
    },
    {
      "cell_type": "code",
      "metadata": {
        "id": "8lNfm2KhEhlJ"
      },
      "source": [
        "y_pred_train = lr_model_st1.predict(df_X_train_st)  "
      ],
      "execution_count": null,
      "outputs": []
    },
    {
      "cell_type": "code",
      "metadata": {
        "id": "SnjLJ43tEhlL"
      },
      "source": [
        "y_pred_test = lr_model_st1.predict(df_X_test_st)                # make predictions on the testing set"
      ],
      "execution_count": null,
      "outputs": []
    },
    {
      "cell_type": "code",
      "metadata": {
        "id": "L6CUKJT_EhlO"
      },
      "source": [
        "RMSE_train_st2 = np.sqrt( metrics.mean_squared_error(y_train, y_pred_train))\n",
        "RMSE_test_st2 = np.sqrt(metrics.mean_squared_error(y_test, y_pred_test))"
      ],
      "execution_count": null,
      "outputs": []
    },
    {
      "cell_type": "code",
      "metadata": {
        "id": "s9bPmIy7EhlS",
        "colab": {
          "base_uri": "https://localhost:8080/",
          "height": 51
        },
        "outputId": "0530bc78-affc-44b6-b9f2-732a8b4aa6d3"
      },
      "source": [
        "print('RMSE for training set is {}'.format(RMSE_train_st2))\n",
        "print('RMSE for test set is {}'.format(RMSE_test_st2))"
      ],
      "execution_count": null,
      "outputs": [
        {
          "output_type": "stream",
          "text": [
            "RMSE for training set is 8597.874376304058\n",
            "RMSE for test set is 9019.847482190697\n"
          ],
          "name": "stdout"
        }
      ]
    },
    {
      "cell_type": "code",
      "metadata": {
        "id": "pncUmvf-EhlU",
        "colab": {
          "base_uri": "https://localhost:8080/",
          "height": 34
        },
        "outputId": "69daca08-f551-467b-d86f-cabc3252c440"
      },
      "source": [
        "## The original Coefficients\n",
        "RMSE_test"
      ],
      "execution_count": null,
      "outputs": [
        {
          "output_type": "execute_result",
          "data": {
            "text/plain": [
              "43389.82315267"
            ]
          },
          "metadata": {
            "tags": []
          },
          "execution_count": 93
        }
      ]
    },
    {
      "cell_type": "code",
      "metadata": {
        "id": "YcZwLOXMEhlX",
        "colab": {
          "base_uri": "https://localhost:8080/",
          "height": 34
        },
        "outputId": "3bfd990d-955f-476a-ffb4-5dff1f0d3978"
      },
      "source": [
        "100* RMSE_test/data['current price'].mean()"
      ],
      "execution_count": null,
      "outputs": [
        {
          "output_type": "execute_result",
          "data": {
            "text/plain": [
              "14.063849684893851"
            ]
          },
          "metadata": {
            "tags": []
          },
          "execution_count": 94
        }
      ]
    },
    {
      "cell_type": "code",
      "metadata": {
        "id": "NKV0amy_EhlZ",
        "colab": {
          "base_uri": "https://localhost:8080/",
          "height": 34
        },
        "outputId": "b9edeffb-119b-49e9-c60d-c821a4f6f827"
      },
      "source": [
        "100*RMSE_test_st2/data['current price'].mean()"
      ],
      "execution_count": null,
      "outputs": [
        {
          "output_type": "execute_result",
          "data": {
            "text/plain": [
              "2.9235836874433603"
            ]
          },
          "metadata": {
            "tags": []
          },
          "execution_count": 95
        }
      ]
    },
    {
      "cell_type": "code",
      "metadata": {
        "id": "K4b6yWEpEhlb",
        "colab": {
          "base_uri": "https://localhost:8080/",
          "height": 51
        },
        "outputId": "5216a614-24c0-4d79-d28e-338ee081db8f"
      },
      "source": [
        "# r2_score is a standard metric in the sklearn library\n",
        "r2_train_st2 = metrics.r2_score(y_train, y_pred_train)\n",
        "r2_test_st2 = metrics.r2_score(y_test, y_pred_test)\n",
        "print('R-Squared of train data:',r2_train_st2)\n",
        "print('R-Squared of test data:',r2_test_st2)"
      ],
      "execution_count": null,
      "outputs": [
        {
          "output_type": "stream",
          "text": [
            "R-Squared of train data: 0.9954359487550467\n",
            "R-Squared of test data: 0.9945482202347281\n"
          ],
          "name": "stdout"
        }
      ]
    },
    {
      "cell_type": "code",
      "metadata": {
        "id": "n7It9pnfEhld",
        "colab": {
          "base_uri": "https://localhost:8080/",
          "height": 51
        },
        "outputId": "f982daee-e984-412e-cd42-9846762f6104"
      },
      "source": [
        "print('R-Squared of train data:',r2_train)\n",
        "print('R-Squared of test data:',r2_test)"
      ],
      "execution_count": null,
      "outputs": [
        {
          "output_type": "stream",
          "text": [
            "R-Squared of train data: 0.8779428684601269\n",
            "R-Squared of test data: 0.8675214801384524\n"
          ],
          "name": "stdout"
        }
      ]
    },
    {
      "cell_type": "code",
      "metadata": {
        "id": "WjQHR2Akw0D_",
        "colab": {
          "base_uri": "https://localhost:8080/",
          "height": 221
        },
        "outputId": "19b050de-f570-4d98-afa4-93c3ae5c9ac7"
      },
      "source": [
        "y_train_st"
      ],
      "execution_count": null,
      "outputs": [
        {
          "output_type": "execute_result",
          "data": {
            "text/plain": [
              "298    121022.0\n",
              "160    504643.5\n",
              "268    164382.0\n",
              "658    180368.5\n",
              "996    419748.0\n",
              "         ...   \n",
              "767    467074.5\n",
              "72     468543.0\n",
              "908    390756.5\n",
              "235    245796.0\n",
              "37     421781.0\n",
              "Name: current price, Length: 750, dtype: float64"
            ]
          },
          "metadata": {
            "tags": []
          },
          "execution_count": 102
        }
      ]
    },
    {
      "cell_type": "code",
      "metadata": {
        "id": "8U_AEKO4tjzg",
        "colab": {
          "base_uri": "https://localhost:8080/",
          "height": 1000
        },
        "outputId": "1d7b92ab-6b6d-4dce-dd32-d7b127e96b5a"
      },
      "source": [
        "X=X_train_st\n",
        "y=y_train\n",
        "X2 = sm.add_constant(X) \n",
        "est = sm.OLS(y, X2)\n",
        "est2 = est.fit()\n",
        "X2=sm.add_constant(X_test_st)\n",
        "y=y_test\n",
        "predictions = est2.predict(X2)\n",
        "print(predictions)\n",
        "print(\"r2_score\",metrics.r2_score(y,predictions))"
      ],
      "execution_count": null,
      "outputs": [
        {
          "output_type": "stream",
          "text": [
            "[381276.91888641 242373.02815812 302147.76521484 368577.75462387\n",
            " 303688.38049629 267936.14376727 105816.50669994 230960.32677306\n",
            " 346679.59879919 336846.89626488 279004.93297459 281762.76904705\n",
            " 399294.84488356 236777.37632454 276551.23202196 430764.26954316\n",
            " 426883.79630661 406135.44958023 498847.7918025  326340.09689473\n",
            " 447857.10141289 479450.81461043 336254.96230454 161911.0505372\n",
            " 165941.15880482 315230.47101073 491360.80590145 376567.80510077\n",
            " 402554.5302678  308236.3906391  482391.88151685 308218.10527731\n",
            " 526740.1626522  453261.55064493 310255.23873321 342183.80731656\n",
            " 302475.50927371 479953.67027232  71067.79795286 247602.07287467\n",
            " 185513.81356283 225770.77376261 307081.41853    353714.90334801\n",
            " 292632.47772116 214309.74918172 267970.4323383  438650.99586257\n",
            " 126527.97844781 198502.15636823 149480.71586096 311649.2387856\n",
            " 261598.94478693 198272.29999139 138066.57272581 445859.42126261\n",
            " 380013.48911348 164099.36712825 434594.00654612 458007.66216605\n",
            " 107231.23186615 544065.45202782 435493.6060133  194147.9403243\n",
            " 305942.7500214  298026.41343264 235792.5029699  393105.22446915\n",
            " 142288.8733304  282024.95516847 278650.59871488 336529.00858744\n",
            " 412808.60186724 195383.27533939 483216.16021622 211613.44683044\n",
            " 371078.45170153 347009.95398753 275592.17658287 141422.06438555\n",
            " 348397.17780506 381137.04486235 447192.80769979 378376.96744301\n",
            " 199120.48059143 168379.58734599 206743.09488143 388131.93630033\n",
            " 309556.82555051 304112.04148647 457596.6914311  467903.55914445\n",
            " 116305.17357218  57332.643799   165350.27868341 518435.93550723\n",
            " 110217.49891566 411000.97314253 121421.5707652  315032.5754839\n",
            " 179085.86126686 382106.62133631 238141.29723742 311984.39205315\n",
            " 272286.53871989 351126.14252152 404842.23665382 132837.92915061\n",
            " 301008.75790826 527313.67548698 153998.31590824 103314.78780848\n",
            " 322970.26691988 371034.22591295  54019.5602636  457475.96192608\n",
            " 247003.3804954  140630.36146025 380258.91260107 453227.22219093\n",
            " 215300.02966652 405129.50748909 240799.77175834 174359.88423956\n",
            " 125913.05718637 101281.50306182 280854.6299718  204578.69757457\n",
            " 425944.32684736 424758.3561424  189567.9742811  419947.03487663\n",
            " 329643.53419904 222970.06629611 413100.14689552 169923.81287641\n",
            " 447502.41036214 112821.63116404 322518.61886813 337523.53154657\n",
            " 508036.34415617 237132.7149941  556655.03105719 336476.9713974\n",
            " 433788.4759081  244580.76387431 230176.77862907 284468.22074676\n",
            " 413799.48208252 287693.35923307 302320.86110603 283969.70641138\n",
            " 472218.61556944 472745.01361791 386098.820059   373625.19217965\n",
            " 370108.28233909 100737.0497032  343556.92463342 464486.7703998\n",
            " 384908.50200086 356212.21782748 386820.7849678  464923.68239993\n",
            " 102679.17500508 191501.35407604 466754.36035297 228758.43777151\n",
            " 381880.69516304 500448.55927134 293441.46080677 420767.46245456\n",
            " 132561.26029233 178841.95747345 236774.18915208 340784.43000966\n",
            " 396018.93633602 204176.46292504 143485.38634728 222119.06329534\n",
            " 158038.85179169 234053.24500016 187946.99579006 182817.94070635\n",
            " 327725.72470961 481983.0100069  149060.44473958 107752.58965976\n",
            " 432575.97983029 319995.59262465 349278.41025568 229428.25440797\n",
            " 375442.75357339 501907.2348682  181169.48325068 139345.36649093\n",
            " 218850.48011669 418414.30274004 326829.68889911 530644.44875824\n",
            " 244175.85872782 106747.23157902 517655.84550849 325605.28568867\n",
            " 374005.90811901 274031.39783433 204909.70209656 347968.15499978\n",
            " 285972.49488364 473772.14513645 354027.36960428 193009.12129634\n",
            " 252700.70045064 257265.45756808 214786.23667908 236154.7695863\n",
            " 207257.43149124 432163.88699799 245238.11204984 258259.92796956\n",
            " 469464.46998337 242154.58554709 501182.24524773 226331.05696907\n",
            " 501153.79410684 261576.80116706 207552.92866503 300932.22799502\n",
            " 393483.19231936 421855.28323924 174068.74505749 456040.46583109\n",
            " 150551.85069658 432114.6896716  229883.09890582 146644.71415369\n",
            " 407417.58768749 249555.33570077 184135.98428923 510856.43417056\n",
            " 563030.54912553 355465.86551644 558241.38578434 276662.56909301\n",
            " 230176.3651681  392460.82641366 434623.22043907 420113.09381393\n",
            " 215644.92547206 237658.89522072]\n",
            "r2_score 0.9945482202347281\n"
          ],
          "name": "stdout"
        }
      ]
    },
    {
      "cell_type": "code",
      "metadata": {
        "id": "8KMXwIAltjz2",
        "colab": {
          "base_uri": "https://localhost:8080/",
          "height": 1000
        },
        "outputId": "f677034e-0927-4b73-d3a5-bffc3b2b185a"
      },
      "source": [
        "print(\"summary()\\n\",est2.summary())\n",
        "print(\"pvalues\\n\",est2.pvalues)\n",
        "print(\"tvalues\\n\",est2.tvalues)\n",
        "print(\"rsquared\\n\",est2.rsquared)\n",
        "print(\"rsquared_adj\\n\",est2.rsquared_adj)"
      ],
      "execution_count": null,
      "outputs": [
        {
          "output_type": "stream",
          "text": [
            "summary()\n",
            "                             OLS Regression Results                            \n",
            "==============================================================================\n",
            "Dep. Variable:          current price   R-squared:                       0.995\n",
            "Model:                            OLS   Adj. R-squared:                  0.995\n",
            "Method:                 Least Squares   F-statistic:                 1.612e+04\n",
            "Date:                Thu, 15 Oct 2020   Prob (F-statistic):               0.00\n",
            "Time:                        05:41:38   Log-Likelihood:                -7858.7\n",
            "No. Observations:                 750   AIC:                         1.574e+04\n",
            "Df Residuals:                     739   BIC:                         1.579e+04\n",
            "Df Model:                          10                                         \n",
            "Covariance Type:            nonrobust                                         \n",
            "==============================================================================\n",
            "                 coef    std err          t      P>|t|      [0.025      0.975]\n",
            "------------------------------------------------------------------------------\n",
            "const       3.083e+05    316.278    974.841      0.000    3.08e+05    3.09e+05\n",
            "x1          2.975e+04    317.735     93.630      0.000    2.91e+04    3.04e+04\n",
            "x2          2.836e+04    319.087     88.880      0.000    2.77e+04     2.9e+04\n",
            "x3         -2652.0694    318.191     -8.335      0.000   -3276.735   -2027.403\n",
            "x4         -1.165e+05    317.666   -366.811      0.000   -1.17e+05   -1.16e+05\n",
            "x5           454.2571    317.940      1.429      0.153    -169.916    1078.430\n",
            "x6          1.275e+04    318.552     40.031      0.000    1.21e+04    1.34e+04\n",
            "x7           377.1621    318.844      1.183      0.237    -248.786    1003.110\n",
            "x8          -342.7805    318.585     -1.076      0.282    -968.219     282.658\n",
            "x9           540.9315    318.469      1.699      0.090     -84.280    1166.143\n",
            "x10         -136.8114    317.536     -0.431      0.667    -760.192     486.569\n",
            "==============================================================================\n",
            "Omnibus:                       61.479   Durbin-Watson:                   1.996\n",
            "Prob(Omnibus):                  0.000   Jarque-Bera (JB):               74.205\n",
            "Skew:                           0.759   Prob(JB):                     7.70e-17\n",
            "Kurtosis:                       2.736   Cond. No.                         1.20\n",
            "==============================================================================\n",
            "\n",
            "Warnings:\n",
            "[1] Standard Errors assume that the covariance matrix of the errors is correctly specified.\n",
            "pvalues\n",
            " const     0.000000e+00\n",
            "x1        0.000000e+00\n",
            "x2        0.000000e+00\n",
            "x3        3.773891e-16\n",
            "x4        0.000000e+00\n",
            "x5        1.534982e-01\n",
            "x6       3.063780e-187\n",
            "x7        2.372271e-01\n",
            "x8        2.823017e-01\n",
            "x9        8.982709e-02\n",
            "x10       6.667012e-01\n",
            "dtype: float64\n",
            "tvalues\n",
            " const    974.840852\n",
            "x1        93.630165\n",
            "x2        88.880066\n",
            "x3        -8.334835\n",
            "x4      -366.810653\n",
            "x5         1.428752\n",
            "x6        40.031114\n",
            "x7         1.182905\n",
            "x8        -1.075948\n",
            "x9         1.698539\n",
            "x10       -0.430853\n",
            "dtype: float64\n",
            "rsquared\n",
            " 0.9954359487550467\n",
            "rsquared_adj\n",
            " 0.9953741889276454\n"
          ],
          "name": "stdout"
        }
      ]
    },
    {
      "cell_type": "markdown",
      "metadata": {
        "id": "-xg3y2CH_xmF"
      },
      "source": [
        "###R-squared and R-squared adjusted both got increased --> inclusion of the predictors seems a good model."
      ]
    },
    {
      "cell_type": "markdown",
      "metadata": {
        "id": "_cFyagHu7npS"
      },
      "source": [
        "## 7. Feature Selection\n",
        "\n",
        "At times some features do not contribute much to the accuracy of the model, in that case its better to discard those features.<br/> \n",
        "- Let's check with \"on road old\", \"on road now\" and \"km\" as final model features"
      ]
    },
    {
      "cell_type": "code",
      "metadata": {
        "id": "FMOemrus7npS"
      },
      "source": [
        "features_2 = ['on road old', 'on road now','km']                     # create a Python list of feature names\n",
        "X_train_2, X_test_2, y_train_2, y_test_2 = train_test_split(data[features_2], data[target], test_size=0.25, random_state=0)\n",
        "lr_model_2 = LinearRegression()"
      ],
      "execution_count": null,
      "outputs": []
    },
    {
      "cell_type": "code",
      "metadata": {
        "id": "vuzgUrNL7npU",
        "colab": {
          "base_uri": "https://localhost:8080/",
          "height": 34
        },
        "outputId": "a6c00985-5bed-4e2e-8dd5-1665366864c8"
      },
      "source": [
        "lr_model_2.fit(X_train_2,y_train_2)"
      ],
      "execution_count": null,
      "outputs": [
        {
          "output_type": "execute_result",
          "data": {
            "text/plain": [
              "LinearRegression(copy_X=True, fit_intercept=True, n_jobs=None, normalize=False)"
            ]
          },
          "metadata": {
            "tags": []
          },
          "execution_count": 106
        }
      ]
    },
    {
      "cell_type": "code",
      "metadata": {
        "scrolled": true,
        "id": "_M_mffNP7npZ",
        "colab": {
          "base_uri": "https://localhost:8080/",
          "height": 51
        },
        "outputId": "98c4830d-6b4e-4912-8707-5e40b55de676"
      },
      "source": [
        "print('Intercept:',lr_model_2.intercept_)          # print the intercept \n",
        "print('Coefficients:',lr_model_2.coef_)  "
      ],
      "execution_count": null,
      "outputs": [
        {
          "output_type": "stream",
          "text": [
            "Intercept: [14385.9556477]\n",
            "Coefficients: [[ 0.50116129  0.49395082 -4.0078177 ]]\n"
          ],
          "name": "stdout"
        }
      ]
    },
    {
      "cell_type": "code",
      "metadata": {
        "id": "7oZgmwyF7npd"
      },
      "source": [
        "coef2=pd.DataFrame((lr_model_2.coef_).T,index=X_train_2.columns,\\\n",
        "             columns=['Co-efficients']).sort_values('Co-efficients',ascending=False)"
      ],
      "execution_count": null,
      "outputs": []
    },
    {
      "cell_type": "code",
      "metadata": {
        "id": "Fvht2l6_7npf",
        "colab": {
          "base_uri": "https://localhost:8080/",
          "height": 142
        },
        "outputId": "598efbfb-708f-413b-be78-5c9b1511c703"
      },
      "source": [
        "coef2['converted'] = 100* coef2['Co-efficients'].abs()/(coef2['Co-efficients'].abs().sum())\n",
        "coef2"
      ],
      "execution_count": null,
      "outputs": [
        {
          "output_type": "execute_result",
          "data": {
            "text/html": [
              "<div>\n",
              "<style scoped>\n",
              "    .dataframe tbody tr th:only-of-type {\n",
              "        vertical-align: middle;\n",
              "    }\n",
              "\n",
              "    .dataframe tbody tr th {\n",
              "        vertical-align: top;\n",
              "    }\n",
              "\n",
              "    .dataframe thead th {\n",
              "        text-align: right;\n",
              "    }\n",
              "</style>\n",
              "<table border=\"1\" class=\"dataframe\">\n",
              "  <thead>\n",
              "    <tr style=\"text-align: right;\">\n",
              "      <th></th>\n",
              "      <th>Co-efficients</th>\n",
              "      <th>converted</th>\n",
              "    </tr>\n",
              "  </thead>\n",
              "  <tbody>\n",
              "    <tr>\n",
              "      <th>on road old</th>\n",
              "      <td>0.501161</td>\n",
              "      <td>10.017356</td>\n",
              "    </tr>\n",
              "    <tr>\n",
              "      <th>on road now</th>\n",
              "      <td>0.493951</td>\n",
              "      <td>9.873231</td>\n",
              "    </tr>\n",
              "    <tr>\n",
              "      <th>km</th>\n",
              "      <td>-4.007818</td>\n",
              "      <td>80.109413</td>\n",
              "    </tr>\n",
              "  </tbody>\n",
              "</table>\n",
              "</div>"
            ],
            "text/plain": [
              "             Co-efficients  converted\n",
              "on road old       0.501161  10.017356\n",
              "on road now       0.493951   9.873231\n",
              "km               -4.007818  80.109413"
            ]
          },
          "metadata": {
            "tags": []
          },
          "execution_count": 109
        }
      ]
    },
    {
      "cell_type": "code",
      "metadata": {
        "id": "jXwcWgbv7nph"
      },
      "source": [
        "y_pred_train_2 = lr_model_2.predict(X_train_2)  "
      ],
      "execution_count": null,
      "outputs": []
    },
    {
      "cell_type": "code",
      "metadata": {
        "id": "IQEQDMaD7npj"
      },
      "source": [
        "y_pred_test_2 = lr_model_2.predict(X_test_2)                # make predictions on the testing set"
      ],
      "execution_count": null,
      "outputs": []
    },
    {
      "cell_type": "code",
      "metadata": {
        "id": "w30U8QM97npm"
      },
      "source": [
        "RMSE_train_2 = np.sqrt( metrics.mean_squared_error(y_train_2, y_pred_train_2))\n",
        "RMSE_test_2 = np.sqrt(metrics.mean_squared_error(y_test_2, y_pred_test_2))"
      ],
      "execution_count": null,
      "outputs": []
    },
    {
      "cell_type": "code",
      "metadata": {
        "id": "p197Lu1z7npo",
        "colab": {
          "base_uri": "https://localhost:8080/",
          "height": 51
        },
        "outputId": "23895afa-533b-4ac7-f100-3375467f9d4e"
      },
      "source": [
        "print('RMSE for training set is {}'.format(RMSE_train_2))\n",
        "print('RMSE for test set is {}'.format(RMSE_test_2))"
      ],
      "execution_count": null,
      "outputs": [
        {
          "output_type": "stream",
          "text": [
            "RMSE for training set is 16217.613949969673\n",
            "RMSE for test set is 14493.685827921523\n"
          ],
          "name": "stdout"
        }
      ]
    },
    {
      "cell_type": "code",
      "metadata": {
        "id": "s_5IOgDt7npp"
      },
      "source": [
        "#RMSE_test_2 = 2.1"
      ],
      "execution_count": null,
      "outputs": []
    },
    {
      "cell_type": "code",
      "metadata": {
        "id": "SS2NFRcx7npr",
        "colab": {
          "base_uri": "https://localhost:8080/",
          "height": 34
        },
        "outputId": "97b79f1a-48db-4a6d-8b1a-1fdf38ab971d"
      },
      "source": [
        "RMSE_test_st2"
      ],
      "execution_count": null,
      "outputs": [
        {
          "output_type": "execute_result",
          "data": {
            "text/plain": [
              "9019.847482190697"
            ]
          },
          "metadata": {
            "tags": []
          },
          "execution_count": 115
        }
      ]
    },
    {
      "cell_type": "code",
      "metadata": {
        "id": "0tvMnGzi7npt"
      },
      "source": [
        "r2_test_2 = metrics.r2_score(y_test_2, y_pred_test_2)"
      ],
      "execution_count": null,
      "outputs": []
    },
    {
      "cell_type": "code",
      "metadata": {
        "id": "ZsLtAINT7npv",
        "colab": {
          "base_uri": "https://localhost:8080/",
          "height": 34
        },
        "outputId": "fcd36157-ef59-4209-89eb-8b4eab69dab4"
      },
      "source": [
        "r2_test_2"
      ],
      "execution_count": null,
      "outputs": [
        {
          "output_type": "execute_result",
          "data": {
            "text/plain": [
              "0.9852181975678582"
            ]
          },
          "metadata": {
            "tags": []
          },
          "execution_count": 117
        }
      ]
    },
    {
      "cell_type": "code",
      "metadata": {
        "scrolled": true,
        "id": "aK08D3Op7npy",
        "colab": {
          "base_uri": "https://localhost:8080/",
          "height": 34
        },
        "outputId": "fcbebd69-c2b4-4b3b-db56-fe668524c869"
      },
      "source": [
        "r2_test_st2"
      ],
      "execution_count": null,
      "outputs": [
        {
          "output_type": "execute_result",
          "data": {
            "text/plain": [
              "0.9945482202347281"
            ]
          },
          "metadata": {
            "tags": []
          },
          "execution_count": 118
        }
      ]
    },
    {
      "cell_type": "markdown",
      "metadata": {
        "id": "WIpv2LVD7np1"
      },
      "source": [
        "__y = 14385.95 + 0.501 `*` on road old + 0.494 `*` on road now - 4.007 `*` km__"
      ]
    },
    {
      "cell_type": "code",
      "metadata": {
        "id": "kieMvz887np1",
        "colab": {
          "base_uri": "https://localhost:8080/",
          "height": 419
        },
        "outputId": "721a277d-8970-411c-d881-6aa6d7bd34a7"
      },
      "source": [
        "X_test_2"
      ],
      "execution_count": null,
      "outputs": [
        {
          "output_type": "execute_result",
          "data": {
            "text/html": [
              "<div>\n",
              "<style scoped>\n",
              "    .dataframe tbody tr th:only-of-type {\n",
              "        vertical-align: middle;\n",
              "    }\n",
              "\n",
              "    .dataframe tbody tr th {\n",
              "        vertical-align: top;\n",
              "    }\n",
              "\n",
              "    .dataframe thead th {\n",
              "        text-align: right;\n",
              "    }\n",
              "</style>\n",
              "<table border=\"1\" class=\"dataframe\">\n",
              "  <thead>\n",
              "    <tr style=\"text-align: right;\">\n",
              "      <th></th>\n",
              "      <th>on road old</th>\n",
              "      <th>on road now</th>\n",
              "      <th>km</th>\n",
              "    </tr>\n",
              "  </thead>\n",
              "  <tbody>\n",
              "    <tr>\n",
              "      <th>993</th>\n",
              "      <td>601042</td>\n",
              "      <td>756860</td>\n",
              "      <td>92988</td>\n",
              "    </tr>\n",
              "    <tr>\n",
              "      <th>859</th>\n",
              "      <td>589700</td>\n",
              "      <td>754619</td>\n",
              "      <td>73033</td>\n",
              "    </tr>\n",
              "    <tr>\n",
              "      <th>298</th>\n",
              "      <td>547887</td>\n",
              "      <td>721567</td>\n",
              "      <td>126379</td>\n",
              "    </tr>\n",
              "    <tr>\n",
              "      <th>553</th>\n",
              "      <td>633198</td>\n",
              "      <td>860423</td>\n",
              "      <td>147282</td>\n",
              "    </tr>\n",
              "    <tr>\n",
              "      <th>672</th>\n",
              "      <td>515286</td>\n",
              "      <td>815528</td>\n",
              "      <td>118682</td>\n",
              "    </tr>\n",
              "    <tr>\n",
              "      <th>...</th>\n",
              "      <td>...</td>\n",
              "      <td>...</td>\n",
              "      <td>...</td>\n",
              "    </tr>\n",
              "    <tr>\n",
              "      <th>462</th>\n",
              "      <td>663065</td>\n",
              "      <td>840983</td>\n",
              "      <td>96129</td>\n",
              "    </tr>\n",
              "    <tr>\n",
              "      <th>356</th>\n",
              "      <td>514779</td>\n",
              "      <td>759061</td>\n",
              "      <td>132690</td>\n",
              "    </tr>\n",
              "    <tr>\n",
              "      <th>2</th>\n",
              "      <td>686990</td>\n",
              "      <td>770762</td>\n",
              "      <td>132538</td>\n",
              "    </tr>\n",
              "    <tr>\n",
              "      <th>478</th>\n",
              "      <td>636836</td>\n",
              "      <td>737079</td>\n",
              "      <td>133726</td>\n",
              "    </tr>\n",
              "    <tr>\n",
              "      <th>695</th>\n",
              "      <td>647186</td>\n",
              "      <td>834325</td>\n",
              "      <td>60666</td>\n",
              "    </tr>\n",
              "  </tbody>\n",
              "</table>\n",
              "<p>250 rows × 3 columns</p>\n",
              "</div>"
            ],
            "text/plain": [
              "     on road old  on road now      km\n",
              "993       601042       756860   92988\n",
              "859       589700       754619   73033\n",
              "298       547887       721567  126379\n",
              "553       633198       860423  147282\n",
              "672       515286       815528  118682\n",
              "..           ...          ...     ...\n",
              "462       663065       840983   96129\n",
              "356       514779       759061  132690\n",
              "2         686990       770762  132538\n",
              "478       636836       737079  133726\n",
              "695       647186       834325   60666\n",
              "\n",
              "[250 rows x 3 columns]"
            ]
          },
          "metadata": {
            "tags": []
          },
          "execution_count": 119
        }
      ]
    },
    {
      "cell_type": "code",
      "metadata": {
        "id": "pPUGkG2f7np4",
        "colab": {
          "base_uri": "https://localhost:8080/",
          "height": 419
        },
        "outputId": "b9380770-57fe-48fd-8a11-05f2145c097d"
      },
      "source": [
        "y_test_2"
      ],
      "execution_count": null,
      "outputs": [
        {
          "output_type": "execute_result",
          "data": {
            "text/html": [
              "<div>\n",
              "<style scoped>\n",
              "    .dataframe tbody tr th:only-of-type {\n",
              "        vertical-align: middle;\n",
              "    }\n",
              "\n",
              "    .dataframe tbody tr th {\n",
              "        vertical-align: top;\n",
              "    }\n",
              "\n",
              "    .dataframe thead th {\n",
              "        text-align: right;\n",
              "    }\n",
              "</style>\n",
              "<table border=\"1\" class=\"dataframe\">\n",
              "  <thead>\n",
              "    <tr style=\"text-align: right;\">\n",
              "      <th></th>\n",
              "      <th>current price</th>\n",
              "    </tr>\n",
              "  </thead>\n",
              "  <tbody>\n",
              "    <tr>\n",
              "      <th>993</th>\n",
              "      <td>307255.0</td>\n",
              "    </tr>\n",
              "    <tr>\n",
              "      <th>859</th>\n",
              "      <td>380928.5</td>\n",
              "    </tr>\n",
              "    <tr>\n",
              "      <th>298</th>\n",
              "      <td>121022.0</td>\n",
              "    </tr>\n",
              "    <tr>\n",
              "      <th>553</th>\n",
              "      <td>174352.5</td>\n",
              "    </tr>\n",
              "    <tr>\n",
              "      <th>672</th>\n",
              "      <td>190949.0</td>\n",
              "    </tr>\n",
              "    <tr>\n",
              "      <th>...</th>\n",
              "      <td>...</td>\n",
              "    </tr>\n",
              "    <tr>\n",
              "      <th>462</th>\n",
              "      <td>393351.0</td>\n",
              "    </tr>\n",
              "    <tr>\n",
              "      <th>356</th>\n",
              "      <td>109828.5</td>\n",
              "    </tr>\n",
              "    <tr>\n",
              "      <th>2</th>\n",
              "      <td>215386.0</td>\n",
              "    </tr>\n",
              "    <tr>\n",
              "      <th>478</th>\n",
              "      <td>155719.0</td>\n",
              "    </tr>\n",
              "    <tr>\n",
              "      <th>695</th>\n",
              "      <td>498712.0</td>\n",
              "    </tr>\n",
              "  </tbody>\n",
              "</table>\n",
              "<p>250 rows × 1 columns</p>\n",
              "</div>"
            ],
            "text/plain": [
              "     current price\n",
              "993       307255.0\n",
              "859       380928.5\n",
              "298       121022.0\n",
              "553       174352.5\n",
              "672       190949.0\n",
              "..             ...\n",
              "462       393351.0\n",
              "356       109828.5\n",
              "2         215386.0\n",
              "478       155719.0\n",
              "695       498712.0\n",
              "\n",
              "[250 rows x 1 columns]"
            ]
          },
          "metadata": {
            "tags": []
          },
          "execution_count": 120
        }
      ]
    },
    {
      "cell_type": "code",
      "metadata": {
        "id": "y0g_ePYnCR3a"
      },
      "source": [
        "#df=pd.DataFrame({'current price':y_test_2.flatten(), 'Predicted_current_price':y_pred_test_2.flatten()})\n",
        "#df"
      ],
      "execution_count": null,
      "outputs": []
    },
    {
      "cell_type": "code",
      "metadata": {
        "id": "EseEWwGG7np8",
        "colab": {
          "base_uri": "https://localhost:8080/",
          "height": 419
        },
        "outputId": "10fd380c-08a1-4e14-cade-1787e8885aad"
      },
      "source": [
        "a=X_test_2.join(y_test_2, lsuffix=\"_left\", rsuffix=\"_right\")\n",
        "a"
      ],
      "execution_count": null,
      "outputs": [
        {
          "output_type": "execute_result",
          "data": {
            "text/html": [
              "<div>\n",
              "<style scoped>\n",
              "    .dataframe tbody tr th:only-of-type {\n",
              "        vertical-align: middle;\n",
              "    }\n",
              "\n",
              "    .dataframe tbody tr th {\n",
              "        vertical-align: top;\n",
              "    }\n",
              "\n",
              "    .dataframe thead th {\n",
              "        text-align: right;\n",
              "    }\n",
              "</style>\n",
              "<table border=\"1\" class=\"dataframe\">\n",
              "  <thead>\n",
              "    <tr style=\"text-align: right;\">\n",
              "      <th></th>\n",
              "      <th>on road old</th>\n",
              "      <th>on road now</th>\n",
              "      <th>km</th>\n",
              "      <th>current price</th>\n",
              "    </tr>\n",
              "  </thead>\n",
              "  <tbody>\n",
              "    <tr>\n",
              "      <th>993</th>\n",
              "      <td>601042</td>\n",
              "      <td>756860</td>\n",
              "      <td>92988</td>\n",
              "      <td>307255.0</td>\n",
              "    </tr>\n",
              "    <tr>\n",
              "      <th>859</th>\n",
              "      <td>589700</td>\n",
              "      <td>754619</td>\n",
              "      <td>73033</td>\n",
              "      <td>380928.5</td>\n",
              "    </tr>\n",
              "    <tr>\n",
              "      <th>298</th>\n",
              "      <td>547887</td>\n",
              "      <td>721567</td>\n",
              "      <td>126379</td>\n",
              "      <td>121022.0</td>\n",
              "    </tr>\n",
              "    <tr>\n",
              "      <th>553</th>\n",
              "      <td>633198</td>\n",
              "      <td>860423</td>\n",
              "      <td>147282</td>\n",
              "      <td>174352.5</td>\n",
              "    </tr>\n",
              "    <tr>\n",
              "      <th>672</th>\n",
              "      <td>515286</td>\n",
              "      <td>815528</td>\n",
              "      <td>118682</td>\n",
              "      <td>190949.0</td>\n",
              "    </tr>\n",
              "    <tr>\n",
              "      <th>...</th>\n",
              "      <td>...</td>\n",
              "      <td>...</td>\n",
              "      <td>...</td>\n",
              "      <td>...</td>\n",
              "    </tr>\n",
              "    <tr>\n",
              "      <th>462</th>\n",
              "      <td>663065</td>\n",
              "      <td>840983</td>\n",
              "      <td>96129</td>\n",
              "      <td>393351.0</td>\n",
              "    </tr>\n",
              "    <tr>\n",
              "      <th>356</th>\n",
              "      <td>514779</td>\n",
              "      <td>759061</td>\n",
              "      <td>132690</td>\n",
              "      <td>109828.5</td>\n",
              "    </tr>\n",
              "    <tr>\n",
              "      <th>2</th>\n",
              "      <td>686990</td>\n",
              "      <td>770762</td>\n",
              "      <td>132538</td>\n",
              "      <td>215386.0</td>\n",
              "    </tr>\n",
              "    <tr>\n",
              "      <th>478</th>\n",
              "      <td>636836</td>\n",
              "      <td>737079</td>\n",
              "      <td>133726</td>\n",
              "      <td>155719.0</td>\n",
              "    </tr>\n",
              "    <tr>\n",
              "      <th>695</th>\n",
              "      <td>647186</td>\n",
              "      <td>834325</td>\n",
              "      <td>60666</td>\n",
              "      <td>498712.0</td>\n",
              "    </tr>\n",
              "  </tbody>\n",
              "</table>\n",
              "<p>250 rows × 4 columns</p>\n",
              "</div>"
            ],
            "text/plain": [
              "     on road old  on road now      km  current price\n",
              "993       601042       756860   92988       307255.0\n",
              "859       589700       754619   73033       380928.5\n",
              "298       547887       721567  126379       121022.0\n",
              "553       633198       860423  147282       174352.5\n",
              "672       515286       815528  118682       190949.0\n",
              "..           ...          ...     ...            ...\n",
              "462       663065       840983   96129       393351.0\n",
              "356       514779       759061  132690       109828.5\n",
              "2         686990       770762  132538       215386.0\n",
              "478       636836       737079  133726       155719.0\n",
              "695       647186       834325   60666       498712.0\n",
              "\n",
              "[250 rows x 4 columns]"
            ]
          },
          "metadata": {
            "tags": []
          },
          "execution_count": 121
        }
      ]
    },
    {
      "cell_type": "code",
      "metadata": {
        "id": "5SNSd4D_7np-"
      },
      "source": [
        "a['prediction']=14385.95 + 0.501 * a['on road old'] + 0.494 * a['on road now'] - 4.007 * a['km']"
      ],
      "execution_count": null,
      "outputs": []
    },
    {
      "cell_type": "code",
      "metadata": {
        "id": "Zz5v68Qi7nqC",
        "colab": {
          "base_uri": "https://localhost:8080/",
          "height": 204
        },
        "outputId": "5077eb61-7b75-4dc1-b3f6-4fbe243f4760"
      },
      "source": [
        "a.head()"
      ],
      "execution_count": null,
      "outputs": [
        {
          "output_type": "execute_result",
          "data": {
            "text/html": [
              "<div>\n",
              "<style scoped>\n",
              "    .dataframe tbody tr th:only-of-type {\n",
              "        vertical-align: middle;\n",
              "    }\n",
              "\n",
              "    .dataframe tbody tr th {\n",
              "        vertical-align: top;\n",
              "    }\n",
              "\n",
              "    .dataframe thead th {\n",
              "        text-align: right;\n",
              "    }\n",
              "</style>\n",
              "<table border=\"1\" class=\"dataframe\">\n",
              "  <thead>\n",
              "    <tr style=\"text-align: right;\">\n",
              "      <th></th>\n",
              "      <th>on road old</th>\n",
              "      <th>on road now</th>\n",
              "      <th>km</th>\n",
              "      <th>current price</th>\n",
              "      <th>prediction</th>\n",
              "    </tr>\n",
              "  </thead>\n",
              "  <tbody>\n",
              "    <tr>\n",
              "      <th>993</th>\n",
              "      <td>601042</td>\n",
              "      <td>756860</td>\n",
              "      <td>92988</td>\n",
              "      <td>307255.0</td>\n",
              "      <td>316793.916</td>\n",
              "    </tr>\n",
              "    <tr>\n",
              "      <th>859</th>\n",
              "      <td>589700</td>\n",
              "      <td>754619</td>\n",
              "      <td>73033</td>\n",
              "      <td>380928.5</td>\n",
              "      <td>389964.205</td>\n",
              "    </tr>\n",
              "    <tr>\n",
              "      <th>298</th>\n",
              "      <td>547887</td>\n",
              "      <td>721567</td>\n",
              "      <td>126379</td>\n",
              "      <td>121022.0</td>\n",
              "      <td>138930.782</td>\n",
              "    </tr>\n",
              "    <tr>\n",
              "      <th>553</th>\n",
              "      <td>633198</td>\n",
              "      <td>860423</td>\n",
              "      <td>147282</td>\n",
              "      <td>174352.5</td>\n",
              "      <td>166508.136</td>\n",
              "    </tr>\n",
              "    <tr>\n",
              "      <th>672</th>\n",
              "      <td>515286</td>\n",
              "      <td>815528</td>\n",
              "      <td>118682</td>\n",
              "      <td>190949.0</td>\n",
              "      <td>199856.294</td>\n",
              "    </tr>\n",
              "  </tbody>\n",
              "</table>\n",
              "</div>"
            ],
            "text/plain": [
              "     on road old  on road now      km  current price  prediction\n",
              "993       601042       756860   92988       307255.0  316793.916\n",
              "859       589700       754619   73033       380928.5  389964.205\n",
              "298       547887       721567  126379       121022.0  138930.782\n",
              "553       633198       860423  147282       174352.5  166508.136\n",
              "672       515286       815528  118682       190949.0  199856.294"
            ]
          },
          "metadata": {
            "tags": []
          },
          "execution_count": 123
        }
      ]
    },
    {
      "cell_type": "code",
      "metadata": {
        "id": "SC5aI7gc7nqF"
      },
      "source": [
        "a['error'] = a['current price'] - a['prediction']"
      ],
      "execution_count": null,
      "outputs": []
    },
    {
      "cell_type": "code",
      "metadata": {
        "id": "LOqsYqf57nqK",
        "colab": {
          "base_uri": "https://localhost:8080/",
          "height": 170
        },
        "outputId": "4eb800b3-70df-4f86-e908-084f12141314"
      },
      "source": [
        "a['error'].describe()"
      ],
      "execution_count": null,
      "outputs": [
        {
          "output_type": "execute_result",
          "data": {
            "text/plain": [
              "count      250.000000\n",
              "mean      -979.874276\n",
              "std      14490.274475\n",
              "min     -18025.572000\n",
              "25%      -9490.014250\n",
              "50%      -7450.415500\n",
              "75%       6675.399250\n",
              "max      42648.639000\n",
              "Name: error, dtype: float64"
            ]
          },
          "metadata": {
            "tags": []
          },
          "execution_count": 125
        }
      ]
    },
    {
      "cell_type": "code",
      "metadata": {
        "id": "XEVjQbsv7nqM",
        "colab": {
          "base_uri": "https://localhost:8080/",
          "height": 367
        },
        "outputId": "90d80d7e-61a3-42a6-882b-4354b8b048a1"
      },
      "source": [
        "a.plot.scatter(x='current price', y='prediction',\\\n",
        "                      figsize=(8,5), grid=True, title='Actual vs Predicted')"
      ],
      "execution_count": null,
      "outputs": [
        {
          "output_type": "execute_result",
          "data": {
            "text/plain": [
              "<matplotlib.axes._subplots.AxesSubplot at 0x7f16e91b9da0>"
            ]
          },
          "metadata": {
            "tags": []
          },
          "execution_count": 126
        },
        {
          "output_type": "display_data",
          "data": {
            "image/png": "[encoded data removed]",
            "text/plain": [
              "<Figure size 576x360 with 1 Axes>"
            ]
          },
          "metadata": {
            "tags": [],
            "needs_background": "light"
          }
        }
      ]
    },
    {
      "cell_type": "code",
      "metadata": {
        "scrolled": true,
        "id": "bM6Ipw-s7nqO",
        "colab": {
          "base_uri": "https://localhost:8080/",
          "height": 307
        },
        "outputId": "9ff10ae2-07d1-4ea3-f2ec-2bd1485bb515"
      },
      "source": [
        "sns.distplot(a['error'])"
      ],
      "execution_count": null,
      "outputs": [
        {
          "output_type": "execute_result",
          "data": {
            "text/plain": [
              "<matplotlib.axes._subplots.AxesSubplot at 0x7f16e918e630>"
            ]
          },
          "metadata": {
            "tags": []
          },
          "execution_count": 127
        },
        {
          "output_type": "display_data",
          "data": {
            "image/png": "[encoded data removed]",
            "text/plain": [
              "<Figure size 432x288 with 1 Axes>"
            ]
          },
          "metadata": {
            "tags": [],
            "needs_background": "light"
          }
        }
      ]
    },
    {
      "cell_type": "code",
      "metadata": {
        "id": "5cxXn2c-7nqS",
        "colab": {
          "base_uri": "https://localhost:8080/",
          "height": 350
        },
        "outputId": "88809a03-8eed-4dd1-e34e-f7cd18d30706"
      },
      "source": [
        "a.plot.scatter(x='current price', y='error',\\\n",
        "                      figsize=(8,5), grid=True, title='Error Distribution');"
      ],
      "execution_count": null,
      "outputs": [
        {
          "output_type": "display_data",
          "data": {
            "image/png": "[encoded data removed]",
            "text/plain": [
              "<Figure size 576x360 with 1 Axes>"
            ]
          },
          "metadata": {
            "tags": [],
            "needs_background": "light"
          }
        }
      ]
    },
    {
      "cell_type": "code",
      "metadata": {
        "id": "JNZyhzRt7nqU"
      },
      "source": [
        "a.to_csv('data_with_predictions.csv')"
      ],
      "execution_count": null,
      "outputs": []
    },
    {
      "cell_type": "code",
      "metadata": {
        "id": "HzgYiDEaD8hb",
        "colab": {
          "base_uri": "https://localhost:8080/",
          "height": 17
        },
        "outputId": "cdb93ee8-8b08-45c1-ac33-38a55ec46e1d"
      },
      "source": [
        "from google.colab import files\n",
        "a.to_csv('second_hand_car_price.csv') \n",
        "files.download('second_hand_car_price.csv')"
      ],
      "execution_count": null,
      "outputs": [
        {
          "output_type": "display_data",
          "data": {
            "application/javascript": [
              "\n",
              "    async function download(id, filename, size) {\n",
              "      if (!google.colab.kernel.accessAllowed) {\n",
              "        return;\n",
              "      }\n",
              "      const div = document.createElement('div');\n",
              "      const label = document.createElement('label');\n",
              "      label.textContent = `Downloading \"${filename}\": `;\n",
              "      div.appendChild(label);\n",
              "      const progress = document.createElement('progress');\n",
              "      progress.max = size;\n",
              "      div.appendChild(progress);\n",
              "      document.body.appendChild(div);\n",
              "\n",
              "      const buffers = [];\n",
              "      let downloaded = 0;\n",
              "\n",
              "      const channel = await google.colab.kernel.comms.open(id);\n",
              "      // Send a message to notify the kernel that we're ready.\n",
              "      channel.send({})\n",
              "\n",
              "      for await (const message of channel.messages) {\n",
              "        // Send a message to notify the kernel that we're ready.\n",
              "        channel.send({})\n",
              "        if (message.buffers) {\n",
              "          for (const buffer of message.buffers) {\n",
              "            buffers.push(buffer);\n",
              "            downloaded += buffer.byteLength;\n",
              "            progress.value = downloaded;\n",
              "          }\n",
              "        }\n",
              "      }\n",
              "      const blob = new Blob(buffers, {type: 'application/binary'});\n",
              "      const a = document.createElement('a');\n",
              "      a.href = window.URL.createObjectURL(blob);\n",
              "      a.download = filename;\n",
              "      div.appendChild(a);\n",
              "      a.click();\n",
              "      div.remove();\n",
              "    }\n",
              "  "
            ],
            "text/plain": [
              "<IPython.core.display.Javascript object>"
            ]
          },
          "metadata": {
            "tags": []
          }
        },
        {
          "output_type": "display_data",
          "data": {
            "application/javascript": [
              "download(\"download_a734b89a-d0f6-4c26-aa1e-be4042f95605\", \"second_hand_car_price.csv\", 17311)"
            ],
            "text/plain": [
              "<IPython.core.display.Javascript object>"
            ]
          },
          "metadata": {
            "tags": []
          }
        }
      ]
    },
    {
      "cell_type": "markdown",
      "metadata": {
        "id": "G1Vsg5pB7nqV"
      },
      "source": [
        "<a id=section8></a>"
      ]
    }
  ]
}